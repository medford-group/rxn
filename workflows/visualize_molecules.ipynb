{
 "cells": [
  {
   "cell_type": "code",
   "execution_count": 1,
   "metadata": {},
   "outputs": [
    {
     "ename": "ModuleNotFoundError",
     "evalue": "No module named 'imolecule'",
     "output_type": "error",
     "traceback": [
      "\u001b[0;31m---------------------------------------------------------------------------\u001b[0m",
      "\u001b[0;31mModuleNotFoundError\u001b[0m                       Traceback (most recent call last)",
      "\u001b[0;32m<ipython-input-1-ec00dd10f5dd>\u001b[0m in \u001b[0;36m<module>\u001b[0;34m()\u001b[0m\n\u001b[1;32m      2\u001b[0m \u001b[0msys\u001b[0m\u001b[0;34m.\u001b[0m\u001b[0mpath\u001b[0m\u001b[0;34m.\u001b[0m\u001b[0minsert\u001b[0m\u001b[0;34m(\u001b[0m\u001b[0;36m0\u001b[0m\u001b[0;34m,\u001b[0m\u001b[0;34m'../'\u001b[0m\u001b[0;34m)\u001b[0m \u001b[0;31m#enable loading rxn package\u001b[0m\u001b[0;34m\u001b[0m\u001b[0m\n\u001b[1;32m      3\u001b[0m \u001b[0;34m\u001b[0m\u001b[0m\n\u001b[0;32m----> 4\u001b[0;31m \u001b[0;32mimport\u001b[0m \u001b[0mimolecule\u001b[0m\u001b[0;34m\u001b[0m\u001b[0m\n\u001b[0m\u001b[1;32m      5\u001b[0m \u001b[0;32mfrom\u001b[0m \u001b[0mrxn\u001b[0m\u001b[0;34m.\u001b[0m\u001b[0mdata_structures\u001b[0m \u001b[0;32mimport\u001b[0m \u001b[0mMolGraph\u001b[0m\u001b[0;34m\u001b[0m\u001b[0m\n",
      "\u001b[0;31mModuleNotFoundError\u001b[0m: No module named 'imolecule'"
     ]
    }
   ],
   "source": [
    "import sys\n",
    "sys.path.insert(0,'../') #enable loading rxn package\n",
    "\n",
    "import imolecule\n",
    "from rxn.data_structures import MolGraph"
   ]
  },
  {
   "cell_type": "markdown",
   "metadata": {},
   "source": [
    "We can generate a molecule graph and visualize it using imolecule. Note that MolGraph inherits all the graph methods of the [networkx Graph class](https://networkx.github.io/documentation/networkx-1.10/tutorial/tutorial.html)."
   ]
  },
  {
   "cell_type": "code",
   "execution_count": 2,
   "metadata": {},
   "outputs": [
    {
     "name": "stdout",
     "output_type": "stream",
     "text": [
      "MolGraph({'bonds': [{'order': 1, 'atoms': [0, 2]}, {'order': 1, 'atoms': [0, 3]}, {'order': 1, 'atoms': [0, 4]}, {'order': 1, 'atoms': [1, 6]}, {'order': 1, 'atoms': [1, 3]}, {'order': 1, 'atoms': [3, 5]}, {'order': 1, 'atoms': [4, 7]}], 'atoms': [{'charge': -0.115194, 'location': [0.240315, -0.604416, -0.522674], 'element': 'N'}, {'charge': -0.298539, 'location': [-1.685265, 0.377828, 0.380465], 'element': 'O'}, {'charge': 0.175753, 'location': [-0.06081, -0.519844, -1.502873], 'element': 'H'}, {'charge': -0.115194, 'location': [-0.244389, 0.468283, 0.258391], 'element': 'N'}, {'charge': -0.298539, 'location': [1.677716, -0.505308, -0.639489], 'element': 'O'}, {'charge': 0.175753, 'location': [0.043011, 0.328248, 1.232204], 'element': 'H'}, {'charge': 0.23798, 'location': [-1.920072, 1.306183, 0.560072], 'element': 'H'}, {'charge': 0.23798, 'location': [1.949494, -0.850974, 0.233904], 'element': 'H'}]})\n",
      "HOHNHONH\n"
     ]
    }
   ],
   "source": [
    "molecule = MolGraph()\n",
    "molecule.generate('ONNO',data_format='smi') #generate N2O2H4 using \"SMILES\" string.\n",
    "print(repr(molecule)) #print full dictionary representation\n",
    "print(str(molecule)) # print shorthand string notation"
   ]
  },
  {
   "cell_type": "code",
   "execution_count": 3,
   "metadata": {},
   "outputs": [
    {
     "data": {
      "text/html": [
       "<div id=\"molecule_ef653bee-4ab8-494c-8747-73fb7662944f\"></div>\n",
       "           <script type=\"text/javascript\">\n",
       "           require.config({baseUrl: '/',\n",
       "                           paths: {imolecule: ['nbextensions/imolecule.min', 'https://rawgit.com/patrickfuller/imolecule/master/imolecule/js/build/imolecule.min']}});\n",
       "           require(['imolecule'], function () {\n",
       "               var $d = $('#molecule_ef653bee-4ab8-494c-8747-73fb7662944f');\n",
       "               $d.width(400); $d.height(300);\n",
       "               $d.imolecule = jQuery.extend({}, imolecule);\n",
       "               $d.imolecule.create($d, {drawingType: 'ball and stick',\n",
       "                                        cameraType: 'perspective',\n",
       "                                        shader: 'lambert',\n",
       "                                        showSave: false});\n",
       "               $d.imolecule.addElements({});\n",
       "               $d.imolecule.draw({\"atoms\":[{\"charge\":-0.115194,\"element\":\"N\",\"location\":[0.240315,-0.604416,-0.522674]},{\"charge\":-0.298539,\"element\":\"O\",\"location\":[-1.685265,0.377828,0.380465]},{\"charge\":0.175753,\"element\":\"H\",\"location\":[-0.060810,-0.519844,-1.502873]},{\"charge\":-0.115194,\"element\":\"N\",\"location\":[-0.244389,0.468283,0.258391]},{\"charge\":-0.298539,\"element\":\"O\",\"location\":[1.677716,-0.505308,-0.639489]},{\"charge\":0.175753,\"element\":\"H\",\"location\":[0.043011,0.328248,1.232204]},{\"charge\":0.237980,\"element\":\"H\",\"location\":[-1.920072,1.306183,0.560072]},{\"charge\":0.237980,\"element\":\"H\",\"location\":[1.949494,-0.850974,0.233904]}],\"bonds\":[{\"atoms\":[0,2],\"order\":1},{\"atoms\":[0,3],\"order\":1},{\"atoms\":[0,4],\"order\":1},{\"atoms\":[1,6],\"order\":1},{\"atoms\":[1,3],\"order\":1},{\"atoms\":[3,5],\"order\":1},{\"atoms\":[4,7],\"order\":1}],\"formula\":\"H4N2O2\",\"molecular_weight\":64.043960,\"units\":{\"molecular_weight\":\"g / mol\"}});\n",
       "\n",
       "               $d.resizable({\n",
       "                   aspectRatio: 400 / 300,\n",
       "                   resize: function (evt, ui) {\n",
       "                       $d.imolecule.renderer.setSize(ui.size.width,\n",
       "                                                     ui.size.height);\n",
       "                   }\n",
       "               });\n",
       "           });\n",
       "           </script>"
      ],
      "text/plain": [
       "<IPython.core.display.HTML object>"
      ]
     },
     "metadata": {},
     "output_type": "display_data"
    },
    {
     "name": "stdout",
     "output_type": "stream",
     "text": [
      "['N[0.240315, -0.604416, -0.522674]', 'O[-1.685265, 0.377828, 0.380465]', 'H[-0.06081, -0.519844, -1.502873]', 'N[-0.244389, 0.468283, 0.258391]', 'O[1.677716, -0.505308, -0.639489]', 'H[0.043011, 0.328248, 1.232204]', 'H[-1.920072, 1.306183, 0.560072]', 'H[1.949494, -0.850974, 0.233904]']\n"
     ]
    }
   ],
   "source": [
    "imolecule.draw(molecule.to_dict(),format='json') #visualize using imolecule\n",
    "print(molecule.nodes()) #show the nodes of the graph.\n",
    "nodes = sorted(molecule.nodes()) \n",
    "#note that node ordering is random by default. Ordering the nodes will make the workflow repeatable"
   ]
  },
  {
   "cell_type": "markdown",
   "metadata": {},
   "source": [
    "Note that node names are defined by the element name and atomic position of each atom. These node names are *static* and *arbitrary*. Static means that if you change positions of atoms within the graph structure the node names will not dynamically update. Arbitrary means that the graph properties do not depend on the names of the nodes. Next we can test a few convenient features of the MolGraph class, such as identifying equivalent isomers (regardless of atomic labels or positions). We will start by generating some test data."
   ]
  },
  {
   "cell_type": "code",
   "execution_count": 4,
   "metadata": {},
   "outputs": [
    {
     "data": {
      "text/html": [
       "<div id=\"molecule_2bdf2b2d-6e01-4a81-8c61-e15dca7d7cdf\"></div>\n",
       "           <script type=\"text/javascript\">\n",
       "           require.config({baseUrl: '/',\n",
       "                           paths: {imolecule: ['nbextensions/imolecule.min', 'https://rawgit.com/patrickfuller/imolecule/master/imolecule/js/build/imolecule.min']}});\n",
       "           require(['imolecule'], function () {\n",
       "               var $d = $('#molecule_2bdf2b2d-6e01-4a81-8c61-e15dca7d7cdf');\n",
       "               $d.width(400); $d.height(300);\n",
       "               $d.imolecule = jQuery.extend({}, imolecule);\n",
       "               $d.imolecule.create($d, {drawingType: 'ball and stick',\n",
       "                                        cameraType: 'perspective',\n",
       "                                        shader: 'lambert',\n",
       "                                        showSave: false});\n",
       "               $d.imolecule.addElements({});\n",
       "               $d.imolecule.draw({\"atoms\":[{\"charge\":-0.115194,\"element\":\"N\",\"location\":[0.231628,-0.678679,-0.737370]},{\"charge\":-0.298539,\"element\":\"O\",\"location\":[-1.693952,0.303565,0.165769]},{\"charge\":0.237980,\"element\":\"H\",\"location\":[-1.928759,1.231920,0.345376]},{\"charge\":-0.115194,\"element\":\"N\",\"location\":[-0.253076,0.394020,0.043695]},{\"charge\":-0.298539,\"element\":\"O\",\"location\":[1.669029,-0.579571,-0.854185]},{\"charge\":0.175753,\"element\":\"H\",\"location\":[0.034324,0.253985,1.017508]},{\"charge\":0.237980,\"element\":\"H\",\"location\":[1.940807,-0.925237,0.019208]}],\"bonds\":[{\"atoms\":[0,3],\"order\":1},{\"atoms\":[0,4],\"order\":1},{\"atoms\":[1,2],\"order\":1},{\"atoms\":[1,3],\"order\":1},{\"atoms\":[3,5],\"order\":1},{\"atoms\":[4,6],\"order\":1}],\"formula\":\"H3N2O2\",\"molecular_weight\":64.043960,\"units\":{\"molecular_weight\":\"g / mol\"}});\n",
       "\n",
       "               $d.resizable({\n",
       "                   aspectRatio: 400 / 300,\n",
       "                   resize: function (evt, ui) {\n",
       "                       $d.imolecule.renderer.setSize(ui.size.width,\n",
       "                                                     ui.size.height);\n",
       "                   }\n",
       "               });\n",
       "           });\n",
       "           </script>"
      ],
      "text/plain": [
       "<IPython.core.display.HTML object>"
      ]
     },
     "metadata": {},
     "output_type": "display_data"
    },
    {
     "data": {
      "text/html": [
       "<div id=\"molecule_83475825-6223-4735-ac8b-552527c4846e\"></div>\n",
       "           <script type=\"text/javascript\">\n",
       "           require.config({baseUrl: '/',\n",
       "                           paths: {imolecule: ['nbextensions/imolecule.min', 'https://rawgit.com/patrickfuller/imolecule/master/imolecule/js/build/imolecule.min']}});\n",
       "           require(['imolecule'], function () {\n",
       "               var $d = $('#molecule_83475825-6223-4735-ac8b-552527c4846e');\n",
       "               $d.width(400); $d.height(300);\n",
       "               $d.imolecule = jQuery.extend({}, imolecule);\n",
       "               $d.imolecule.create($d, {drawingType: 'ball and stick',\n",
       "                                        cameraType: 'perspective',\n",
       "                                        shader: 'lambert',\n",
       "                                        showSave: false});\n",
       "               $d.imolecule.addElements({});\n",
       "               $d.imolecule.draw({\"atoms\":[{\"charge\":-0.115194,\"element\":\"N\",\"location\":[0.246459,-0.557523,-0.346645]},{\"charge\":-0.298539,\"element\":\"O\",\"location\":[-1.679121,0.424721,0.556494]},{\"charge\":0.237980,\"element\":\"H\",\"location\":[-1.913928,1.353076,0.736101]},{\"charge\":-0.115194,\"element\":\"N\",\"location\":[-0.238245,0.515176,0.434420]},{\"charge\":-0.298539,\"element\":\"O\",\"location\":[1.683860,-0.458415,-0.463460]},{\"charge\":0.175753,\"element\":\"H\",\"location\":[-0.054666,-0.472951,-1.326844]},{\"charge\":0.237980,\"element\":\"H\",\"location\":[1.955638,-0.804081,0.409933]}],\"bonds\":[{\"atoms\":[0,5],\"order\":1},{\"atoms\":[0,3],\"order\":1},{\"atoms\":[0,4],\"order\":1},{\"atoms\":[1,2],\"order\":1},{\"atoms\":[1,3],\"order\":1},{\"atoms\":[4,6],\"order\":1}],\"formula\":\"H3N2O2\",\"molecular_weight\":64.043960,\"units\":{\"molecular_weight\":\"g / mol\"}});\n",
       "\n",
       "               $d.resizable({\n",
       "                   aspectRatio: 400 / 300,\n",
       "                   resize: function (evt, ui) {\n",
       "                       $d.imolecule.renderer.setSize(ui.size.width,\n",
       "                                                     ui.size.height);\n",
       "                   }\n",
       "               });\n",
       "           });\n",
       "           </script>"
      ],
      "text/plain": [
       "<IPython.core.display.HTML object>"
      ]
     },
     "metadata": {},
     "output_type": "display_data"
    },
    {
     "data": {
      "text/html": [
       "<div id=\"molecule_8e876efa-c818-496b-be5e-0b8bab74878b\"></div>\n",
       "           <script type=\"text/javascript\">\n",
       "           require.config({baseUrl: '/',\n",
       "                           paths: {imolecule: ['nbextensions/imolecule.min', 'https://rawgit.com/patrickfuller/imolecule/master/imolecule/js/build/imolecule.min']}});\n",
       "           require(['imolecule'], function () {\n",
       "               var $d = $('#molecule_8e876efa-c818-496b-be5e-0b8bab74878b');\n",
       "               $d.width(400); $d.height(300);\n",
       "               $d.imolecule = jQuery.extend({}, imolecule);\n",
       "               $d.imolecule.create($d, {drawingType: 'ball and stick',\n",
       "                                        cameraType: 'perspective',\n",
       "                                        shader: 'lambert',\n",
       "                                        showSave: false});\n",
       "               $d.imolecule.addElements({});\n",
       "               $d.imolecule.draw({\"atoms\":[{\"charge\":-0.115194,\"element\":\"N\",\"location\":[-0.033981,-0.417818,-0.442664]},{\"charge\":-0.298539,\"element\":\"O\",\"location\":[-1.959561,0.564426,0.460475]},{\"charge\":-0.115194,\"element\":\"N\",\"location\":[-0.518685,0.654881,0.338401]},{\"charge\":-0.298539,\"element\":\"O\",\"location\":[1.403420,-0.318710,-0.559479]},{\"charge\":0.175753,\"element\":\"H\",\"location\":[-0.231285,0.514846,1.312214]},{\"charge\":0.175753,\"element\":\"H\",\"location\":[-0.335106,-0.333246,-1.422863]},{\"charge\":0.237980,\"element\":\"H\",\"location\":[1.675198,-0.664376,0.313914]}],\"bonds\":[{\"atoms\":[0,5],\"order\":1},{\"atoms\":[0,2],\"order\":1},{\"atoms\":[0,3],\"order\":1},{\"atoms\":[1,2],\"order\":1},{\"atoms\":[2,4],\"order\":1},{\"atoms\":[3,6],\"order\":1}],\"formula\":\"H3N2O2\",\"molecular_weight\":64.043960,\"units\":{\"molecular_weight\":\"g / mol\"}});\n",
       "\n",
       "               $d.resizable({\n",
       "                   aspectRatio: 400 / 300,\n",
       "                   resize: function (evt, ui) {\n",
       "                       $d.imolecule.renderer.setSize(ui.size.width,\n",
       "                                                     ui.size.height);\n",
       "                   }\n",
       "               });\n",
       "           });\n",
       "           </script>"
      ],
      "text/plain": [
       "<IPython.core.display.HTML object>"
      ]
     },
     "metadata": {},
     "output_type": "display_data"
    }
   ],
   "source": [
    "HONHNHO = molecule.copy()\n",
    "HONHNHO.remove_node(nodes[0])\n",
    "imolecule.draw(HONHNHO.to_dict(),format='json')\n",
    "\n",
    "ONHNHOH = molecule.copy()\n",
    "ONHNHOH.remove_node(nodes[2])\n",
    "imolecule.draw(ONHNHOH.to_dict(),format='json')\n",
    "\n",
    "HONNHOH = molecule.copy()\n",
    "HONNHOH.remove_node(nodes[1])\n",
    "imolecule.draw(HONNHOH.to_dict(),format='json')"
   ]
  },
  {
   "cell_type": "markdown",
   "metadata": {},
   "source": [
    "All of these molecules have the same composition, but the first two have the same bond structure, while the third has a different bond structure. We can check that the MolGraph data structure knows this."
   ]
  },
  {
   "cell_type": "code",
   "execution_count": 5,
   "metadata": {},
   "outputs": [
    {
     "name": "stdout",
     "output_type": "stream",
     "text": [
      "True\n",
      "False\n"
     ]
    }
   ],
   "source": [
    "print(HONHNHO == ONHNHOH) #check that 1 and 2 are equal\n",
    "print(HONHNHO == HONNHOH) #check that 1 and 3 are not equal"
   ]
  },
  {
   "cell_type": "markdown",
   "metadata": {},
   "source": [
    "We can also test that MolGraph only analyzes molecular *topology*, i.e. bond structure, and does not care about the actual positions of atoms, lengths of bonds, or labels of nodes."
   ]
  },
  {
   "cell_type": "code",
   "execution_count": 6,
   "metadata": {},
   "outputs": [
    {
     "name": "stdout",
     "output_type": "stream",
     "text": [
      "Old location: [0.240315, -0.604416, -0.522674]\n",
      "New location: [1.240315, -0.604416, -0.522674]\n"
     ]
    },
    {
     "data": {
      "text/html": [
       "<div id=\"molecule_09d4cdad-e543-41b7-a40a-ff561f1b2de7\"></div>\n",
       "           <script type=\"text/javascript\">\n",
       "           require.config({baseUrl: '/',\n",
       "                           paths: {imolecule: ['nbextensions/imolecule.min', 'https://rawgit.com/patrickfuller/imolecule/master/imolecule/js/build/imolecule.min']}});\n",
       "           require(['imolecule'], function () {\n",
       "               var $d = $('#molecule_09d4cdad-e543-41b7-a40a-ff561f1b2de7');\n",
       "               $d.width(400); $d.height(300);\n",
       "               $d.imolecule = jQuery.extend({}, imolecule);\n",
       "               $d.imolecule.create($d, {drawingType: 'ball and stick',\n",
       "                                        cameraType: 'perspective',\n",
       "                                        shader: 'lambert',\n",
       "                                        showSave: false});\n",
       "               $d.imolecule.addElements({});\n",
       "               $d.imolecule.draw({\"atoms\":[{\"charge\":-0.115194,\"element\":\"N\",\"location\":[1.115315,-0.604416,-0.522674]},{\"charge\":-0.298539,\"element\":\"O\",\"location\":[-1.810265,0.377828,0.380465]},{\"charge\":0.237980,\"element\":\"H\",\"location\":[-2.045072,1.306183,0.560072]},{\"charge\":-0.115194,\"element\":\"N\",\"location\":[-0.369389,0.468283,0.258391]},{\"charge\":-0.298539,\"element\":\"O\",\"location\":[1.552716,-0.505308,-0.639489]},{\"charge\":0.175753,\"element\":\"H\",\"location\":[-0.081989,0.328248,1.232204]},{\"charge\":0.175753,\"element\":\"H\",\"location\":[-0.185810,-0.519844,-1.502873]},{\"charge\":0.237980,\"element\":\"H\",\"location\":[1.824494,-0.850974,0.233904]}],\"bonds\":[{\"atoms\":[0,6],\"order\":1},{\"atoms\":[0,3],\"order\":1},{\"atoms\":[0,4],\"order\":1},{\"atoms\":[1,2],\"order\":1},{\"atoms\":[1,3],\"order\":1},{\"atoms\":[3,5],\"order\":1},{\"atoms\":[4,7],\"order\":1}],\"formula\":\"H4N2O2\",\"molecular_weight\":64.043960,\"units\":{\"molecular_weight\":\"g / mol\"}});\n",
       "\n",
       "               $d.resizable({\n",
       "                   aspectRatio: 400 / 300,\n",
       "                   resize: function (evt, ui) {\n",
       "                       $d.imolecule.renderer.setSize(ui.size.width,\n",
       "                                                     ui.size.height);\n",
       "                   }\n",
       "               });\n",
       "           });\n",
       "           </script>"
      ],
      "text/plain": [
       "<IPython.core.display.HTML object>"
      ]
     },
     "metadata": {},
     "output_type": "display_data"
    },
    {
     "name": "stdout",
     "output_type": "stream",
     "text": [
      "Equivalent to original? True\n"
     ]
    }
   ],
   "source": [
    "ONNO_0 = molecule.copy()\n",
    "atom_labels = ONNO_0.nodes()\n",
    "atom_0 = ONNO_0.node[atom_labels[0]]\n",
    "print('Old location: {}'.format(atom_0['location']))\n",
    "atom_0['location'][0] +=1\n",
    "print('New location: {}'.format(atom_0['location']))\n",
    "imolecule.draw(ONNO_0.to_dict(),format='json')\n",
    "print('Equivalent to original? {}'.format(ONNO_0 == molecule))"
   ]
  },
  {
   "cell_type": "markdown",
   "metadata": {},
   "source": [
    "Clearly these molecules are different, but they have the same topology and are hence considered equivalent. This is a useful feature since it ignores minor differences in molecular structure, but it can also be dangerous if you do not understand its limitations.\n",
    "\n",
    "Finally, let's make sure that MolGraph doesn't care about node labels."
   ]
  },
  {
   "cell_type": "code",
   "execution_count": 7,
   "metadata": {},
   "outputs": [
    {
     "name": "stdout",
     "output_type": "stream",
     "text": [
      "Original Nodes: ['N[0.240315, -0.604416, -0.522674]', 'O[-1.685265, 0.377828, 0.380465]', 'H[-0.06081, -0.519844, -1.502873]', 'N[-0.244389, 0.468283, 0.258391]', 'O[1.677716, -0.505308, -0.639489]', 'H[0.043011, 0.328248, 1.232204]', 'H[-1.920072, 1.306183, 0.560072]', 'H[1.949494, -0.850974, 0.233904]']\n",
      "Integer Nodes: [0, 1, 2, 3, 4, 5, 6, 7]\n",
      "Are the equivalent? True\n"
     ]
    }
   ],
   "source": [
    "import networkx as nx\n",
    "int_molecule = nx.relabel.convert_node_labels_to_integers(molecule)\n",
    "print('Original Nodes: {}'.format(molecule.nodes()))\n",
    "print('Integer Nodes: {}'.format(int_molecule.nodes()))\n",
    "print('Are the equivalent? {}'.format(molecule == int_molecule))"
   ]
  },
  {
   "cell_type": "markdown",
   "metadata": {},
   "source": [
    "So clearly node labels do not matter. However, it is worth noting that if you try to add multiple nodes with the same label to the same MolGraph then they will overwrite. This can also be very dangerous."
   ]
  },
  {
   "cell_type": "code",
   "execution_count": null,
   "metadata": {
    "collapsed": true
   },
   "outputs": [],
   "source": []
  }
 ],
 "metadata": {
  "anaconda-cloud": {},
  "kernelspec": {
   "display_name": "Python [conda env:rxngraph]",
   "language": "python",
   "name": "conda-env-rxngraph-py"
  },
  "language_info": {
   "codemirror_mode": {
    "name": "ipython",
    "version": 2
   },
   "file_extension": ".py",
   "mimetype": "text/x-python",
   "name": "python",
   "nbconvert_exporter": "python",
   "pygments_lexer": "ipython2",
   "version": "2.7.13"
  }
 },
 "nbformat": 4,
 "nbformat_minor": 2
}
