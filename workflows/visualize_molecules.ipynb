{
 "cells": [
  {
   "cell_type": "code",
   "execution_count": 1,
   "metadata": {
    "collapsed": true
   },
   "outputs": [],
   "source": [
    "import sys\n",
    "sys.path.insert(0,'../') #enable loading rxn package\n",
    "\n",
    "import imolecule\n",
    "from rxn.data_structures import MolGraph"
   ]
  },
  {
   "cell_type": "markdown",
   "metadata": {},
   "source": [
    "We can generate a molecule graph and visualize it using imolecule. Note that MolGraph inherits all the graph methods of the [networkx Graph class](https://networkx.github.io/documentation/networkx-1.10/tutorial/tutorial.html)."
   ]
  },
  {
   "cell_type": "code",
   "execution_count": 2,
   "metadata": {},
   "outputs": [
    {
     "name": "stdout",
     "output_type": "stream",
     "text": [
      "MolGraph({'bonds': [{'order': 1, 'atoms': [0, 4]}, {'order': 1, 'atoms': [0, 3]}, {'order': 1, 'atoms': [0, 1]}, {'order': 1, 'atoms': [1, 2]}, {'order': 1, 'atoms': [1, 6]}, {'order': 1, 'atoms': [3, 5]}, {'order': 1, 'atoms': [6, 7]}], 'atoms': [{'charge': -0.115194, 'location': [0.240315, 0.798261, -0.035857], 'element': 'N'}, {'charge': -0.115194, 'location': [-0.244389, -0.517724, 0.134226], 'element': 'N'}, {'charge': 0.175753, 'location': [0.043011, -1.085406, -0.669302], 'element': 'H'}, {'charge': -0.298539, 'location': [1.677716, 0.806578, 0.117112], 'element': 'O'}, {'charge': 0.175753, 'location': [-0.06081, 1.410616, 0.734186], 'element': 'H'}, {'charge': 0.23798, 'location': [1.949494, 0.45727, -0.754832], 'element': 'H'}, {'charge': -0.298539, 'location': [-1.685265, -0.53594, -0.016613], 'element': 'O'}, {'charge': 0.23798, 'location': [-1.920072, -1.333654, 0.491081], 'element': 'H'}]})\n",
      "HHOHHONN\n"
     ]
    }
   ],
   "source": [
    "molecule = MolGraph()\n",
    "molecule.generate('ONNO',data_format='smi') #generate N2O2H4 using \"SMILES\" string.\n",
    "print(repr(molecule)) #print full dictionary representation\n",
    "print(str(molecule)) # print shorthand string notation"
   ]
  },
  {
   "cell_type": "code",
   "execution_count": 3,
   "metadata": {},
   "outputs": [
    {
     "data": {
      "text/html": [
       "<div id=\"molecule_f591bcaa-3261-4a25-b6d5-c3722780f5c7\"></div>\n",
       "           <script type=\"text/javascript\">\n",
       "           require.config({baseUrl: '/',\n",
       "                           paths: {imolecule: ['nbextensions/imolecule.min', 'https://rawgit.com/patrickfuller/imolecule/master/imolecule/js/build/imolecule.min']}});\n",
       "           require(['imolecule'], function () {\n",
       "               var $d = $('#molecule_f591bcaa-3261-4a25-b6d5-c3722780f5c7');\n",
       "               $d.width(400); $d.height(300);\n",
       "               $d.imolecule = jQuery.extend({}, imolecule);\n",
       "               $d.imolecule.create($d, {drawingType: 'ball and stick',\n",
       "                                        cameraType: 'perspective',\n",
       "                                        shader: 'lambert',\n",
       "                                        showSave: false});\n",
       "               $d.imolecule.addElements({});\n",
       "               $d.imolecule.draw({\"atoms\":[{\"charge\":-0.115194,\"element\":\"N\",\"location\":[0.240315,0.798261,-0.035857]},{\"charge\":-0.115194,\"element\":\"N\",\"location\":[-0.244389,-0.517724,0.134226]},{\"charge\":0.175753,\"element\":\"H\",\"location\":[0.043011,-1.085406,-0.669302]},{\"charge\":-0.298539,\"element\":\"O\",\"location\":[1.677716,0.806578,0.117112]},{\"charge\":0.175753,\"element\":\"H\",\"location\":[-0.060810,1.410616,0.734186]},{\"charge\":0.237980,\"element\":\"H\",\"location\":[1.949494,0.457270,-0.754832]},{\"charge\":-0.298539,\"element\":\"O\",\"location\":[-1.685265,-0.535940,-0.016613]},{\"charge\":0.237980,\"element\":\"H\",\"location\":[-1.920072,-1.333654,0.491081]}],\"bonds\":[{\"atoms\":[0,4],\"order\":1},{\"atoms\":[0,3],\"order\":1},{\"atoms\":[0,1],\"order\":1},{\"atoms\":[1,2],\"order\":1},{\"atoms\":[1,6],\"order\":1},{\"atoms\":[3,5],\"order\":1},{\"atoms\":[6,7],\"order\":1}],\"formula\":\"H4N2O2\",\"molecular_weight\":64.043960,\"units\":{\"molecular_weight\":\"g / mol\"}});\n",
       "\n",
       "               $d.resizable({\n",
       "                   aspectRatio: 400 / 300,\n",
       "                   resize: function (evt, ui) {\n",
       "                       $d.imolecule.renderer.setSize(ui.size.width,\n",
       "                                                     ui.size.height);\n",
       "                   }\n",
       "               });\n",
       "           });\n",
       "           </script>"
      ],
      "text/plain": [
       "<IPython.core.display.HTML object>"
      ]
     },
     "metadata": {},
     "output_type": "display_data"
    },
    {
     "name": "stdout",
     "output_type": "stream",
     "text": [
      "['N[0.240315, 0.798261, -0.035857]', 'N[-0.244389, -0.517724, 0.134226]', 'H[0.043011, -1.085406, -0.669302]', 'O[1.677716, 0.806578, 0.117112]', 'H[-0.06081, 1.410616, 0.734186]', 'H[1.949494, 0.45727, -0.754832]', 'O[-1.685265, -0.53594, -0.016613]', 'H[-1.920072, -1.333654, 0.491081]']\n"
     ]
    }
   ],
   "source": [
    "imolecule.draw(molecule.to_dict(),format='json') #visualize using imolecule\n",
    "print(molecule.nodes()) #show the nodes of the graph.\n",
    "nodes = sorted(molecule.nodes()) \n",
    "#note that node ordering is random by default. Ordering the nodes will make the workflow repeatable"
   ]
  },
  {
   "cell_type": "markdown",
   "metadata": {},
   "source": [
    "Note that node names are defined by the element name and atomic position of each atom. These node names are *static* and *arbitrary*. Static means that if you change positions of atoms within the graph structure the node names will not dynamically update. Arbitrary means that the graph properties do not depend on the names of the nodes. Next we can test a few convenient features of the MolGraph class, such as identifying equivalent isomers (regardless of atomic labels or positions). We will start by generating some test data."
   ]
  },
  {
   "cell_type": "code",
   "execution_count": 4,
   "metadata": {},
   "outputs": [
    {
     "data": {
      "text/html": [
       "<div id=\"molecule_e4a463bb-c44a-4631-9f51-15cc704694f2\"></div>\n",
       "           <script type=\"text/javascript\">\n",
       "           require.config({baseUrl: '/',\n",
       "                           paths: {imolecule: ['nbextensions/imolecule.min', 'https://rawgit.com/patrickfuller/imolecule/master/imolecule/js/build/imolecule.min']}});\n",
       "           require(['imolecule'], function () {\n",
       "               var $d = $('#molecule_e4a463bb-c44a-4631-9f51-15cc704694f2');\n",
       "               $d.width(400); $d.height(300);\n",
       "               $d.imolecule = jQuery.extend({}, imolecule);\n",
       "               $d.imolecule.create($d, {drawingType: 'ball and stick',\n",
       "                                        cameraType: 'perspective',\n",
       "                                        shader: 'lambert',\n",
       "                                        showSave: false});\n",
       "               $d.imolecule.addElements({});\n",
       "               $d.imolecule.draw({\"atoms\":[{\"charge\":-0.115194,\"element\":\"N\",\"location\":[0.231628,0.999777,0.069027]},{\"charge\":-0.115194,\"element\":\"N\",\"location\":[-0.253076,-0.316208,0.239110]},{\"charge\":0.175753,\"element\":\"H\",\"location\":[0.034324,-0.883890,-0.564418]},{\"charge\":-0.298539,\"element\":\"O\",\"location\":[1.669029,1.008094,0.221996]},{\"charge\":0.237980,\"element\":\"H\",\"location\":[1.940807,0.658786,-0.649948]},{\"charge\":-0.298539,\"element\":\"O\",\"location\":[-1.693952,-0.334424,0.088271]},{\"charge\":0.237980,\"element\":\"H\",\"location\":[-1.928759,-1.132138,0.595965]}],\"bonds\":[{\"atoms\":[0,3],\"order\":1},{\"atoms\":[0,1],\"order\":1},{\"atoms\":[1,2],\"order\":1},{\"atoms\":[1,5],\"order\":1},{\"atoms\":[3,4],\"order\":1},{\"atoms\":[5,6],\"order\":1}],\"formula\":\"H3N2O2\",\"molecular_weight\":64.043960,\"units\":{\"molecular_weight\":\"g / mol\"}});\n",
       "\n",
       "               $d.resizable({\n",
       "                   aspectRatio: 400 / 300,\n",
       "                   resize: function (evt, ui) {\n",
       "                       $d.imolecule.renderer.setSize(ui.size.width,\n",
       "                                                     ui.size.height);\n",
       "                   }\n",
       "               });\n",
       "           });\n",
       "           </script>"
      ],
      "text/plain": [
       "<IPython.core.display.HTML object>"
      ]
     },
     "metadata": {},
     "output_type": "display_data"
    },
    {
     "data": {
      "text/html": [
       "<div id=\"molecule_bbc59480-9600-4e05-a786-c2719a9557ab\"></div>\n",
       "           <script type=\"text/javascript\">\n",
       "           require.config({baseUrl: '/',\n",
       "                           paths: {imolecule: ['nbextensions/imolecule.min', 'https://rawgit.com/patrickfuller/imolecule/master/imolecule/js/build/imolecule.min']}});\n",
       "           require(['imolecule'], function () {\n",
       "               var $d = $('#molecule_bbc59480-9600-4e05-a786-c2719a9557ab');\n",
       "               $d.width(400); $d.height(300);\n",
       "               $d.imolecule = jQuery.extend({}, imolecule);\n",
       "               $d.imolecule.create($d, {drawingType: 'ball and stick',\n",
       "                                        cameraType: 'perspective',\n",
       "                                        shader: 'lambert',\n",
       "                                        showSave: false});\n",
       "               $d.imolecule.addElements({});\n",
       "               $d.imolecule.draw({\"atoms\":[{\"charge\":-0.115194,\"element\":\"N\",\"location\":[0.246459,0.643203,-0.131472]},{\"charge\":-0.115194,\"element\":\"N\",\"location\":[-0.238245,-0.672782,0.038611]},{\"charge\":-0.298539,\"element\":\"O\",\"location\":[1.683860,0.651520,0.021497]},{\"charge\":0.175753,\"element\":\"H\",\"location\":[-0.054666,1.255558,0.638571]},{\"charge\":0.237980,\"element\":\"H\",\"location\":[1.955638,0.302212,-0.850447]},{\"charge\":-0.298539,\"element\":\"O\",\"location\":[-1.679121,-0.690998,-0.112228]},{\"charge\":0.237980,\"element\":\"H\",\"location\":[-1.913928,-1.488712,0.395466]}],\"bonds\":[{\"atoms\":[0,3],\"order\":1},{\"atoms\":[0,2],\"order\":1},{\"atoms\":[0,1],\"order\":1},{\"atoms\":[1,5],\"order\":1},{\"atoms\":[2,4],\"order\":1},{\"atoms\":[5,6],\"order\":1}],\"formula\":\"H3N2O2\",\"molecular_weight\":64.043960,\"units\":{\"molecular_weight\":\"g / mol\"}});\n",
       "\n",
       "               $d.resizable({\n",
       "                   aspectRatio: 400 / 300,\n",
       "                   resize: function (evt, ui) {\n",
       "                       $d.imolecule.renderer.setSize(ui.size.width,\n",
       "                                                     ui.size.height);\n",
       "                   }\n",
       "               });\n",
       "           });\n",
       "           </script>"
      ],
      "text/plain": [
       "<IPython.core.display.HTML object>"
      ]
     },
     "metadata": {},
     "output_type": "display_data"
    },
    {
     "data": {
      "text/html": [
       "<div id=\"molecule_d43b3f30-223e-4f9f-a814-2f8432b07f37\"></div>\n",
       "           <script type=\"text/javascript\">\n",
       "           require.config({baseUrl: '/',\n",
       "                           paths: {imolecule: ['nbextensions/imolecule.min', 'https://rawgit.com/patrickfuller/imolecule/master/imolecule/js/build/imolecule.min']}});\n",
       "           require(['imolecule'], function () {\n",
       "               var $d = $('#molecule_d43b3f30-223e-4f9f-a814-2f8432b07f37');\n",
       "               $d.width(400); $d.height(300);\n",
       "               $d.imolecule = jQuery.extend({}, imolecule);\n",
       "               $d.imolecule.create($d, {drawingType: 'ball and stick',\n",
       "                                        cameraType: 'perspective',\n",
       "                                        shader: 'lambert',\n",
       "                                        showSave: false});\n",
       "               $d.imolecule.addElements({});\n",
       "               $d.imolecule.draw({\"atoms\":[{\"charge\":-0.115194,\"element\":\"N\",\"location\":[-0.033981,0.607739,0.034297]},{\"charge\":-0.115194,\"element\":\"N\",\"location\":[-0.518685,-0.708246,0.204380]},{\"charge\":0.175753,\"element\":\"H\",\"location\":[-0.231285,-1.275928,-0.599148]},{\"charge\":-0.298539,\"element\":\"O\",\"location\":[1.403420,0.616056,0.187266]},{\"charge\":0.175753,\"element\":\"H\",\"location\":[-0.335106,1.220094,0.804340]},{\"charge\":0.237980,\"element\":\"H\",\"location\":[1.675198,0.266748,-0.684678]},{\"charge\":-0.298539,\"element\":\"O\",\"location\":[-1.959561,-0.726462,0.053541]}],\"bonds\":[{\"atoms\":[0,4],\"order\":1},{\"atoms\":[0,3],\"order\":1},{\"atoms\":[0,1],\"order\":1},{\"atoms\":[1,2],\"order\":1},{\"atoms\":[1,6],\"order\":1},{\"atoms\":[3,5],\"order\":1}],\"formula\":\"H3N2O2\",\"molecular_weight\":64.043960,\"units\":{\"molecular_weight\":\"g / mol\"}});\n",
       "\n",
       "               $d.resizable({\n",
       "                   aspectRatio: 400 / 300,\n",
       "                   resize: function (evt, ui) {\n",
       "                       $d.imolecule.renderer.setSize(ui.size.width,\n",
       "                                                     ui.size.height);\n",
       "                   }\n",
       "               });\n",
       "           });\n",
       "           </script>"
      ],
      "text/plain": [
       "<IPython.core.display.HTML object>"
      ]
     },
     "metadata": {},
     "output_type": "display_data"
    }
   ],
   "source": [
    "HONHNHO = molecule.copy()\n",
    "HONHNHO.remove_node(nodes[0])\n",
    "imolecule.draw(HONHNHO.to_dict(),format='json')\n",
    "\n",
    "ONHNHOH = molecule.copy()\n",
    "ONHNHOH.remove_node(nodes[2])\n",
    "imolecule.draw(ONHNHOH.to_dict(),format='json')\n",
    "\n",
    "HONNHOH = molecule.copy()\n",
    "HONNHOH.remove_node(nodes[1])\n",
    "imolecule.draw(HONNHOH.to_dict(),format='json')"
   ]
  },
  {
   "cell_type": "markdown",
   "metadata": {},
   "source": [
    "All of these molecules have the same composition, but the first two have the same bond structure, while the third has a different bond structure. We can check that the MolGraph data structure knows this."
   ]
  },
  {
   "cell_type": "code",
   "execution_count": 5,
   "metadata": {},
   "outputs": [
    {
     "name": "stdout",
     "output_type": "stream",
     "text": [
      "True\n",
      "False\n"
     ]
    }
   ],
   "source": [
    "print(HONHNHO == ONHNHOH) #check that 1 and 2 are equal\n",
    "print(HONHNHO == HONNHOH) #check that 1 and 3 are not equal"
   ]
  },
  {
   "cell_type": "markdown",
   "metadata": {},
   "source": [
    "We can also test that MolGraph only analyzes molecular *topology*, i.e. bond structure, and does not care about the actual positions of atoms, lengths of bonds, or labels of nodes."
   ]
  },
  {
   "cell_type": "code",
   "execution_count": 6,
   "metadata": {},
   "outputs": [
    {
     "name": "stdout",
     "output_type": "stream",
     "text": [
      "Old location: [0.240315, 0.798261, -0.035857]\n",
      "New location: [1.240315, 0.798261, -0.035857]\n"
     ]
    },
    {
     "data": {
      "text/html": [
       "<div id=\"molecule_41d6492f-6da0-43b5-9e30-68d774f7455e\"></div>\n",
       "           <script type=\"text/javascript\">\n",
       "           require.config({baseUrl: '/',\n",
       "                           paths: {imolecule: ['nbextensions/imolecule.min', 'https://rawgit.com/patrickfuller/imolecule/master/imolecule/js/build/imolecule.min']}});\n",
       "           require(['imolecule'], function () {\n",
       "               var $d = $('#molecule_41d6492f-6da0-43b5-9e30-68d774f7455e');\n",
       "               $d.width(400); $d.height(300);\n",
       "               $d.imolecule = jQuery.extend({}, imolecule);\n",
       "               $d.imolecule.create($d, {drawingType: 'ball and stick',\n",
       "                                        cameraType: 'perspective',\n",
       "                                        shader: 'lambert',\n",
       "                                        showSave: false});\n",
       "               $d.imolecule.addElements({});\n",
       "               $d.imolecule.draw({\"atoms\":[{\"charge\":-0.115194,\"element\":\"N\",\"location\":[1.115315,0.798261,-0.035857]},{\"charge\":-0.115194,\"element\":\"N\",\"location\":[-0.369389,-0.517724,0.134226]},{\"charge\":0.175753,\"element\":\"H\",\"location\":[-0.081989,-1.085406,-0.669302]},{\"charge\":-0.298539,\"element\":\"O\",\"location\":[1.552716,0.806578,0.117112]},{\"charge\":0.175753,\"element\":\"H\",\"location\":[-0.185810,1.410616,0.734186]},{\"charge\":0.237980,\"element\":\"H\",\"location\":[1.824494,0.457270,-0.754832]},{\"charge\":-0.298539,\"element\":\"O\",\"location\":[-1.810265,-0.535940,-0.016613]},{\"charge\":0.237980,\"element\":\"H\",\"location\":[-2.045072,-1.333654,0.491081]}],\"bonds\":[{\"atoms\":[0,4],\"order\":1},{\"atoms\":[0,3],\"order\":1},{\"atoms\":[0,1],\"order\":1},{\"atoms\":[1,2],\"order\":1},{\"atoms\":[1,6],\"order\":1},{\"atoms\":[3,5],\"order\":1},{\"atoms\":[6,7],\"order\":1}],\"formula\":\"H4N2O2\",\"molecular_weight\":64.043960,\"units\":{\"molecular_weight\":\"g / mol\"}});\n",
       "\n",
       "               $d.resizable({\n",
       "                   aspectRatio: 400 / 300,\n",
       "                   resize: function (evt, ui) {\n",
       "                       $d.imolecule.renderer.setSize(ui.size.width,\n",
       "                                                     ui.size.height);\n",
       "                   }\n",
       "               });\n",
       "           });\n",
       "           </script>"
      ],
      "text/plain": [
       "<IPython.core.display.HTML object>"
      ]
     },
     "metadata": {},
     "output_type": "display_data"
    },
    {
     "name": "stdout",
     "output_type": "stream",
     "text": [
      "Equivalent to original? True\n"
     ]
    }
   ],
   "source": [
    "ONNO_0 = molecule.copy()\n",
    "atom_labels = ONNO_0.nodes()\n",
    "atom_0 = ONNO_0.node[atom_labels[0]]\n",
    "print('Old location: {}'.format(atom_0['location']))\n",
    "atom_0['location'][0] +=1\n",
    "print('New location: {}'.format(atom_0['location']))\n",
    "imolecule.draw(ONNO_0.to_dict(),format='json')\n",
    "print('Equivalent to original? {}'.format(ONNO_0 == molecule))"
   ]
  },
  {
   "cell_type": "markdown",
   "metadata": {},
   "source": [
    "Clearly these molecules are different, but they have the same topology and are hence considered equivalent. This is a useful feature since it ignores minor differences in molecular structure, but it can also be dangerous if you do not understand its limitations.\n",
    "\n",
    "Finally, let's make sure that MolGraph doesn't care about node labels."
   ]
  },
  {
   "cell_type": "code",
   "execution_count": 7,
   "metadata": {},
   "outputs": [
    {
     "name": "stdout",
     "output_type": "stream",
     "text": [
      "Original Nodes: ['N[0.240315, 0.798261, -0.035857]', 'N[-0.244389, -0.517724, 0.134226]', 'H[0.043011, -1.085406, -0.669302]', 'O[1.677716, 0.806578, 0.117112]', 'H[-0.06081, 1.410616, 0.734186]', 'H[1.949494, 0.45727, -0.754832]', 'O[-1.685265, -0.53594, -0.016613]', 'H[-1.920072, -1.333654, 0.491081]']\n",
      "Integer Nodes: [0, 1, 2, 3, 4, 5, 6, 7]\n",
      "Are the equivalent? True\n"
     ]
    }
   ],
   "source": [
    "import networkx as nx\n",
    "int_molecule = nx.relabel.convert_node_labels_to_integers(molecule)\n",
    "print('Original Nodes: {}'.format(molecule.nodes()))\n",
    "print('Integer Nodes: {}'.format(int_molecule.nodes()))\n",
    "print('Are the equivalent? {}'.format(molecule == int_molecule))"
   ]
  },
  {
   "cell_type": "markdown",
   "metadata": {},
   "source": [
    "So clearly node labels do not matter. However, it is worth noting that if you try to add multiple nodes with the same label to the same MolGraph then they will overwrite. This can also be very dangerous."
   ]
  },
  {
   "cell_type": "code",
   "execution_count": null,
   "metadata": {
    "collapsed": true
   },
   "outputs": [],
   "source": []
  }
 ],
 "metadata": {
  "anaconda-cloud": {},
  "kernelspec": {
   "display_name": "Python [conda env:rxngraph]",
   "language": "python",
   "name": "conda-env-rxngraph-py"
  },
  "language_info": {
   "codemirror_mode": {
    "name": "ipython",
    "version": 2
   },
   "file_extension": ".py",
   "mimetype": "text/x-python",
   "name": "python",
   "nbconvert_exporter": "python",
   "pygments_lexer": "ipython2",
   "version": "2.7.13"
  }
 },
 "nbformat": 4,
 "nbformat_minor": 2
}
