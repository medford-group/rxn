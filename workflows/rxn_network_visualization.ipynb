{
 "cells": [
  {
   "cell_type": "code",
   "execution_count": 1,
   "metadata": {
    "collapsed": true
   },
   "outputs": [],
   "source": [
    "import sys\n",
    "import time\n",
    "sys.path.insert(0,'../') #enable loading rxn package\n",
    "\n",
    "import jgraph\n",
    "import imolecule\n",
    "from rxn.data_structures import MolGraph, RxnGraph\n",
    "from rxn.rxn_network import scissions, recursive_scissions"
   ]
  },
  {
   "cell_type": "markdown",
   "metadata": {},
   "source": [
    "We can start by generating all of the scission reactions for the HONHNHOH molecule. Note that the visualization of the reaction network is not very useful without labels, which still needs to be figured out and will require modifying or wrapping the jgraph library, or finding another visualization library. The conversion to `rxn_list` is also ugly, and in general the input/output functionality of RxnGraph is still under development."
   ]
  },
  {
   "cell_type": "code",
   "execution_count": 2,
   "metadata": {},
   "outputs": [
    {
     "name": "stdout",
     "output_type": "stream",
     "text": [
      "HOHNHNOH->H+HONHNOH\n",
      "HOHNHNOH->HNHO+HOHN\n",
      "HOHNHNOH->H+HOHNHNO\n",
      "HOHNHNOH->HHNNOH+HO\n"
     ]
    },
    {
     "data": {
      "text/html": [
       "<div id=\"graph-0db40036-764e-486a-98fb-17647301fb31\"></div>\n",
       "           <script type=\"text/javascript\">\n",
       "           require.config({baseUrl: '/',\n",
       "                             paths: {jgraph: ['nbextensions/jgraph.min', 'https://rawgit.com/patrickfuller/jgraph/master/js/build/jgraph.min']}});\n",
       "           require(['jgraph'], function () {\n",
       "               var $d = $('#graph-0db40036-764e-486a-98fb-17647301fb31');\n",
       "               $d.width(600); $d.height(400);\n",
       "               $d.jgraph = jQuery.extend({}, jgraph);\n",
       "               $d.jgraph.create($d, {nodeSize: 2.000000,\n",
       "                                     edgeSize: 0.250000,\n",
       "                                     defaultNodeColor: '0x5bc0de',\n",
       "                                     defaultEdgeColor: '0xaaaaaa',\n",
       "                                     shader: 'basic',\n",
       "                                     z: 100,\n",
       "                                     runOptimization: true,\n",
       "                                     directed: true,\n",
       "                                     showSave: false});\n",
       "               $d.jgraph.draw({\n",
       "    \"edges\": [\n",
       "        { \"source\": \"HOHNHNOH->H+HONHNOH\", \"target\": \"H\" },\n",
       "        { \"source\": \"HOHNHNOH->H+HONHNOH\", \"target\": \"HONHNOH\" },\n",
       "        { \"source\": \"HOHNHNOH->HNHO+HOHN\", \"target\": \"HNHO\" },\n",
       "        { \"source\": \"HOHNHNOH->HNHO+HOHN\", \"target\": \"HOHN\" },\n",
       "        { \"source\": \"HOHNHNOH->H+HOHNHNO\", \"target\": \"H\" },\n",
       "        { \"source\": \"HOHNHNOH->H+HOHNHNO\", \"target\": \"HOHNHNO\" },\n",
       "        { \"source\": \"HOHNHNOH->HHNNOH+HO\", \"target\": \"HO\" },\n",
       "        { \"source\": \"HOHNHNOH->HHNNOH+HO\", \"target\": \"HHNNOH\" },\n",
       "        { \"source\": \"HOHNHNOH\", \"target\": \"HOHNHNOH->H+HOHNHNO\" },\n",
       "        { \"source\": \"HOHNHNOH\", \"target\": \"HOHNHNOH->H+HONHNOH\" },\n",
       "        { \"source\": \"HOHNHNOH\", \"target\": \"HOHNHNOH->HNHO+HOHN\" },\n",
       "        { \"source\": \"HOHNHNOH\", \"target\": \"HOHNHNOH->HHNNOH+HO\" }\n",
       "    ],\n",
       "    \"nodes\": {\n",
       "        \"H\": { \".label\": \"H\", \"color\": \"0x0000ff\", \"description\": \"H\", \"label\": \"H\", \"size\": 1 },\n",
       "        \"HHNNOH\": { \".label\": \"HHNNOH\", \"color\": \"0x0000ff\", \"description\": \"HHNNOH\", \"label\": \"HHNNOH\", \"size\": 1 },\n",
       "        \"HNHO\": { \".label\": \"HNHO\", \"color\": \"0x0000ff\", \"description\": \"HNHO\", \"label\": \"HNHO\", \"size\": 1 },\n",
       "        \"HO\": { \".label\": \"HO\", \"color\": \"0x0000ff\", \"description\": \"HO\", \"label\": \"HO\", \"size\": 1 },\n",
       "        \"HOHN\": { \".label\": \"HOHN\", \"color\": \"0x0000ff\", \"description\": \"HOHN\", \"label\": \"HOHN\", \"size\": 1 },\n",
       "        \"HOHNHNO\": { \".label\": \"HOHNHNO\", \"color\": \"0x0000ff\", \"description\": \"HOHNHNO\", \"label\": \"HOHNHNO\", \"size\": 1 },\n",
       "        \"HOHNHNOH\": { \".label\": \"HOHNHNOH\", \"color\": \"0x0000ff\", \"description\": \"HOHNHNOH\", \"label\": \"HOHNHNOH\", \"size\": 1 },\n",
       "        \"HOHNHNOH->H+HOHNHNO\": { \".label\": \"HOHNHNOH->H+HOHNHNO\", \"color\": \"0x000000\", \"description\": \"HOHNHNOH->H+HOHNHNO\", \"label\": \"HOHNHNOH->H+HOHNHNO\", \"size\": 0.250000 },\n",
       "        \"HOHNHNOH->H+HONHNOH\": { \".label\": \"HOHNHNOH->H+HONHNOH\", \"color\": \"0x000000\", \"description\": \"HOHNHNOH->H+HONHNOH\", \"label\": \"HOHNHNOH->H+HONHNOH\", \"size\": 0.250000 },\n",
       "        \"HOHNHNOH->HHNNOH+HO\": { \".label\": \"HOHNHNOH->HHNNOH+HO\", \"color\": \"0x000000\", \"description\": \"HOHNHNOH->HHNNOH+HO\", \"label\": \"HOHNHNOH->HHNNOH+HO\", \"size\": 0.250000 },\n",
       "        \"HOHNHNOH->HNHO+HOHN\": { \".label\": \"HOHNHNOH->HNHO+HOHN\", \"color\": \"0x000000\", \"description\": \"HOHNHNOH->HNHO+HOHN\", \"label\": \"HOHNHNOH->HNHO+HOHN\", \"size\": 0.250000 },\n",
       "        \"HONHNOH\": { \".label\": \"HONHNOH\", \"color\": \"0x0000ff\", \"description\": \"HONHNOH\", \"label\": \"HONHNOH\", \"size\": 1 }\n",
       "    }\n",
       "});\n",
       "\n",
       "               $d.resizable({\n",
       "                   aspectRatio: 600 / 400,\n",
       "                   resize: function (evt, ui) {\n",
       "                       $d.jgraph.renderer.setSize(ui.size.width,\n",
       "                                                  ui.size.height);\n",
       "                   }\n",
       "               });\n",
       "           });\n",
       "           </script>"
      ],
      "text/plain": [
       "<IPython.core.display.HTML object>"
      ]
     },
     "metadata": {},
     "output_type": "display_data"
    }
   ],
   "source": [
    "ONNO = MolGraph().generate('ONNO','smi') #generate ONNO\n",
    "rxns = scissions(ONNO)\n",
    "\n",
    "rxns_list = []\n",
    "for rxn in rxns:\n",
    "    products = [rxn.node[p]['graph'] for p in rxn.nodes() if rxn.node[p]['type']=='molecule' and rxn.node[p]['molecule_type']=='product']\n",
    "    reactants = [rxn.node[p]['graph'] for p in rxn.nodes() if rxn.node[p]['type']=='molecule' and rxn.node[p]['molecule_type']=='reactant']\n",
    "    rxns_list.append([reactants, products])\n",
    "\n",
    "all_rxns = RxnGraph()\n",
    "all_rxns.from_rxn_list(rxns_list)\n",
    "\n",
    "print(all_rxns)\n",
    "jgraph.draw(all_rxns.to_jgraph())"
   ]
  },
  {
   "cell_type": "markdown",
   "metadata": {},
   "source": [
    "Next we can look at the entire reaction network for conversion of N2, H2O, and O2 to NH3, NO, and NH2OH with the largest intermediate species being HONHNHOH, HONHNH2, or NH2NH2."
   ]
  },
  {
   "cell_type": "code",
   "execution_count": 3,
   "metadata": {},
   "outputs": [
    {
     "name": "stdout",
     "output_type": "stream",
     "text": [
      "Recursing on:\n",
      "['HOHNHNO', 'HOHNHN', 'OH', 'HNOH', 'HHOHNNO', 'HONHNH', 'HNH', 'HHNNH', 'HONHNH', 'HOHN']\n",
      "Recursing on:\n",
      "['HNO', 'HOHNNO', 'HONHNO', 'HOHNN', 'OHNHNO', 'HN', 'HNNHO', 'HNNHO', 'HHNN', 'NOH', 'HHONNO', 'NHNH', 'ONHNH']\n",
      "Recursing on:\n",
      "['NO', 'ONNHO', 'HONNO', 'HONN', 'OHNN', 'NNH', 'NNHO']\n",
      "Recursing on:\n",
      "['ONN', 'ONNO']\n"
     ]
    }
   ],
   "source": [
    "ONNO = MolGraph().generate('ONNO','smi') #generate ONNO\n",
    "ONN = MolGraph().generate('ONN','smi') #generate ONN\n",
    "N2H4 = MolGraph().generate('NN','smi') #generate N2H4\n",
    "NH3 = MolGraph().generate('[NH3]','smi') #generate NH3\n",
    "H2O = MolGraph().generate('[OH2]','smi') #generate H2O\n",
    "O2 = MolGraph().generate('O=O','smi') #generate O2\n",
    "N2 = MolGraph().generate('N#N','smi') #generate N2\n",
    "NH2OH = MolGraph().generate('NO','smi') #generate NH2OH\n",
    "\n",
    "species = []\n",
    "rxns = recursive_scissions([ONNO, ONN, N2H4, NH3, H2O, N2, O2, NH2OH],finished=species)\n",
    "\n",
    "rxns_list = []\n",
    "for rxn in rxns:\n",
    "    products = [rxn.node[p]['graph'] for p in rxn.nodes() if rxn.node[p]['type']=='molecule' and rxn.node[p]['molecule_type']=='product']\n",
    "    reactants = [rxn.node[p]['graph'] for p in rxn.nodes() if rxn.node[p]['type']=='molecule' and rxn.node[p]['molecule_type']=='reactant']\n",
    "    rxns_list.append([reactants, products])\n",
    "\n",
    "all_rxns = RxnGraph()\n",
    "all_rxns.from_rxn_list(rxns_list)"
   ]
  },
  {
   "cell_type": "markdown",
   "metadata": {},
   "source": [
    "Note that this takes a bit of time sense it needs to recurse through several layers. Before we visualize the network we can first look at all the species involved. Note that we need to \"sleep\" for 1 second in between to allow the visualization library time to render each graph."
   ]
  },
  {
   "cell_type": "code",
   "execution_count": 7,
   "metadata": {},
   "outputs": [
    {
     "name": "stdout",
     "output_type": "stream",
     "text": [
      "species[0] = HHOHNHNO\n"
     ]
    },
    {
     "data": {
      "text/html": [
       "<div id=\"molecule_9894aa33-4515-455d-b8de-1c1512d7982e\"></div>\n",
       "           <script type=\"text/javascript\">\n",
       "           require.config({baseUrl: '/',\n",
       "                           paths: {imolecule: ['nbextensions/imolecule.min', 'https://rawgit.com/patrickfuller/imolecule/master/imolecule/js/build/imolecule.min']}});\n",
       "           require(['imolecule'], function () {\n",
       "               var $d = $('#molecule_9894aa33-4515-455d-b8de-1c1512d7982e');\n",
       "               $d.width(400); $d.height(300);\n",
       "               $d.imolecule = jQuery.extend({}, imolecule);\n",
       "               $d.imolecule.create($d, {drawingType: 'ball and stick',\n",
       "                                        cameraType: 'perspective',\n",
       "                                        shader: 'lambert',\n",
       "                                        showSave: false});\n",
       "               $d.imolecule.addElements({});\n",
       "               $d.imolecule.draw({\"atoms\":[{\"charge\":-0.298539,\"element\":\"O\",\"location\":[-1.685265,-0.432735,-0.316620]},{\"charge\":-0.115194,\"element\":\"N\",\"location\":[-0.244389,-0.502962,-0.181889]},{\"charge\":0.237980,\"element\":\"H\",\"location\":[-1.920072,-1.377761,-0.348667]},{\"charge\":0.175753,\"element\":\"H\",\"location\":[-0.060810,0.748726,1.402953]},{\"charge\":-0.298539,\"element\":\"O\",\"location\":[1.677716,0.599196,0.552492]},{\"charge\":-0.115194,\"element\":\"N\",\"location\":[0.240315,0.678793,0.421600]},{\"charge\":0.175753,\"element\":\"H\",\"location\":[0.043011,-0.517116,-1.165617]},{\"charge\":0.237980,\"element\":\"H\",\"location\":[1.949494,0.803859,-0.364250]}],\"bonds\":[{\"atoms\":[0,2],\"order\":1},{\"atoms\":[0,1],\"order\":1},{\"atoms\":[1,5],\"order\":1},{\"atoms\":[1,6],\"order\":1},{\"atoms\":[3,5],\"order\":1},{\"atoms\":[4,7],\"order\":1},{\"atoms\":[4,5],\"order\":1}],\"formula\":\"H4N2O2\",\"molecular_weight\":64.043960,\"units\":{\"molecular_weight\":\"g / mol\"}});\n",
       "\n",
       "               $d.resizable({\n",
       "                   aspectRatio: 400 / 300,\n",
       "                   resize: function (evt, ui) {\n",
       "                       $d.imolecule.renderer.setSize(ui.size.width,\n",
       "                                                     ui.size.height);\n",
       "                   }\n",
       "               });\n",
       "           });\n",
       "           </script>"
      ],
      "text/plain": [
       "<IPython.core.display.HTML object>"
      ]
     },
     "metadata": {},
     "output_type": "display_data"
    },
    {
     "name": "stdout",
     "output_type": "stream",
     "text": [
      "species[1] = HHONHNH\n"
     ]
    },
    {
     "data": {
      "text/html": [
       "<div id=\"molecule_de6068f8-a5cf-4b34-bb0e-b191aa6c8621\"></div>\n",
       "           <script type=\"text/javascript\">\n",
       "           require.config({baseUrl: '/',\n",
       "                           paths: {imolecule: ['nbextensions/imolecule.min', 'https://rawgit.com/patrickfuller/imolecule/master/imolecule/js/build/imolecule.min']}});\n",
       "           require(['imolecule'], function () {\n",
       "               var $d = $('#molecule_de6068f8-a5cf-4b34-bb0e-b191aa6c8621');\n",
       "               $d.width(400); $d.height(300);\n",
       "               $d.imolecule = jQuery.extend({}, imolecule);\n",
       "               $d.imolecule.create($d, {drawingType: 'ball and stick',\n",
       "                                        cameraType: 'perspective',\n",
       "                                        shader: 'lambert',\n",
       "                                        showSave: false});\n",
       "               $d.imolecule.addElements({});\n",
       "               $d.imolecule.draw({\"atoms\":[{\"charge\":0.138965,\"element\":\"H\",\"location\":[0.384598,0.196815,1.483001]},{\"charge\":0.138965,\"element\":\"H\",\"location\":[0.404757,-1.322374,0.906666]},{\"charge\":-0.141072,\"element\":\"N\",\"location\":[0.301971,0.094495,-0.535081]},{\"charge\":-0.247453,\"element\":\"N\",\"location\":[0.755465,-0.379861,0.724400]},{\"charge\":-0.300543,\"element\":\"O\",\"location\":[-1.123798,0.327351,-0.479501]},{\"charge\":0.173244,\"element\":\"H\",\"location\":[0.671245,1.035960,-0.723122]},{\"charge\":0.237895,\"element\":\"H\",\"location\":[-1.394238,0.047614,-1.376363]}],\"bonds\":[{\"atoms\":[0,3],\"order\":1},{\"atoms\":[1,3],\"order\":1},{\"atoms\":[2,5],\"order\":1},{\"atoms\":[2,3],\"order\":1},{\"atoms\":[2,4],\"order\":1},{\"atoms\":[4,6],\"order\":1}],\"formula\":\"H4N2O\",\"molecular_weight\":48.044560,\"units\":{\"molecular_weight\":\"g / mol\"}});\n",
       "\n",
       "               $d.resizable({\n",
       "                   aspectRatio: 400 / 300,\n",
       "                   resize: function (evt, ui) {\n",
       "                       $d.imolecule.renderer.setSize(ui.size.width,\n",
       "                                                     ui.size.height);\n",
       "                   }\n",
       "               });\n",
       "           });\n",
       "           </script>"
      ],
      "text/plain": [
       "<IPython.core.display.HTML object>"
      ]
     },
     "metadata": {},
     "output_type": "display_data"
    },
    {
     "name": "stdout",
     "output_type": "stream",
     "text": [
      "species[2] = HHHNNH\n"
     ]
    },
    {
     "data": {
      "text/html": [
       "<div id=\"molecule_3d634836-75ac-4dc0-8122-679ae334f721\"></div>\n",
       "           <script type=\"text/javascript\">\n",
       "           require.config({baseUrl: '/',\n",
       "                           paths: {imolecule: ['nbextensions/imolecule.min', 'https://rawgit.com/patrickfuller/imolecule/master/imolecule/js/build/imolecule.min']}});\n",
       "           require(['imolecule'], function () {\n",
       "               var $d = $('#molecule_3d634836-75ac-4dc0-8122-679ae334f721');\n",
       "               $d.width(400); $d.height(300);\n",
       "               $d.imolecule = jQuery.extend({}, imolecule);\n",
       "               $d.imolecule.create($d, {drawingType: 'ball and stick',\n",
       "                                        cameraType: 'perspective',\n",
       "                                        shader: 'lambert',\n",
       "                                        showSave: false});\n",
       "               $d.imolecule.addElements({});\n",
       "               $d.imolecule.draw({\"atoms\":[{\"charge\":0.136554,\"element\":\"H\",\"location\":[-1.091846,-0.946514,0.113490]},{\"charge\":0.136554,\"element\":\"H\",\"location\":[-1.091846,0.522969,0.797040]},{\"charge\":-0.273109,\"element\":\"N\",\"location\":[0.720512,-0.002593,0.005574]},{\"charge\":0.136554,\"element\":\"H\",\"location\":[1.091846,0.946514,-0.113491]},{\"charge\":0.136554,\"element\":\"H\",\"location\":[1.091846,-0.522969,-0.797040]},{\"charge\":-0.273109,\"element\":\"N\",\"location\":[-0.720512,0.002593,-0.005574]}],\"bonds\":[{\"atoms\":[0,5],\"order\":1},{\"atoms\":[1,5],\"order\":1},{\"atoms\":[2,3],\"order\":1},{\"atoms\":[2,4],\"order\":1},{\"atoms\":[2,5],\"order\":1}],\"formula\":\"H4N2\",\"molecular_weight\":32.045160,\"units\":{\"molecular_weight\":\"g / mol\"}});\n",
       "\n",
       "               $d.resizable({\n",
       "                   aspectRatio: 400 / 300,\n",
       "                   resize: function (evt, ui) {\n",
       "                       $d.imolecule.renderer.setSize(ui.size.width,\n",
       "                                                     ui.size.height);\n",
       "                   }\n",
       "               });\n",
       "           });\n",
       "           </script>"
      ],
      "text/plain": [
       "<IPython.core.display.HTML object>"
      ]
     },
     "metadata": {},
     "output_type": "display_data"
    },
    {
     "name": "stdout",
     "output_type": "stream",
     "text": [
      "species[3] = HHNH\n"
     ]
    },
    {
     "data": {
      "text/html": [
       "<div id=\"molecule_37b30c37-ec7b-4abe-8103-15c6bee9a2f9\"></div>\n",
       "           <script type=\"text/javascript\">\n",
       "           require.config({baseUrl: '/',\n",
       "                           paths: {imolecule: ['nbextensions/imolecule.min', 'https://rawgit.com/patrickfuller/imolecule/master/imolecule/js/build/imolecule.min']}});\n",
       "           require(['imolecule'], function () {\n",
       "               var $d = $('#molecule_37b30c37-ec7b-4abe-8103-15c6bee9a2f9');\n",
       "               $d.width(400); $d.height(300);\n",
       "               $d.imolecule = jQuery.extend({}, imolecule);\n",
       "               $d.imolecule.create($d, {drawingType: 'ball and stick',\n",
       "                                        cameraType: 'perspective',\n",
       "                                        shader: 'lambert',\n",
       "                                        showSave: false});\n",
       "               $d.imolecule.addElements({});\n",
       "               $d.imolecule.draw({\"atoms\":[{\"charge\":0.114562,\"element\":\"H\",\"location\":[-0.410133,0.849920,-0.046471]},{\"charge\":0.114562,\"element\":\"H\",\"location\":[0.918796,-0.052989,0.213869]},{\"charge\":-0.343687,\"element\":\"N\",\"location\":[-0.098532,-0.067025,0.270510]},{\"charge\":0.114562,\"element\":\"H\",\"location\":[-0.410130,-0.729906,-0.437908]}],\"bonds\":[{\"atoms\":[0,2],\"order\":1},{\"atoms\":[1,2],\"order\":1},{\"atoms\":[2,3],\"order\":1}],\"formula\":\"H3N\",\"molecular_weight\":17.030520,\"units\":{\"molecular_weight\":\"g / mol\"}});\n",
       "\n",
       "               $d.resizable({\n",
       "                   aspectRatio: 400 / 300,\n",
       "                   resize: function (evt, ui) {\n",
       "                       $d.imolecule.renderer.setSize(ui.size.width,\n",
       "                                                     ui.size.height);\n",
       "                   }\n",
       "               });\n",
       "           });\n",
       "           </script>"
      ],
      "text/plain": [
       "<IPython.core.display.HTML object>"
      ]
     },
     "metadata": {},
     "output_type": "display_data"
    },
    {
     "name": "stdout",
     "output_type": "stream",
     "text": [
      "species[4] = HOH\n"
     ]
    },
    {
     "data": {
      "text/html": [
       "<div id=\"molecule_47176ce0-9673-4a45-bbb4-1efc44c140d0\"></div>\n",
       "           <script type=\"text/javascript\">\n",
       "           require.config({baseUrl: '/',\n",
       "                           paths: {imolecule: ['nbextensions/imolecule.min', 'https://rawgit.com/patrickfuller/imolecule/master/imolecule/js/build/imolecule.min']}});\n",
       "           require(['imolecule'], function () {\n",
       "               var $d = $('#molecule_47176ce0-9673-4a45-bbb4-1efc44c140d0');\n",
       "               $d.width(400); $d.height(300);\n",
       "               $d.imolecule = jQuery.extend({}, imolecule);\n",
       "               $d.imolecule.create($d, {drawingType: 'ball and stick',\n",
       "                                        cameraType: 'perspective',\n",
       "                                        shader: 'lambert',\n",
       "                                        showSave: false});\n",
       "               $d.imolecule.addElements({});\n",
       "               $d.imolecule.draw({\"atoms\":[{\"charge\":0.205233,\"element\":\"H\",\"location\":[-0.508528,-0.344909,0.494858]},{\"charge\":-0.410466,\"element\":\"O\",\"location\":[-0.229679,0.185729,-0.266475]},{\"charge\":0.205233,\"element\":\"H\",\"location\":[0.738208,0.159180,-0.228383]}],\"bonds\":[{\"atoms\":[0,1],\"order\":1},{\"atoms\":[1,2],\"order\":1}],\"formula\":\"H2O\",\"molecular_weight\":18.015280,\"units\":{\"molecular_weight\":\"g / mol\"}});\n",
       "\n",
       "               $d.resizable({\n",
       "                   aspectRatio: 400 / 300,\n",
       "                   resize: function (evt, ui) {\n",
       "                       $d.imolecule.renderer.setSize(ui.size.width,\n",
       "                                                     ui.size.height);\n",
       "                   }\n",
       "               });\n",
       "           });\n",
       "           </script>"
      ],
      "text/plain": [
       "<IPython.core.display.HTML object>"
      ]
     },
     "metadata": {},
     "output_type": "display_data"
    },
    {
     "name": "stdout",
     "output_type": "stream",
     "text": [
      "species[5] = NN\n"
     ]
    },
    {
     "data": {
      "text/html": [
       "<div id=\"molecule_0eea8cab-05ad-4df8-ac2d-d01219961441\"></div>\n",
       "           <script type=\"text/javascript\">\n",
       "           require.config({baseUrl: '/',\n",
       "                           paths: {imolecule: ['nbextensions/imolecule.min', 'https://rawgit.com/patrickfuller/imolecule/master/imolecule/js/build/imolecule.min']}});\n",
       "           require(['imolecule'], function () {\n",
       "               var $d = $('#molecule_0eea8cab-05ad-4df8-ac2d-d01219961441');\n",
       "               $d.width(400); $d.height(300);\n",
       "               $d.imolecule = jQuery.extend({}, imolecule);\n",
       "               $d.imolecule.create($d, {drawingType: 'ball and stick',\n",
       "                                        cameraType: 'perspective',\n",
       "                                        shader: 'lambert',\n",
       "                                        showSave: false});\n",
       "               $d.imolecule.addElements({});\n",
       "               $d.imolecule.draw({\"atoms\":[{\"element\":\"N\",\"location\":[0.710000,0.000000,0.000000]},{\"element\":\"N\",\"location\":[-0.710000,0.000000,0.000000]}],\"bonds\":[{\"atoms\":[0,1],\"order\":1}],\"formula\":\"N2\",\"molecular_weight\":32.045160,\"units\":{\"molecular_weight\":\"g / mol\"}});\n",
       "\n",
       "               $d.resizable({\n",
       "                   aspectRatio: 400 / 300,\n",
       "                   resize: function (evt, ui) {\n",
       "                       $d.imolecule.renderer.setSize(ui.size.width,\n",
       "                                                     ui.size.height);\n",
       "                   }\n",
       "               });\n",
       "           });\n",
       "           </script>"
      ],
      "text/plain": [
       "<IPython.core.display.HTML object>"
      ]
     },
     "metadata": {},
     "output_type": "display_data"
    },
    {
     "name": "stdout",
     "output_type": "stream",
     "text": [
      "species[6] = OO\n"
     ]
    },
    {
     "data": {
      "text/html": [
       "<div id=\"molecule_4b6e1bbc-b98c-43f6-a231-2b37b291703e\"></div>\n",
       "           <script type=\"text/javascript\">\n",
       "           require.config({baseUrl: '/',\n",
       "                           paths: {imolecule: ['nbextensions/imolecule.min', 'https://rawgit.com/patrickfuller/imolecule/master/imolecule/js/build/imolecule.min']}});\n",
       "           require(['imolecule'], function () {\n",
       "               var $d = $('#molecule_4b6e1bbc-b98c-43f6-a231-2b37b291703e');\n",
       "               $d.width(400); $d.height(300);\n",
       "               $d.imolecule = jQuery.extend({}, imolecule);\n",
       "               $d.imolecule.create($d, {drawingType: 'ball and stick',\n",
       "                                        cameraType: 'perspective',\n",
       "                                        shader: 'lambert',\n",
       "                                        showSave: false});\n",
       "               $d.imolecule.addElements({});\n",
       "               $d.imolecule.draw({\"atoms\":[{\"element\":\"O\",\"location\":[-0.641000,0.000000,0.000000]},{\"element\":\"O\",\"location\":[0.641000,0.000000,0.000000]}],\"bonds\":[{\"atoms\":[0,1],\"order\":1}],\"formula\":\"O2\",\"molecular_weight\":34.014680,\"units\":{\"molecular_weight\":\"g / mol\"}});\n",
       "\n",
       "               $d.resizable({\n",
       "                   aspectRatio: 400 / 300,\n",
       "                   resize: function (evt, ui) {\n",
       "                       $d.imolecule.renderer.setSize(ui.size.width,\n",
       "                                                     ui.size.height);\n",
       "                   }\n",
       "               });\n",
       "           });\n",
       "           </script>"
      ],
      "text/plain": [
       "<IPython.core.display.HTML object>"
      ]
     },
     "metadata": {},
     "output_type": "display_data"
    },
    {
     "name": "stdout",
     "output_type": "stream",
     "text": [
      "species[7] = HHNOH\n"
     ]
    },
    {
     "data": {
      "text/html": [
       "<div id=\"molecule_e314281d-950c-4d5b-880a-34ea043023f3\"></div>\n",
       "           <script type=\"text/javascript\">\n",
       "           require.config({baseUrl: '/',\n",
       "                           paths: {imolecule: ['nbextensions/imolecule.min', 'https://rawgit.com/patrickfuller/imolecule/master/imolecule/js/build/imolecule.min']}});\n",
       "           require(['imolecule'], function () {\n",
       "               var $d = $('#molecule_e314281d-950c-4d5b-880a-34ea043023f3');\n",
       "               $d.width(400); $d.height(300);\n",
       "               $d.imolecule = jQuery.extend({}, imolecule);\n",
       "               $d.imolecule.create($d, {drawingType: 'ball and stick',\n",
       "                                        cameraType: 'perspective',\n",
       "                                        shader: 'lambert',\n",
       "                                        showSave: false});\n",
       "               $d.imolecule.addElements({});\n",
       "               $d.imolecule.draw({\"atoms\":[{\"charge\":0.235967,\"element\":\"H\",\"location\":[1.239788,0.516982,-0.666649]},{\"charge\":-0.217742,\"element\":\"N\",\"location\":[-0.519713,-0.046540,-0.151558]},{\"charge\":0.149785,\"element\":\"H\",\"location\":[-0.745192,-1.010756,0.110889]},{\"charge\":-0.317793,\"element\":\"O\",\"location\":[0.910821,0.005554,0.101359]},{\"charge\":0.149785,\"element\":\"H\",\"location\":[-0.885705,0.534760,0.605960]}],\"bonds\":[{\"atoms\":[0,3],\"order\":1},{\"atoms\":[1,2],\"order\":1},{\"atoms\":[1,3],\"order\":1},{\"atoms\":[1,4],\"order\":1}],\"formula\":\"H3NO\",\"molecular_weight\":33.029920,\"units\":{\"molecular_weight\":\"g / mol\"}});\n",
       "\n",
       "               $d.resizable({\n",
       "                   aspectRatio: 400 / 300,\n",
       "                   resize: function (evt, ui) {\n",
       "                       $d.imolecule.renderer.setSize(ui.size.width,\n",
       "                                                     ui.size.height);\n",
       "                   }\n",
       "               });\n",
       "           });\n",
       "           </script>"
      ],
      "text/plain": [
       "<IPython.core.display.HTML object>"
      ]
     },
     "metadata": {},
     "output_type": "display_data"
    },
    {
     "name": "stdout",
     "output_type": "stream",
     "text": [
      "species[8] = HOHNHNO\n"
     ]
    },
    {
     "data": {
      "text/html": [
       "<div id=\"molecule_aded599b-3858-4aa3-866a-cda4134e0a56\"></div>\n",
       "           <script type=\"text/javascript\">\n",
       "           require.config({baseUrl: '/',\n",
       "                           paths: {imolecule: ['nbextensions/imolecule.min', 'https://rawgit.com/patrickfuller/imolecule/master/imolecule/js/build/imolecule.min']}});\n",
       "           require(['imolecule'], function () {\n",
       "               var $d = $('#molecule_aded599b-3858-4aa3-866a-cda4134e0a56');\n",
       "               $d.width(400); $d.height(300);\n",
       "               $d.imolecule = jQuery.extend({}, imolecule);\n",
       "               $d.imolecule.create($d, {drawingType: 'ball and stick',\n",
       "                                        cameraType: 'perspective',\n",
       "                                        shader: 'lambert',\n",
       "                                        showSave: false});\n",
       "               $d.imolecule.addElements({});\n",
       "               $d.imolecule.draw({\"atoms\":[{\"charge\":-0.298539,\"element\":\"O\",\"location\":[-1.959561,-0.629558,-0.366430]},{\"charge\":-0.115194,\"element\":\"N\",\"location\":[-0.518685,-0.699785,-0.231699]},{\"charge\":0.175753,\"element\":\"H\",\"location\":[-0.335106,0.551903,1.353143]},{\"charge\":-0.298539,\"element\":\"O\",\"location\":[1.403420,0.402373,0.502682]},{\"charge\":0.237980,\"element\":\"H\",\"location\":[1.675198,0.607036,-0.414060]},{\"charge\":0.175753,\"element\":\"H\",\"location\":[-0.231285,-0.713939,-1.215427]},{\"charge\":-0.115194,\"element\":\"N\",\"location\":[-0.033981,0.481970,0.371790]}],\"bonds\":[{\"atoms\":[0,1],\"order\":1},{\"atoms\":[1,6],\"order\":1},{\"atoms\":[1,5],\"order\":1},{\"atoms\":[2,6],\"order\":1},{\"atoms\":[3,6],\"order\":1},{\"atoms\":[3,4],\"order\":1}],\"formula\":\"H3N2O2\",\"molecular_weight\":64.043960,\"units\":{\"molecular_weight\":\"g / mol\"}});\n",
       "\n",
       "               $d.resizable({\n",
       "                   aspectRatio: 400 / 300,\n",
       "                   resize: function (evt, ui) {\n",
       "                       $d.imolecule.renderer.setSize(ui.size.width,\n",
       "                                                     ui.size.height);\n",
       "                   }\n",
       "               });\n",
       "           });\n",
       "           </script>"
      ],
      "text/plain": [
       "<IPython.core.display.HTML object>"
      ]
     },
     "metadata": {},
     "output_type": "display_data"
    },
    {
     "name": "stdout",
     "output_type": "stream",
     "text": [
      "species[9] = HOHNHN\n"
     ]
    },
    {
     "data": {
      "text/html": [
       "<div id=\"molecule_4752af85-3b29-449e-b799-79c0ab8020a5\"></div>\n",
       "           <script type=\"text/javascript\">\n",
       "           require.config({baseUrl: '/',\n",
       "                           paths: {imolecule: ['nbextensions/imolecule.min', 'https://rawgit.com/patrickfuller/imolecule/master/imolecule/js/build/imolecule.min']}});\n",
       "           require(['imolecule'], function () {\n",
       "               var $d = $('#molecule_4752af85-3b29-449e-b799-79c0ab8020a5');\n",
       "               $d.width(400); $d.height(300);\n",
       "               $d.imolecule = jQuery.extend({}, imolecule);\n",
       "               $d.imolecule.create($d, {drawingType: 'ball and stick',\n",
       "                                        cameraType: 'perspective',\n",
       "                                        shader: 'lambert',\n",
       "                                        showSave: false});\n",
       "               $d.imolecule.addElements({});\n",
       "               $d.imolecule.draw({\"atoms\":[{\"charge\":-0.115194,\"element\":\"N\",\"location\":[-0.845278,-0.804711,-0.292770]},{\"charge\":0.175753,\"element\":\"H\",\"location\":[-0.661699,0.446977,1.292071]},{\"charge\":-0.298539,\"element\":\"O\",\"location\":[1.076827,0.297447,0.441610]},{\"charge\":0.237980,\"element\":\"H\",\"location\":[1.348604,0.502110,-0.475132]},{\"charge\":0.175753,\"element\":\"H\",\"location\":[-0.557878,-0.818865,-1.276498]},{\"charge\":-0.115194,\"element\":\"N\",\"location\":[-0.360574,0.377044,0.310718]}],\"bonds\":[{\"atoms\":[0,5],\"order\":1},{\"atoms\":[0,4],\"order\":1},{\"atoms\":[1,5],\"order\":1},{\"atoms\":[2,5],\"order\":1},{\"atoms\":[2,3],\"order\":1}],\"formula\":\"H3N2O\",\"molecular_weight\":48.044560,\"units\":{\"molecular_weight\":\"g / mol\"}});\n",
       "\n",
       "               $d.resizable({\n",
       "                   aspectRatio: 400 / 300,\n",
       "                   resize: function (evt, ui) {\n",
       "                       $d.imolecule.renderer.setSize(ui.size.width,\n",
       "                                                     ui.size.height);\n",
       "                   }\n",
       "               });\n",
       "           });\n",
       "           </script>"
      ],
      "text/plain": [
       "<IPython.core.display.HTML object>"
      ]
     },
     "metadata": {},
     "output_type": "display_data"
    },
    {
     "name": "stdout",
     "output_type": "stream",
     "text": [
      "species[10] = OH\n"
     ]
    },
    {
     "data": {
      "text/html": [
       "<div id=\"molecule_a350f534-9e8a-48c8-9179-394db535ff04\"></div>\n",
       "           <script type=\"text/javascript\">\n",
       "           require.config({baseUrl: '/',\n",
       "                           paths: {imolecule: ['nbextensions/imolecule.min', 'https://rawgit.com/patrickfuller/imolecule/master/imolecule/js/build/imolecule.min']}});\n",
       "           require(['imolecule'], function () {\n",
       "               var $d = $('#molecule_a350f534-9e8a-48c8-9179-394db535ff04');\n",
       "               $d.width(400); $d.height(300);\n",
       "               $d.imolecule = jQuery.extend({}, imolecule);\n",
       "               $d.imolecule.create($d, {drawingType: 'ball and stick',\n",
       "                                        cameraType: 'perspective',\n",
       "                                        shader: 'lambert',\n",
       "                                        showSave: false});\n",
       "               $d.imolecule.addElements({});\n",
       "               $d.imolecule.draw({\"atoms\":[{\"charge\":0.237980,\"element\":\"H\",\"location\":[-0.117403,-0.472513,-0.016024]},{\"charge\":-0.298539,\"element\":\"O\",\"location\":[0.117403,0.472513,0.016023]}],\"bonds\":[{\"atoms\":[0,1],\"order\":1}],\"formula\":\"HO\",\"molecular_weight\":18.015280,\"units\":{\"molecular_weight\":\"g / mol\"}});\n",
       "\n",
       "               $d.resizable({\n",
       "                   aspectRatio: 400 / 300,\n",
       "                   resize: function (evt, ui) {\n",
       "                       $d.imolecule.renderer.setSize(ui.size.width,\n",
       "                                                     ui.size.height);\n",
       "                   }\n",
       "               });\n",
       "           });\n",
       "           </script>"
      ],
      "text/plain": [
       "<IPython.core.display.HTML object>"
      ]
     },
     "metadata": {},
     "output_type": "display_data"
    },
    {
     "name": "stdout",
     "output_type": "stream",
     "text": [
      "species[11] = HNOH\n"
     ]
    },
    {
     "data": {
      "text/html": [
       "<div id=\"molecule_c6a66ed7-c47b-44f4-af1c-aa8de861e24a\"></div>\n",
       "           <script type=\"text/javascript\">\n",
       "           require.config({baseUrl: '/',\n",
       "                           paths: {imolecule: ['nbextensions/imolecule.min', 'https://rawgit.com/patrickfuller/imolecule/master/imolecule/js/build/imolecule.min']}});\n",
       "           require(['imolecule'], function () {\n",
       "               var $d = $('#molecule_c6a66ed7-c47b-44f4-af1c-aa8de861e24a');\n",
       "               $d.width(400); $d.height(300);\n",
       "               $d.imolecule = jQuery.extend({}, imolecule);\n",
       "               $d.imolecule.create($d, {drawingType: 'ball and stick',\n",
       "                                        cameraType: 'perspective',\n",
       "                                        shader: 'lambert',\n",
       "                                        showSave: false});\n",
       "               $d.imolecule.addElements({});\n",
       "               $d.imolecule.draw({\"atoms\":[{\"charge\":0.237980,\"element\":\"H\",\"location\":[-0.968393,-0.670117,0.154531]},{\"charge\":-0.298539,\"element\":\"O\",\"location\":[-0.733586,0.274909,0.186578]},{\"charge\":-0.115194,\"element\":\"N\",\"location\":[0.707290,0.204682,0.321309]},{\"charge\":0.175753,\"element\":\"H\",\"location\":[0.994690,0.190528,-0.662419]}],\"bonds\":[{\"atoms\":[0,1],\"order\":1},{\"atoms\":[1,2],\"order\":1},{\"atoms\":[3,2],\"order\":1}],\"formula\":\"H2NO\",\"molecular_weight\":33.029920,\"units\":{\"molecular_weight\":\"g / mol\"}});\n",
       "\n",
       "               $d.resizable({\n",
       "                   aspectRatio: 400 / 300,\n",
       "                   resize: function (evt, ui) {\n",
       "                       $d.imolecule.renderer.setSize(ui.size.width,\n",
       "                                                     ui.size.height);\n",
       "                   }\n",
       "               });\n",
       "           });\n",
       "           </script>"
      ],
      "text/plain": [
       "<IPython.core.display.HTML object>"
      ]
     },
     "metadata": {},
     "output_type": "display_data"
    },
    {
     "name": "stdout",
     "output_type": "stream",
     "text": [
      "species[12] = HHOHNNO\n"
     ]
    },
    {
     "data": {
      "text/html": [
       "<div id=\"molecule_6a45a99d-db3c-41af-bb96-2545f0f88fd0\"></div>\n",
       "           <script type=\"text/javascript\">\n",
       "           require.config({baseUrl: '/',\n",
       "                           paths: {imolecule: ['nbextensions/imolecule.min', 'https://rawgit.com/patrickfuller/imolecule/master/imolecule/js/build/imolecule.min']}});\n",
       "           require(['imolecule'], function () {\n",
       "               var $d = $('#molecule_6a45a99d-db3c-41af-bb96-2545f0f88fd0');\n",
       "               $d.width(400); $d.height(300);\n",
       "               $d.imolecule = jQuery.extend({}, imolecule);\n",
       "               $d.imolecule.create($d, {drawingType: 'ball and stick',\n",
       "                                        cameraType: 'perspective',\n",
       "                                        shader: 'lambert',\n",
       "                                        showSave: false});\n",
       "               $d.imolecule.addElements({});\n",
       "               $d.imolecule.draw({\"atoms\":[{\"charge\":-0.298539,\"element\":\"O\",\"location\":[-1.679121,-0.506609,-0.483137]},{\"charge\":-0.115194,\"element\":\"N\",\"location\":[-0.238245,-0.576836,-0.348406]},{\"charge\":0.237980,\"element\":\"H\",\"location\":[-1.913928,-1.451635,-0.515184]},{\"charge\":0.175753,\"element\":\"H\",\"location\":[-0.054666,0.674852,1.236436]},{\"charge\":-0.298539,\"element\":\"O\",\"location\":[1.683860,0.525322,0.385975]},{\"charge\":-0.115194,\"element\":\"N\",\"location\":[0.246459,0.604919,0.255083]},{\"charge\":0.237980,\"element\":\"H\",\"location\":[1.955638,0.729985,-0.530767]}],\"bonds\":[{\"atoms\":[0,2],\"order\":1},{\"atoms\":[0,1],\"order\":1},{\"atoms\":[1,5],\"order\":1},{\"atoms\":[3,5],\"order\":1},{\"atoms\":[4,6],\"order\":1},{\"atoms\":[4,5],\"order\":1}],\"formula\":\"H3N2O2\",\"molecular_weight\":64.043960,\"units\":{\"molecular_weight\":\"g / mol\"}});\n",
       "\n",
       "               $d.resizable({\n",
       "                   aspectRatio: 400 / 300,\n",
       "                   resize: function (evt, ui) {\n",
       "                       $d.imolecule.renderer.setSize(ui.size.width,\n",
       "                                                     ui.size.height);\n",
       "                   }\n",
       "               });\n",
       "           });\n",
       "           </script>"
      ],
      "text/plain": [
       "<IPython.core.display.HTML object>"
      ]
     },
     "metadata": {},
     "output_type": "display_data"
    },
    {
     "name": "stdout",
     "output_type": "stream",
     "text": [
      "species[13] = HONHNH\n"
     ]
    },
    {
     "data": {
      "text/html": [
       "<div id=\"molecule_e5662119-34c4-43b2-b68c-1256d53f01c9\"></div>\n",
       "           <script type=\"text/javascript\">\n",
       "           require.config({baseUrl: '/',\n",
       "                           paths: {imolecule: ['nbextensions/imolecule.min', 'https://rawgit.com/patrickfuller/imolecule/master/imolecule/js/build/imolecule.min']}});\n",
       "           require(['imolecule'], function () {\n",
       "               var $d = $('#molecule_e5662119-34c4-43b2-b68c-1256d53f01c9');\n",
       "               $d.width(400); $d.height(300);\n",
       "               $d.imolecule = jQuery.extend({}, imolecule);\n",
       "               $d.imolecule.create($d, {drawingType: 'ball and stick',\n",
       "                                        cameraType: 'perspective',\n",
       "                                        shader: 'lambert',\n",
       "                                        showSave: false});\n",
       "               $d.imolecule.addElements({});\n",
       "               $d.imolecule.draw({\"atoms\":[{\"charge\":0.138965,\"element\":\"H\",\"location\":[0.496472,0.369475,1.362481]},{\"charge\":0.138965,\"element\":\"H\",\"location\":[0.516631,-1.149714,0.786146]},{\"charge\":-0.141072,\"element\":\"N\",\"location\":[0.413845,0.267155,-0.655601]},{\"charge\":-0.247453,\"element\":\"N\",\"location\":[0.867339,-0.207201,0.603880]},{\"charge\":-0.300543,\"element\":\"O\",\"location\":[-1.011924,0.500011,-0.600021]},{\"charge\":0.237895,\"element\":\"H\",\"location\":[-1.282364,0.220274,-1.496883]}],\"bonds\":[{\"atoms\":[0,3],\"order\":1},{\"atoms\":[1,3],\"order\":1},{\"atoms\":[2,3],\"order\":1},{\"atoms\":[2,4],\"order\":1},{\"atoms\":[4,5],\"order\":1}],\"formula\":\"H3N2O\",\"molecular_weight\":48.044560,\"units\":{\"molecular_weight\":\"g / mol\"}});\n",
       "\n",
       "               $d.resizable({\n",
       "                   aspectRatio: 400 / 300,\n",
       "                   resize: function (evt, ui) {\n",
       "                       $d.imolecule.renderer.setSize(ui.size.width,\n",
       "                                                     ui.size.height);\n",
       "                   }\n",
       "               });\n",
       "           });\n",
       "           </script>"
      ],
      "text/plain": [
       "<IPython.core.display.HTML object>"
      ]
     },
     "metadata": {},
     "output_type": "display_data"
    },
    {
     "name": "stdout",
     "output_type": "stream",
     "text": [
      "species[14] = HNH\n"
     ]
    },
    {
     "data": {
      "text/html": [
       "<div id=\"molecule_3a88f565-f7be-4274-908d-88537dad2b2b\"></div>\n",
       "           <script type=\"text/javascript\">\n",
       "           require.config({baseUrl: '/',\n",
       "                           paths: {imolecule: ['nbextensions/imolecule.min', 'https://rawgit.com/patrickfuller/imolecule/master/imolecule/js/build/imolecule.min']}});\n",
       "           require(['imolecule'], function () {\n",
       "               var $d = $('#molecule_3a88f565-f7be-4274-908d-88537dad2b2b');\n",
       "               $d.width(400); $d.height(300);\n",
       "               $d.imolecule = jQuery.extend({}, imolecule);\n",
       "               $d.imolecule.create($d, {drawingType: 'ball and stick',\n",
       "                                        cameraType: 'perspective',\n",
       "                                        shader: 'lambert',\n",
       "                                        showSave: false});\n",
       "               $d.imolecule.addElements({});\n",
       "               $d.imolecule.draw({\"atoms\":[{\"charge\":0.138965,\"element\":\"H\",\"location\":[-0.130342,0.698622,0.444979]},{\"charge\":-0.247453,\"element\":\"N\",\"location\":[0.240525,0.121946,-0.313622]},{\"charge\":0.138965,\"element\":\"H\",\"location\":[-0.110183,-0.820567,-0.131356]}],\"bonds\":[{\"atoms\":[0,1],\"order\":1},{\"atoms\":[1,2],\"order\":1}],\"formula\":\"H2N\",\"molecular_weight\":17.030520,\"units\":{\"molecular_weight\":\"g / mol\"}});\n",
       "\n",
       "               $d.resizable({\n",
       "                   aspectRatio: 400 / 300,\n",
       "                   resize: function (evt, ui) {\n",
       "                       $d.imolecule.renderer.setSize(ui.size.width,\n",
       "                                                     ui.size.height);\n",
       "                   }\n",
       "               });\n",
       "           });\n",
       "           </script>"
      ],
      "text/plain": [
       "<IPython.core.display.HTML object>"
      ]
     },
     "metadata": {},
     "output_type": "display_data"
    },
    {
     "name": "stdout",
     "output_type": "stream",
     "text": [
      "species[15] = HHNNH\n"
     ]
    },
    {
     "data": {
      "text/html": [
       "<div id=\"molecule_64456592-cee0-41a2-aca0-9927cc796412\"></div>\n",
       "           <script type=\"text/javascript\">\n",
       "           require.config({baseUrl: '/',\n",
       "                           paths: {imolecule: ['nbextensions/imolecule.min', 'https://rawgit.com/patrickfuller/imolecule/master/imolecule/js/build/imolecule.min']}});\n",
       "           require(['imolecule'], function () {\n",
       "               var $d = $('#molecule_64456592-cee0-41a2-aca0-9927cc796412');\n",
       "               $d.width(400); $d.height(300);\n",
       "               $d.imolecule = jQuery.extend({}, imolecule);\n",
       "               $d.imolecule.create($d, {drawingType: 'ball and stick',\n",
       "                                        cameraType: 'perspective',\n",
       "                                        shader: 'lambert',\n",
       "                                        showSave: false});\n",
       "               $d.imolecule.addElements({});\n",
       "               $d.imolecule.draw({\"atoms\":[{\"charge\":0.173244,\"element\":\"H\",\"location\":[0.167638,1.110953,-1.094295]},{\"charge\":-0.141072,\"element\":\"N\",\"location\":[-0.201636,0.169488,-0.906254]},{\"charge\":-0.247453,\"element\":\"N\",\"location\":[0.251858,-0.304868,0.353227]},{\"charge\":0.138965,\"element\":\"H\",\"location\":[-0.098850,-1.247381,0.535493]},{\"charge\":0.138965,\"element\":\"H\",\"location\":[-0.119009,0.271808,1.111828]}],\"bonds\":[{\"atoms\":[0,1],\"order\":1},{\"atoms\":[1,2],\"order\":1},{\"atoms\":[2,4],\"order\":1},{\"atoms\":[2,3],\"order\":1}],\"formula\":\"H3N2\",\"molecular_weight\":32.045160,\"units\":{\"molecular_weight\":\"g / mol\"}});\n",
       "\n",
       "               $d.resizable({\n",
       "                   aspectRatio: 400 / 300,\n",
       "                   resize: function (evt, ui) {\n",
       "                       $d.imolecule.renderer.setSize(ui.size.width,\n",
       "                                                     ui.size.height);\n",
       "                   }\n",
       "               });\n",
       "           });\n",
       "           </script>"
      ],
      "text/plain": [
       "<IPython.core.display.HTML object>"
      ]
     },
     "metadata": {},
     "output_type": "display_data"
    },
    {
     "name": "stdout",
     "output_type": "stream",
     "text": [
      "species[16] = HONHNH\n"
     ]
    },
    {
     "data": {
      "text/html": [
       "<div id=\"molecule_b12f919b-c31c-453d-b5cf-2177b3351b57\"></div>\n",
       "           <script type=\"text/javascript\">\n",
       "           require.config({baseUrl: '/',\n",
       "                           paths: {imolecule: ['nbextensions/imolecule.min', 'https://rawgit.com/patrickfuller/imolecule/master/imolecule/js/build/imolecule.min']}});\n",
       "           require(['imolecule'], function () {\n",
       "               var $d = $('#molecule_b12f919b-c31c-453d-b5cf-2177b3351b57');\n",
       "               $d.width(400); $d.height(300);\n",
       "               $d.imolecule = jQuery.extend({}, imolecule);\n",
       "               $d.imolecule.create($d, {drawingType: 'ball and stick',\n",
       "                                        cameraType: 'perspective',\n",
       "                                        shader: 'lambert',\n",
       "                                        showSave: false});\n",
       "               $d.imolecule.addElements({});\n",
       "               $d.imolecule.draw({\"atoms\":[{\"charge\":0.138965,\"element\":\"H\",\"location\":[0.152225,0.204751,1.253607]},{\"charge\":0.138965,\"element\":\"H\",\"location\":[0.172384,-1.314438,0.677272]},{\"charge\":-0.141072,\"element\":\"N\",\"location\":[0.069598,0.102431,-0.764475]},{\"charge\":-0.247453,\"element\":\"N\",\"location\":[0.523092,-0.371925,0.495006]},{\"charge\":-0.300543,\"element\":\"O\",\"location\":[-1.356171,0.335287,-0.708895]},{\"charge\":0.173244,\"element\":\"H\",\"location\":[0.438872,1.043896,-0.952516]}],\"bonds\":[{\"atoms\":[0,3],\"order\":1},{\"atoms\":[1,3],\"order\":1},{\"atoms\":[2,5],\"order\":1},{\"atoms\":[2,3],\"order\":1},{\"atoms\":[2,4],\"order\":1}],\"formula\":\"H3N2O\",\"molecular_weight\":48.044560,\"units\":{\"molecular_weight\":\"g / mol\"}});\n",
       "\n",
       "               $d.resizable({\n",
       "                   aspectRatio: 400 / 300,\n",
       "                   resize: function (evt, ui) {\n",
       "                       $d.imolecule.renderer.setSize(ui.size.width,\n",
       "                                                     ui.size.height);\n",
       "                   }\n",
       "               });\n",
       "           });\n",
       "           </script>"
      ],
      "text/plain": [
       "<IPython.core.display.HTML object>"
      ]
     },
     "metadata": {},
     "output_type": "display_data"
    },
    {
     "name": "stdout",
     "output_type": "stream",
     "text": [
      "species[17] = HOHN\n"
     ]
    },
    {
     "data": {
      "text/html": [
       "<div id=\"molecule_365d93cd-9c0b-48e3-b063-d1807d931006\"></div>\n",
       "           <script type=\"text/javascript\">\n",
       "           require.config({baseUrl: '/',\n",
       "                           paths: {imolecule: ['nbextensions/imolecule.min', 'https://rawgit.com/patrickfuller/imolecule/master/imolecule/js/build/imolecule.min']}});\n",
       "           require(['imolecule'], function () {\n",
       "               var $d = $('#molecule_365d93cd-9c0b-48e3-b063-d1807d931006');\n",
       "               $d.width(400); $d.height(300);\n",
       "               $d.imolecule = jQuery.extend({}, imolecule);\n",
       "               $d.imolecule.create($d, {drawingType: 'ball and stick',\n",
       "                                        cameraType: 'perspective',\n",
       "                                        shader: 'lambert',\n",
       "                                        showSave: false});\n",
       "               $d.imolecule.addElements({});\n",
       "               $d.imolecule.draw({\"atoms\":[{\"charge\":-0.217742,\"element\":\"N\",\"location\":[-0.209766,0.082706,-0.318221]},{\"charge\":0.149785,\"element\":\"H\",\"location\":[-0.575758,0.664006,0.439298]},{\"charge\":0.149785,\"element\":\"H\",\"location\":[-0.435245,-0.881510,-0.055774]},{\"charge\":-0.317793,\"element\":\"O\",\"location\":[1.220768,0.134800,-0.065304]}],\"bonds\":[{\"atoms\":[3,0],\"order\":1},{\"atoms\":[0,2],\"order\":1},{\"atoms\":[0,1],\"order\":1}],\"formula\":\"H2NO\",\"molecular_weight\":33.029920,\"units\":{\"molecular_weight\":\"g / mol\"}});\n",
       "\n",
       "               $d.resizable({\n",
       "                   aspectRatio: 400 / 300,\n",
       "                   resize: function (evt, ui) {\n",
       "                       $d.imolecule.renderer.setSize(ui.size.width,\n",
       "                                                     ui.size.height);\n",
       "                   }\n",
       "               });\n",
       "           });\n",
       "           </script>"
      ],
      "text/plain": [
       "<IPython.core.display.HTML object>"
      ]
     },
     "metadata": {},
     "output_type": "display_data"
    },
    {
     "name": "stdout",
     "output_type": "stream",
     "text": [
      "species[18] = HNO\n"
     ]
    },
    {
     "data": {
      "text/html": [
       "<div id=\"molecule_167bc3ac-a0d3-4260-927a-c04946825658\"></div>\n",
       "           <script type=\"text/javascript\">\n",
       "           require.config({baseUrl: '/',\n",
       "                           paths: {imolecule: ['nbextensions/imolecule.min', 'https://rawgit.com/patrickfuller/imolecule/master/imolecule/js/build/imolecule.min']}});\n",
       "           require(['imolecule'], function () {\n",
       "               var $d = $('#molecule_167bc3ac-a0d3-4260-927a-c04946825658');\n",
       "               $d.width(400); $d.height(300);\n",
       "               $d.imolecule = jQuery.extend({}, imolecule);\n",
       "               $d.imolecule.create($d, {drawingType: 'ball and stick',\n",
       "                                        cameraType: 'perspective',\n",
       "                                        shader: 'lambert',\n",
       "                                        showSave: false});\n",
       "               $d.imolecule.addElements({});\n",
       "               $d.imolecule.draw({\"atoms\":[{\"charge\":-0.298539,\"element\":\"O\",\"location\":[-1.056384,0.051536,0.238089]},{\"charge\":-0.115194,\"element\":\"N\",\"location\":[0.384492,-0.018691,0.372820]},{\"charge\":0.175753,\"element\":\"H\",\"location\":[0.671892,-0.032845,-0.610908]}],\"bonds\":[{\"atoms\":[0,1],\"order\":1},{\"atoms\":[2,1],\"order\":1}],\"formula\":\"HNO\",\"molecular_weight\":33.029920,\"units\":{\"molecular_weight\":\"g / mol\"}});\n",
       "\n",
       "               $d.resizable({\n",
       "                   aspectRatio: 400 / 300,\n",
       "                   resize: function (evt, ui) {\n",
       "                       $d.imolecule.renderer.setSize(ui.size.width,\n",
       "                                                     ui.size.height);\n",
       "                   }\n",
       "               });\n",
       "           });\n",
       "           </script>"
      ],
      "text/plain": [
       "<IPython.core.display.HTML object>"
      ]
     },
     "metadata": {},
     "output_type": "display_data"
    },
    {
     "name": "stdout",
     "output_type": "stream",
     "text": [
      "species[19] = HOHNNO\n"
     ]
    },
    {
     "data": {
      "text/html": [
       "<div id=\"molecule_3fdbf471-5ef0-4779-ad36-83d75b164599\"></div>\n",
       "           <script type=\"text/javascript\">\n",
       "           require.config({baseUrl: '/',\n",
       "                           paths: {imolecule: ['nbextensions/imolecule.min', 'https://rawgit.com/patrickfuller/imolecule/master/imolecule/js/build/imolecule.min']}});\n",
       "           require(['imolecule'], function () {\n",
       "               var $d = $('#molecule_3fdbf471-5ef0-4779-ad36-83d75b164599');\n",
       "               $d.width(400); $d.height(300);\n",
       "               $d.imolecule = jQuery.extend({}, imolecule);\n",
       "               $d.imolecule.create($d, {drawingType: 'ball and stick',\n",
       "                                        cameraType: 'perspective',\n",
       "                                        shader: 'lambert',\n",
       "                                        showSave: false});\n",
       "               $d.imolecule.addElements({});\n",
       "               $d.imolecule.draw({\"atoms\":[{\"charge\":-0.298539,\"element\":\"O\",\"location\":[-1.998109,-0.748548,-0.569001]},{\"charge\":-0.115194,\"element\":\"N\",\"location\":[-0.557233,-0.818775,-0.434270]},{\"charge\":0.175753,\"element\":\"H\",\"location\":[-0.373653,0.432913,1.150572]},{\"charge\":-0.298539,\"element\":\"O\",\"location\":[1.364872,0.283383,0.300111]},{\"charge\":-0.115194,\"element\":\"N\",\"location\":[-0.072528,0.362980,0.169219]},{\"charge\":0.237980,\"element\":\"H\",\"location\":[1.636651,0.488046,-0.616631]}],\"bonds\":[{\"atoms\":[0,1],\"order\":1},{\"atoms\":[1,4],\"order\":1},{\"atoms\":[2,4],\"order\":1},{\"atoms\":[3,5],\"order\":1},{\"atoms\":[3,4],\"order\":1}],\"formula\":\"H2N2O2\",\"molecular_weight\":64.043960,\"units\":{\"molecular_weight\":\"g / mol\"}});\n",
       "\n",
       "               $d.resizable({\n",
       "                   aspectRatio: 400 / 300,\n",
       "                   resize: function (evt, ui) {\n",
       "                       $d.imolecule.renderer.setSize(ui.size.width,\n",
       "                                                     ui.size.height);\n",
       "                   }\n",
       "               });\n",
       "           });\n",
       "           </script>"
      ],
      "text/plain": [
       "<IPython.core.display.HTML object>"
      ]
     },
     "metadata": {},
     "output_type": "display_data"
    },
    {
     "name": "stdout",
     "output_type": "stream",
     "text": [
      "species[20] = HONHNO\n"
     ]
    },
    {
     "data": {
      "text/html": [
       "<div id=\"molecule_8f78abb5-d286-4eb2-b569-3fb045853bd9\"></div>\n",
       "           <script type=\"text/javascript\">\n",
       "           require.config({baseUrl: '/',\n",
       "                           paths: {imolecule: ['nbextensions/imolecule.min', 'https://rawgit.com/patrickfuller/imolecule/master/imolecule/js/build/imolecule.min']}});\n",
       "           require(['imolecule'], function () {\n",
       "               var $d = $('#molecule_8f78abb5-d286-4eb2-b569-3fb045853bd9');\n",
       "               $d.width(400); $d.height(300);\n",
       "               $d.imolecule = jQuery.extend({}, imolecule);\n",
       "               $d.imolecule.create($d, {drawingType: 'ball and stick',\n",
       "                                        cameraType: 'perspective',\n",
       "                                        shader: 'lambert',\n",
       "                                        showSave: false});\n",
       "               $d.imolecule.addElements({});\n",
       "               $d.imolecule.draw({\"atoms\":[{\"charge\":-0.298539,\"element\":\"O\",\"location\":[-2.015412,-0.537574,-0.140906]},{\"charge\":-0.115194,\"element\":\"N\",\"location\":[-0.574536,-0.607801,-0.006175]},{\"charge\":-0.298539,\"element\":\"O\",\"location\":[1.347569,0.494357,0.728206]},{\"charge\":-0.115194,\"element\":\"N\",\"location\":[-0.089832,0.573954,0.597314]},{\"charge\":0.175753,\"element\":\"H\",\"location\":[-0.287136,-0.621955,-0.989903]},{\"charge\":0.237980,\"element\":\"H\",\"location\":[1.619347,0.699020,-0.188536]}],\"bonds\":[{\"atoms\":[0,1],\"order\":1},{\"atoms\":[1,3],\"order\":1},{\"atoms\":[1,4],\"order\":1},{\"atoms\":[2,5],\"order\":1},{\"atoms\":[2,3],\"order\":1}],\"formula\":\"H2N2O2\",\"molecular_weight\":64.043960,\"units\":{\"molecular_weight\":\"g / mol\"}});\n",
       "\n",
       "               $d.resizable({\n",
       "                   aspectRatio: 400 / 300,\n",
       "                   resize: function (evt, ui) {\n",
       "                       $d.imolecule.renderer.setSize(ui.size.width,\n",
       "                                                     ui.size.height);\n",
       "                   }\n",
       "               });\n",
       "           });\n",
       "           </script>"
      ],
      "text/plain": [
       "<IPython.core.display.HTML object>"
      ]
     },
     "metadata": {},
     "output_type": "display_data"
    },
    {
     "name": "stdout",
     "output_type": "stream",
     "text": [
      "species[21] = HOHNN\n"
     ]
    },
    {
     "data": {
      "text/html": [
       "<div id=\"molecule_646607e9-28f2-4391-8379-32371446ab85\"></div>\n",
       "           <script type=\"text/javascript\">\n",
       "           require.config({baseUrl: '/',\n",
       "                           paths: {imolecule: ['nbextensions/imolecule.min', 'https://rawgit.com/patrickfuller/imolecule/master/imolecule/js/build/imolecule.min']}});\n",
       "           require(['imolecule'], function () {\n",
       "               var $d = $('#molecule_646607e9-28f2-4391-8379-32371446ab85');\n",
       "               $d.width(400); $d.height(300);\n",
       "               $d.imolecule = jQuery.extend({}, imolecule);\n",
       "               $d.imolecule.create($d, {drawingType: 'ball and stick',\n",
       "                                        cameraType: 'perspective',\n",
       "                                        shader: 'lambert',\n",
       "                                        showSave: false});\n",
       "               $d.imolecule.addElements({});\n",
       "               $d.imolecule.draw({\"atoms\":[{\"charge\":-0.115194,\"element\":\"N\",\"location\":[0.581743,0.683852,0.389515]},{\"charge\":0.175753,\"element\":\"H\",\"location\":[0.280618,0.753785,1.370868]},{\"charge\":-0.298539,\"element\":\"O\",\"location\":[-1.343837,-0.427676,-0.348705]},{\"charge\":-0.115194,\"element\":\"N\",\"location\":[0.097039,-0.497903,-0.213974]},{\"charge\":0.175753,\"element\":\"H\",\"location\":[0.384439,-0.512057,-1.197702]}],\"bonds\":[{\"atoms\":[1,0],\"order\":1},{\"atoms\":[0,3],\"order\":1},{\"atoms\":[2,3],\"order\":1},{\"atoms\":[4,3],\"order\":1}],\"formula\":\"H2N2O\",\"molecular_weight\":48.044560,\"units\":{\"molecular_weight\":\"g / mol\"}});\n",
       "\n",
       "               $d.resizable({\n",
       "                   aspectRatio: 400 / 300,\n",
       "                   resize: function (evt, ui) {\n",
       "                       $d.imolecule.renderer.setSize(ui.size.width,\n",
       "                                                     ui.size.height);\n",
       "                   }\n",
       "               });\n",
       "           });\n",
       "           </script>"
      ],
      "text/plain": [
       "<IPython.core.display.HTML object>"
      ]
     },
     "metadata": {},
     "output_type": "display_data"
    },
    {
     "name": "stdout",
     "output_type": "stream",
     "text": [
      "species[22] = OHNHNO\n"
     ]
    },
    {
     "data": {
      "text/html": [
       "<div id=\"molecule_6db6acc2-e68e-4f1a-9bab-d932c2f8d7ae\"></div>\n",
       "           <script type=\"text/javascript\">\n",
       "           require.config({baseUrl: '/',\n",
       "                           paths: {imolecule: ['nbextensions/imolecule.min', 'https://rawgit.com/patrickfuller/imolecule/master/imolecule/js/build/imolecule.min']}});\n",
       "           require(['imolecule'], function () {\n",
       "               var $d = $('#molecule_6db6acc2-e68e-4f1a-9bab-d932c2f8d7ae');\n",
       "               $d.width(400); $d.height(300);\n",
       "               $d.imolecule = jQuery.extend({}, imolecule);\n",
       "               $d.imolecule.create($d, {drawingType: 'ball and stick',\n",
       "                                        cameraType: 'perspective',\n",
       "                                        shader: 'lambert',\n",
       "                                        showSave: false});\n",
       "               $d.imolecule.addElements({});\n",
       "               $d.imolecule.draw({\"atoms\":[{\"charge\":-0.298539,\"element\":\"O\",\"location\":[-1.680361,-0.528385,-0.435440]},{\"charge\":-0.115194,\"element\":\"N\",\"location\":[-0.239485,-0.598612,-0.300709]},{\"charge\":0.175753,\"element\":\"H\",\"location\":[-0.055906,0.653076,1.284133]},{\"charge\":-0.298539,\"element\":\"O\",\"location\":[1.682620,0.503546,0.433672]},{\"charge\":-0.115194,\"element\":\"N\",\"location\":[0.245219,0.583143,0.302780]},{\"charge\":0.175753,\"element\":\"H\",\"location\":[0.047915,-0.612766,-1.284437]}],\"bonds\":[{\"atoms\":[0,1],\"order\":1},{\"atoms\":[1,4],\"order\":1},{\"atoms\":[1,5],\"order\":1},{\"atoms\":[2,4],\"order\":1},{\"atoms\":[3,4],\"order\":1}],\"formula\":\"H2N2O2\",\"molecular_weight\":64.043960,\"units\":{\"molecular_weight\":\"g / mol\"}});\n",
       "\n",
       "               $d.resizable({\n",
       "                   aspectRatio: 400 / 300,\n",
       "                   resize: function (evt, ui) {\n",
       "                       $d.imolecule.renderer.setSize(ui.size.width,\n",
       "                                                     ui.size.height);\n",
       "                   }\n",
       "               });\n",
       "           });\n",
       "           </script>"
      ],
      "text/plain": [
       "<IPython.core.display.HTML object>"
      ]
     },
     "metadata": {},
     "output_type": "display_data"
    },
    {
     "name": "stdout",
     "output_type": "stream",
     "text": [
      "species[23] = HN\n"
     ]
    },
    {
     "data": {
      "text/html": [
       "<div id=\"molecule_11917992-90aa-4b5e-a0c2-eade2b316076\"></div>\n",
       "           <script type=\"text/javascript\">\n",
       "           require.config({baseUrl: '/',\n",
       "                           paths: {imolecule: ['nbextensions/imolecule.min', 'https://rawgit.com/patrickfuller/imolecule/master/imolecule/js/build/imolecule.min']}});\n",
       "           require(['imolecule'], function () {\n",
       "               var $d = $('#molecule_11917992-90aa-4b5e-a0c2-eade2b316076');\n",
       "               $d.width(400); $d.height(300);\n",
       "               $d.imolecule = jQuery.extend({}, imolecule);\n",
       "               $d.imolecule.create($d, {drawingType: 'ball and stick',\n",
       "                                        cameraType: 'perspective',\n",
       "                                        shader: 'lambert',\n",
       "                                        showSave: false});\n",
       "               $d.imolecule.addElements({});\n",
       "               $d.imolecule.draw({\"atoms\":[{\"charge\":-0.115194,\"element\":\"N\",\"location\":[-0.143700,0.007077,0.491864]},{\"charge\":0.175753,\"element\":\"H\",\"location\":[0.143700,-0.007077,-0.491864]}],\"bonds\":[{\"atoms\":[1,0],\"order\":1}],\"formula\":\"HN\",\"molecular_weight\":17.030520,\"units\":{\"molecular_weight\":\"g / mol\"}});\n",
       "\n",
       "               $d.resizable({\n",
       "                   aspectRatio: 400 / 300,\n",
       "                   resize: function (evt, ui) {\n",
       "                       $d.imolecule.renderer.setSize(ui.size.width,\n",
       "                                                     ui.size.height);\n",
       "                   }\n",
       "               });\n",
       "           });\n",
       "           </script>"
      ],
      "text/plain": [
       "<IPython.core.display.HTML object>"
      ]
     },
     "metadata": {},
     "output_type": "display_data"
    },
    {
     "name": "stdout",
     "output_type": "stream",
     "text": [
      "species[24] = HNNHO\n"
     ]
    },
    {
     "data": {
      "text/html": [
       "<div id=\"molecule_7f7f44d1-a827-452f-9b04-fd574bbbdafb\"></div>\n",
       "           <script type=\"text/javascript\">\n",
       "           require.config({baseUrl: '/',\n",
       "                           paths: {imolecule: ['nbextensions/imolecule.min', 'https://rawgit.com/patrickfuller/imolecule/master/imolecule/js/build/imolecule.min']}});\n",
       "           require(['imolecule'], function () {\n",
       "               var $d = $('#molecule_7f7f44d1-a827-452f-9b04-fd574bbbdafb');\n",
       "               $d.width(400); $d.height(300);\n",
       "               $d.imolecule = jQuery.extend({}, imolecule);\n",
       "               $d.imolecule.create($d, {drawingType: 'ball and stick',\n",
       "                                        cameraType: 'perspective',\n",
       "                                        shader: 'lambert',\n",
       "                                        showSave: false});\n",
       "               $d.imolecule.addElements({});\n",
       "               $d.imolecule.draw({\"atoms\":[{\"charge\":-0.298539,\"element\":\"O\",\"location\":[0.965251,0.133674,0.186311]},{\"charge\":0.175753,\"element\":\"H\",\"location\":[-0.773275,0.283204,1.036772]},{\"charge\":0.237980,\"element\":\"H\",\"location\":[1.237029,0.338337,-0.730431]},{\"charge\":-0.115194,\"element\":\"N\",\"location\":[-0.472150,0.213271,0.055419]},{\"charge\":-0.115194,\"element\":\"N\",\"location\":[-0.956854,-0.968484,-0.548070]}],\"bonds\":[{\"atoms\":[0,3],\"order\":1},{\"atoms\":[0,2],\"order\":1},{\"atoms\":[1,3],\"order\":1},{\"atoms\":[3,4],\"order\":1}],\"formula\":\"H2N2O\",\"molecular_weight\":48.044560,\"units\":{\"molecular_weight\":\"g / mol\"}});\n",
       "\n",
       "               $d.resizable({\n",
       "                   aspectRatio: 400 / 300,\n",
       "                   resize: function (evt, ui) {\n",
       "                       $d.imolecule.renderer.setSize(ui.size.width,\n",
       "                                                     ui.size.height);\n",
       "                   }\n",
       "               });\n",
       "           });\n",
       "           </script>"
      ],
      "text/plain": [
       "<IPython.core.display.HTML object>"
      ]
     },
     "metadata": {},
     "output_type": "display_data"
    },
    {
     "name": "stdout",
     "output_type": "stream",
     "text": [
      "species[25] = HNNHO\n"
     ]
    },
    {
     "data": {
      "text/html": [
       "<div id=\"molecule_5c4699e0-ebd4-44ad-996f-ea1c6c92050b\"></div>\n",
       "           <script type=\"text/javascript\">\n",
       "           require.config({baseUrl: '/',\n",
       "                           paths: {imolecule: ['nbextensions/imolecule.min', 'https://rawgit.com/patrickfuller/imolecule/master/imolecule/js/build/imolecule.min']}});\n",
       "           require(['imolecule'], function () {\n",
       "               var $d = $('#molecule_5c4699e0-ebd4-44ad-996f-ea1c6c92050b');\n",
       "               $d.width(400); $d.height(300);\n",
       "               $d.imolecule = jQuery.extend({}, imolecule);\n",
       "               $d.imolecule.create($d, {drawingType: 'ball and stick',\n",
       "                                        cameraType: 'perspective',\n",
       "                                        shader: 'lambert',\n",
       "                                        showSave: false});\n",
       "               $d.imolecule.addElements({});\n",
       "               $d.imolecule.draw({\"atoms\":[{\"charge\":-0.298539,\"element\":\"O\",\"location\":[0.944487,0.386842,0.700025]},{\"charge\":0.237980,\"element\":\"H\",\"location\":[1.216265,0.591505,-0.216717]},{\"charge\":-0.115194,\"element\":\"N\",\"location\":[-0.492914,0.466439,0.569133]},{\"charge\":-0.115194,\"element\":\"N\",\"location\":[-0.977618,-0.715316,-0.034356]},{\"charge\":0.175753,\"element\":\"H\",\"location\":[-0.690218,-0.729470,-1.018084]}],\"bonds\":[{\"atoms\":[0,2],\"order\":1},{\"atoms\":[0,1],\"order\":1},{\"atoms\":[2,3],\"order\":1},{\"atoms\":[4,3],\"order\":1}],\"formula\":\"H2N2O\",\"molecular_weight\":48.044560,\"units\":{\"molecular_weight\":\"g / mol\"}});\n",
       "\n",
       "               $d.resizable({\n",
       "                   aspectRatio: 400 / 300,\n",
       "                   resize: function (evt, ui) {\n",
       "                       $d.imolecule.renderer.setSize(ui.size.width,\n",
       "                                                     ui.size.height);\n",
       "                   }\n",
       "               });\n",
       "           });\n",
       "           </script>"
      ],
      "text/plain": [
       "<IPython.core.display.HTML object>"
      ]
     },
     "metadata": {},
     "output_type": "display_data"
    },
    {
     "name": "stdout",
     "output_type": "stream",
     "text": [
      "species[26] = HHNN\n"
     ]
    },
    {
     "data": {
      "text/html": [
       "<div id=\"molecule_085b88e4-a85d-416a-89e6-25e3d67f360e\"></div>\n",
       "           <script type=\"text/javascript\">\n",
       "           require.config({baseUrl: '/',\n",
       "                           paths: {imolecule: ['nbextensions/imolecule.min', 'https://rawgit.com/patrickfuller/imolecule/master/imolecule/js/build/imolecule.min']}});\n",
       "           require(['imolecule'], function () {\n",
       "               var $d = $('#molecule_085b88e4-a85d-416a-89e6-25e3d67f360e');\n",
       "               $d.width(400); $d.height(300);\n",
       "               $d.imolecule = jQuery.extend({}, imolecule);\n",
       "               $d.imolecule.create($d, {drawingType: 'ball and stick',\n",
       "                                        cameraType: 'perspective',\n",
       "                                        shader: 'lambert',\n",
       "                                        showSave: false});\n",
       "               $d.imolecule.addElements({});\n",
       "               $d.imolecule.draw({\"atoms\":[{\"charge\":-0.115194,\"element\":\"N\",\"location\":[0.245783,0.576933,0.302338]},{\"charge\":0.175753,\"element\":\"H\",\"location\":[-0.055342,0.646866,1.283691]},{\"charge\":-0.115194,\"element\":\"N\",\"location\":[-0.238921,-0.604822,-0.301151]},{\"charge\":0.175753,\"element\":\"H\",\"location\":[0.048479,-0.618976,-1.284879]}],\"bonds\":[{\"atoms\":[1,0],\"order\":1},{\"atoms\":[0,2],\"order\":1},{\"atoms\":[3,2],\"order\":1}],\"formula\":\"H2N2\",\"molecular_weight\":32.045160,\"units\":{\"molecular_weight\":\"g / mol\"}});\n",
       "\n",
       "               $d.resizable({\n",
       "                   aspectRatio: 400 / 300,\n",
       "                   resize: function (evt, ui) {\n",
       "                       $d.imolecule.renderer.setSize(ui.size.width,\n",
       "                                                     ui.size.height);\n",
       "                   }\n",
       "               });\n",
       "           });\n",
       "           </script>"
      ],
      "text/plain": [
       "<IPython.core.display.HTML object>"
      ]
     },
     "metadata": {},
     "output_type": "display_data"
    },
    {
     "name": "stdout",
     "output_type": "stream",
     "text": [
      "species[27] = NOH\n"
     ]
    },
    {
     "data": {
      "text/html": [
       "<div id=\"molecule_ba94b888-3c58-498a-beef-d3b818587d94\"></div>\n",
       "           <script type=\"text/javascript\">\n",
       "           require.config({baseUrl: '/',\n",
       "                           paths: {imolecule: ['nbextensions/imolecule.min', 'https://rawgit.com/patrickfuller/imolecule/master/imolecule/js/build/imolecule.min']}});\n",
       "           require(['imolecule'], function () {\n",
       "               var $d = $('#molecule_ba94b888-3c58-498a-beef-d3b818587d94');\n",
       "               $d.width(400); $d.height(300);\n",
       "               $d.imolecule = jQuery.extend({}, imolecule);\n",
       "               $d.imolecule.create($d, {drawingType: 'ball and stick',\n",
       "                                        cameraType: 'perspective',\n",
       "                                        shader: 'lambert',\n",
       "                                        showSave: false});\n",
       "               $d.imolecule.addElements({});\n",
       "               $d.imolecule.draw({\"atoms\":[{\"charge\":0.237980,\"element\":\"H\",\"location\":[-0.636830,-0.606608,-0.066275]},{\"charge\":-0.298539,\"element\":\"O\",\"location\":[-0.402023,0.338418,-0.034228]},{\"charge\":-0.115194,\"element\":\"N\",\"location\":[1.038853,0.268191,0.100503]}],\"bonds\":[{\"atoms\":[0,1],\"order\":1},{\"atoms\":[1,2],\"order\":1}],\"formula\":\"HNO\",\"molecular_weight\":33.029920,\"units\":{\"molecular_weight\":\"g / mol\"}});\n",
       "\n",
       "               $d.resizable({\n",
       "                   aspectRatio: 400 / 300,\n",
       "                   resize: function (evt, ui) {\n",
       "                       $d.imolecule.renderer.setSize(ui.size.width,\n",
       "                                                     ui.size.height);\n",
       "                   }\n",
       "               });\n",
       "           });\n",
       "           </script>"
      ],
      "text/plain": [
       "<IPython.core.display.HTML object>"
      ]
     },
     "metadata": {},
     "output_type": "display_data"
    },
    {
     "name": "stdout",
     "output_type": "stream",
     "text": [
      "species[28] = HHONNO\n"
     ]
    },
    {
     "data": {
      "text/html": [
       "<div id=\"molecule_7f874600-cb97-42fc-9a86-82088d71a79b\"></div>\n",
       "           <script type=\"text/javascript\">\n",
       "           require.config({baseUrl: '/',\n",
       "                           paths: {imolecule: ['nbextensions/imolecule.min', 'https://rawgit.com/patrickfuller/imolecule/master/imolecule/js/build/imolecule.min']}});\n",
       "           require(['imolecule'], function () {\n",
       "               var $d = $('#molecule_7f874600-cb97-42fc-9a86-82088d71a79b');\n",
       "               $d.width(400); $d.height(300);\n",
       "               $d.imolecule = jQuery.extend({}, imolecule);\n",
       "               $d.imolecule.create($d, {drawingType: 'ball and stick',\n",
       "                                        cameraType: 'perspective',\n",
       "                                        shader: 'lambert',\n",
       "                                        showSave: false});\n",
       "               $d.imolecule.addElements({});\n",
       "               $d.imolecule.draw({\"atoms\":[{\"charge\":-0.298539,\"element\":\"O\",\"location\":[-1.688232,-0.394133,-0.277064]},{\"charge\":-0.115194,\"element\":\"N\",\"location\":[-0.247355,-0.464360,-0.142333]},{\"charge\":0.237980,\"element\":\"H\",\"location\":[-1.923039,-1.339159,-0.309111]},{\"charge\":-0.298539,\"element\":\"O\",\"location\":[1.674749,0.637798,0.592048]},{\"charge\":-0.115194,\"element\":\"N\",\"location\":[0.237349,0.717395,0.461156]},{\"charge\":0.237980,\"element\":\"H\",\"location\":[1.946528,0.842461,-0.324694]}],\"bonds\":[{\"atoms\":[0,2],\"order\":1},{\"atoms\":[0,1],\"order\":1},{\"atoms\":[1,4],\"order\":1},{\"atoms\":[3,5],\"order\":1},{\"atoms\":[3,4],\"order\":1}],\"formula\":\"H2N2O2\",\"molecular_weight\":64.043960,\"units\":{\"molecular_weight\":\"g / mol\"}});\n",
       "\n",
       "               $d.resizable({\n",
       "                   aspectRatio: 400 / 300,\n",
       "                   resize: function (evt, ui) {\n",
       "                       $d.imolecule.renderer.setSize(ui.size.width,\n",
       "                                                     ui.size.height);\n",
       "                   }\n",
       "               });\n",
       "           });\n",
       "           </script>"
      ],
      "text/plain": [
       "<IPython.core.display.HTML object>"
      ]
     },
     "metadata": {},
     "output_type": "display_data"
    },
    {
     "name": "stdout",
     "output_type": "stream",
     "text": [
      "species[29] = NHNH\n"
     ]
    },
    {
     "data": {
      "text/html": [
       "<div id=\"molecule_d88cc709-c13e-46d7-bd8d-ea300a467aaa\"></div>\n",
       "           <script type=\"text/javascript\">\n",
       "           require.config({baseUrl: '/',\n",
       "                           paths: {imolecule: ['nbextensions/imolecule.min', 'https://rawgit.com/patrickfuller/imolecule/master/imolecule/js/build/imolecule.min']}});\n",
       "           require(['imolecule'], function () {\n",
       "               var $d = $('#molecule_d88cc709-c13e-46d7-bd8d-ea300a467aaa');\n",
       "               $d.width(400); $d.height(300);\n",
       "               $d.imolecule = jQuery.extend({}, imolecule);\n",
       "               $d.imolecule.create($d, {drawingType: 'ball and stick',\n",
       "                                        cameraType: 'perspective',\n",
       "                                        shader: 'lambert',\n",
       "                                        showSave: false});\n",
       "               $d.imolecule.addElements({});\n",
       "               $d.imolecule.draw({\"atoms\":[{\"charge\":0.138965,\"element\":\"H\",\"location\":[-0.077100,0.549546,0.838255]},{\"charge\":-0.141072,\"element\":\"N\",\"location\":[-0.159727,0.447226,-1.179828]},{\"charge\":-0.247453,\"element\":\"N\",\"location\":[0.293767,-0.027130,0.079654]},{\"charge\":0.138965,\"element\":\"H\",\"location\":[-0.056941,-0.969643,0.261919]}],\"bonds\":[{\"atoms\":[1,2],\"order\":1},{\"atoms\":[0,2],\"order\":1},{\"atoms\":[2,3],\"order\":1}],\"formula\":\"H2N2\",\"molecular_weight\":32.045160,\"units\":{\"molecular_weight\":\"g / mol\"}});\n",
       "\n",
       "               $d.resizable({\n",
       "                   aspectRatio: 400 / 300,\n",
       "                   resize: function (evt, ui) {\n",
       "                       $d.imolecule.renderer.setSize(ui.size.width,\n",
       "                                                     ui.size.height);\n",
       "                   }\n",
       "               });\n",
       "           });\n",
       "           </script>"
      ],
      "text/plain": [
       "<IPython.core.display.HTML object>"
      ]
     },
     "metadata": {},
     "output_type": "display_data"
    },
    {
     "name": "stdout",
     "output_type": "stream",
     "text": [
      "species[30] = ONHNH\n"
     ]
    },
    {
     "data": {
      "text/html": [
       "<div id=\"molecule_30f5ff46-acf6-4611-b2f4-aef77d3f4d54\"></div>\n",
       "           <script type=\"text/javascript\">\n",
       "           require.config({baseUrl: '/',\n",
       "                           paths: {imolecule: ['nbextensions/imolecule.min', 'https://rawgit.com/patrickfuller/imolecule/master/imolecule/js/build/imolecule.min']}});\n",
       "           require(['imolecule'], function () {\n",
       "               var $d = $('#molecule_30f5ff46-acf6-4611-b2f4-aef77d3f4d54');\n",
       "               $d.width(400); $d.height(300);\n",
       "               $d.imolecule = jQuery.extend({}, imolecule);\n",
       "               $d.imolecule.create($d, {drawingType: 'ball and stick',\n",
       "                                        cameraType: 'perspective',\n",
       "                                        shader: 'lambert',\n",
       "                                        showSave: false});\n",
       "               $d.imolecule.addElements({});\n",
       "               $d.imolecule.draw({\"atoms\":[{\"charge\":0.138965,\"element\":\"H\",\"location\":[0.239999,0.413530,1.063104]},{\"charge\":-0.141072,\"element\":\"N\",\"location\":[0.157372,0.311210,-0.954978]},{\"charge\":-0.247453,\"element\":\"N\",\"location\":[0.610866,-0.163146,0.304503]},{\"charge\":0.138965,\"element\":\"H\",\"location\":[0.260158,-1.105659,0.486769]},{\"charge\":-0.300543,\"element\":\"O\",\"location\":[-1.268397,0.544066,-0.899398]}],\"bonds\":[{\"atoms\":[1,2],\"order\":1},{\"atoms\":[1,4],\"order\":1},{\"atoms\":[0,2],\"order\":1},{\"atoms\":[2,3],\"order\":1}],\"formula\":\"H2N2O\",\"molecular_weight\":48.044560,\"units\":{\"molecular_weight\":\"g / mol\"}});\n",
       "\n",
       "               $d.resizable({\n",
       "                   aspectRatio: 400 / 300,\n",
       "                   resize: function (evt, ui) {\n",
       "                       $d.imolecule.renderer.setSize(ui.size.width,\n",
       "                                                     ui.size.height);\n",
       "                   }\n",
       "               });\n",
       "           });\n",
       "           </script>"
      ],
      "text/plain": [
       "<IPython.core.display.HTML object>"
      ]
     },
     "metadata": {},
     "output_type": "display_data"
    },
    {
     "name": "stdout",
     "output_type": "stream",
     "text": [
      "species[31] = NO\n"
     ]
    },
    {
     "data": {
      "text/html": [
       "<div id=\"molecule_6665a3de-69b4-4a3f-8ffb-3835e017c04e\"></div>\n",
       "           <script type=\"text/javascript\">\n",
       "           require.config({baseUrl: '/',\n",
       "                           paths: {imolecule: ['nbextensions/imolecule.min', 'https://rawgit.com/patrickfuller/imolecule/master/imolecule/js/build/imolecule.min']}});\n",
       "           require(['imolecule'], function () {\n",
       "               var $d = $('#molecule_6665a3de-69b4-4a3f-8ffb-3835e017c04e');\n",
       "               $d.width(400); $d.height(300);\n",
       "               $d.imolecule = jQuery.extend({}, imolecule);\n",
       "               $d.imolecule.create($d, {drawingType: 'ball and stick',\n",
       "                                        cameraType: 'perspective',\n",
       "                                        shader: 'lambert',\n",
       "                                        showSave: false});\n",
       "               $d.imolecule.addElements({});\n",
       "               $d.imolecule.draw({\"atoms\":[{\"charge\":-0.298539,\"element\":\"O\",\"location\":[-0.720438,0.035114,-0.067366]},{\"charge\":-0.115194,\"element\":\"N\",\"location\":[0.720438,-0.035114,0.067365]}],\"bonds\":[{\"atoms\":[0,1],\"order\":1}],\"formula\":\"NO\",\"molecular_weight\":33.029920,\"units\":{\"molecular_weight\":\"g / mol\"}});\n",
       "\n",
       "               $d.resizable({\n",
       "                   aspectRatio: 400 / 300,\n",
       "                   resize: function (evt, ui) {\n",
       "                       $d.imolecule.renderer.setSize(ui.size.width,\n",
       "                                                     ui.size.height);\n",
       "                   }\n",
       "               });\n",
       "           });\n",
       "           </script>"
      ],
      "text/plain": [
       "<IPython.core.display.HTML object>"
      ]
     },
     "metadata": {},
     "output_type": "display_data"
    },
    {
     "name": "stdout",
     "output_type": "stream",
     "text": [
      "species[32] = ONNHO\n"
     ]
    },
    {
     "data": {
      "text/html": [
       "<div id=\"molecule_f9f4bbac-4a0f-4ecf-bab3-949a0ad1e40b\"></div>\n",
       "           <script type=\"text/javascript\">\n",
       "           require.config({baseUrl: '/',\n",
       "                           paths: {imolecule: ['nbextensions/imolecule.min', 'https://rawgit.com/patrickfuller/imolecule/master/imolecule/js/build/imolecule.min']}});\n",
       "           require(['imolecule'], function () {\n",
       "               var $d = $('#molecule_f9f4bbac-4a0f-4ecf-bab3-949a0ad1e40b');\n",
       "               $d.width(400); $d.height(300);\n",
       "               $d.imolecule = jQuery.extend({}, imolecule);\n",
       "               $d.imolecule.create($d, {drawingType: 'ball and stick',\n",
       "                                        cameraType: 'perspective',\n",
       "                                        shader: 'lambert',\n",
       "                                        showSave: false});\n",
       "               $d.imolecule.addElements({});\n",
       "               $d.imolecule.draw({\"atoms\":[{\"charge\":-0.298539,\"element\":\"O\",\"location\":[1.290142,0.369966,0.530225]},{\"charge\":0.237980,\"element\":\"H\",\"location\":[1.561920,0.574629,-0.386517]},{\"charge\":-0.115194,\"element\":\"N\",\"location\":[-0.147259,0.449563,0.399333]},{\"charge\":-0.298539,\"element\":\"O\",\"location\":[-2.072839,-0.661965,-0.338887]},{\"charge\":-0.115194,\"element\":\"N\",\"location\":[-0.631963,-0.732192,-0.204156]}],\"bonds\":[{\"atoms\":[0,2],\"order\":1},{\"atoms\":[0,1],\"order\":1},{\"atoms\":[2,4],\"order\":1},{\"atoms\":[3,4],\"order\":1}],\"formula\":\"HN2O2\",\"molecular_weight\":64.043960,\"units\":{\"molecular_weight\":\"g / mol\"}});\n",
       "\n",
       "               $d.resizable({\n",
       "                   aspectRatio: 400 / 300,\n",
       "                   resize: function (evt, ui) {\n",
       "                       $d.imolecule.renderer.setSize(ui.size.width,\n",
       "                                                     ui.size.height);\n",
       "                   }\n",
       "               });\n",
       "           });\n",
       "           </script>"
      ],
      "text/plain": [
       "<IPython.core.display.HTML object>"
      ]
     },
     "metadata": {},
     "output_type": "display_data"
    },
    {
     "name": "stdout",
     "output_type": "stream",
     "text": [
      "species[33] = HONNO\n"
     ]
    },
    {
     "data": {
      "text/html": [
       "<div id=\"molecule_79b76715-5000-4191-87c8-f8161558808f\"></div>\n",
       "           <script type=\"text/javascript\">\n",
       "           require.config({baseUrl: '/',\n",
       "                           paths: {imolecule: ['nbextensions/imolecule.min', 'https://rawgit.com/patrickfuller/imolecule/master/imolecule/js/build/imolecule.min']}});\n",
       "           require(['imolecule'], function () {\n",
       "               var $d = $('#molecule_79b76715-5000-4191-87c8-f8161558808f');\n",
       "               $d.width(400); $d.height(300);\n",
       "               $d.imolecule = jQuery.extend({}, imolecule);\n",
       "               $d.imolecule.create($d, {drawingType: 'ball and stick',\n",
       "                                        cameraType: 'perspective',\n",
       "                                        shader: 'lambert',\n",
       "                                        showSave: false});\n",
       "               $d.imolecule.addElements({});\n",
       "               $d.imolecule.draw({\"atoms\":[{\"charge\":-0.298539,\"element\":\"O\",\"location\":[1.692203,0.380992,0.176785]},{\"charge\":0.175753,\"element\":\"H\",\"location\":[-0.046323,0.530522,1.027246]},{\"charge\":-0.115194,\"element\":\"N\",\"location\":[0.254802,0.460589,0.045893]},{\"charge\":-0.298539,\"element\":\"O\",\"location\":[-1.670778,-0.650939,-0.692327]},{\"charge\":-0.115194,\"element\":\"N\",\"location\":[-0.229902,-0.721166,-0.557596]}],\"bonds\":[{\"atoms\":[0,2],\"order\":1},{\"atoms\":[1,2],\"order\":1},{\"atoms\":[2,4],\"order\":1},{\"atoms\":[3,4],\"order\":1}],\"formula\":\"HN2O2\",\"molecular_weight\":64.043960,\"units\":{\"molecular_weight\":\"g / mol\"}});\n",
       "\n",
       "               $d.resizable({\n",
       "                   aspectRatio: 400 / 300,\n",
       "                   resize: function (evt, ui) {\n",
       "                       $d.imolecule.renderer.setSize(ui.size.width,\n",
       "                                                     ui.size.height);\n",
       "                   }\n",
       "               });\n",
       "           });\n",
       "           </script>"
      ],
      "text/plain": [
       "<IPython.core.display.HTML object>"
      ]
     },
     "metadata": {},
     "output_type": "display_data"
    },
    {
     "name": "stdout",
     "output_type": "stream",
     "text": [
      "species[34] = HONN\n"
     ]
    },
    {
     "data": {
      "text/html": [
       "<div id=\"molecule_5542f06b-9c3a-4ce0-b213-ce143f44d744\"></div>\n",
       "           <script type=\"text/javascript\">\n",
       "           require.config({baseUrl: '/',\n",
       "                           paths: {imolecule: ['nbextensions/imolecule.min', 'https://rawgit.com/patrickfuller/imolecule/master/imolecule/js/build/imolecule.min']}});\n",
       "           require(['imolecule'], function () {\n",
       "               var $d = $('#molecule_5542f06b-9c3a-4ce0-b213-ce143f44d744');\n",
       "               $d.width(400); $d.height(300);\n",
       "               $d.imolecule = jQuery.extend({}, imolecule);\n",
       "               $d.imolecule.create($d, {drawingType: 'ball and stick',\n",
       "                                        cameraType: 'perspective',\n",
       "                                        shader: 'lambert',\n",
       "                                        showSave: false});\n",
       "               $d.imolecule.addElements({});\n",
       "               $d.imolecule.draw({\"atoms\":[{\"charge\":-0.115194,\"element\":\"N\",\"location\":[0.677852,0.555837,0.090089]},{\"charge\":0.175753,\"element\":\"H\",\"location\":[0.376727,0.625771,1.071442]},{\"charge\":-0.298539,\"element\":\"O\",\"location\":[-1.247728,-0.555690,-0.648131]},{\"charge\":-0.115194,\"element\":\"N\",\"location\":[0.193148,-0.625918,-0.513400]}],\"bonds\":[{\"atoms\":[1,0],\"order\":1},{\"atoms\":[0,3],\"order\":1},{\"atoms\":[2,3],\"order\":1}],\"formula\":\"HN2O\",\"molecular_weight\":48.044560,\"units\":{\"molecular_weight\":\"g / mol\"}});\n",
       "\n",
       "               $d.resizable({\n",
       "                   aspectRatio: 400 / 300,\n",
       "                   resize: function (evt, ui) {\n",
       "                       $d.imolecule.renderer.setSize(ui.size.width,\n",
       "                                                     ui.size.height);\n",
       "                   }\n",
       "               });\n",
       "           });\n",
       "           </script>"
      ],
      "text/plain": [
       "<IPython.core.display.HTML object>"
      ]
     },
     "metadata": {},
     "output_type": "display_data"
    },
    {
     "name": "stdout",
     "output_type": "stream",
     "text": [
      "species[35] = OHNN\n"
     ]
    },
    {
     "data": {
      "text/html": [
       "<div id=\"molecule_3ba2aa9e-be32-403b-972b-b1134d7a6a7c\"></div>\n",
       "           <script type=\"text/javascript\">\n",
       "           require.config({baseUrl: '/',\n",
       "                           paths: {imolecule: ['nbextensions/imolecule.min', 'https://rawgit.com/patrickfuller/imolecule/master/imolecule/js/build/imolecule.min']}});\n",
       "           require(['imolecule'], function () {\n",
       "               var $d = $('#molecule_3ba2aa9e-be32-403b-972b-b1134d7a6a7c');\n",
       "               $d.width(400); $d.height(300);\n",
       "               $d.imolecule = jQuery.extend({}, imolecule);\n",
       "               $d.imolecule.create($d, {drawingType: 'ball and stick',\n",
       "                                        cameraType: 'perspective',\n",
       "                                        shader: 'lambert',\n",
       "                                        showSave: false});\n",
       "               $d.imolecule.addElements({});\n",
       "               $d.imolecule.draw({\"atoms\":[{\"charge\":-0.115194,\"element\":\"N\",\"location\":[0.651897,0.872298,0.732231]},{\"charge\":-0.298539,\"element\":\"O\",\"location\":[-1.273683,-0.239230,-0.005989]},{\"charge\":-0.115194,\"element\":\"N\",\"location\":[0.167193,-0.309457,0.128743]},{\"charge\":0.175753,\"element\":\"H\",\"location\":[0.454593,-0.323611,-0.854985]}],\"bonds\":[{\"atoms\":[0,2],\"order\":1},{\"atoms\":[1,2],\"order\":1},{\"atoms\":[3,2],\"order\":1}],\"formula\":\"HN2O\",\"molecular_weight\":48.044560,\"units\":{\"molecular_weight\":\"g / mol\"}});\n",
       "\n",
       "               $d.resizable({\n",
       "                   aspectRatio: 400 / 300,\n",
       "                   resize: function (evt, ui) {\n",
       "                       $d.imolecule.renderer.setSize(ui.size.width,\n",
       "                                                     ui.size.height);\n",
       "                   }\n",
       "               });\n",
       "           });\n",
       "           </script>"
      ],
      "text/plain": [
       "<IPython.core.display.HTML object>"
      ]
     },
     "metadata": {},
     "output_type": "display_data"
    },
    {
     "name": "stdout",
     "output_type": "stream",
     "text": [
      "species[36] = NNH\n"
     ]
    },
    {
     "data": {
      "text/html": [
       "<div id=\"molecule_0869e52d-68a2-491c-9f0c-01df333d7957\"></div>\n",
       "           <script type=\"text/javascript\">\n",
       "           require.config({baseUrl: '/',\n",
       "                           paths: {imolecule: ['nbextensions/imolecule.min', 'https://rawgit.com/patrickfuller/imolecule/master/imolecule/js/build/imolecule.min']}});\n",
       "           require(['imolecule'], function () {\n",
       "               var $d = $('#molecule_0869e52d-68a2-491c-9f0c-01df333d7957');\n",
       "               $d.width(400); $d.height(300);\n",
       "               $d.imolecule = jQuery.extend({}, imolecule);\n",
       "               $d.imolecule.create($d, {drawingType: 'ball and stick',\n",
       "                                        cameraType: 'perspective',\n",
       "                                        shader: 'lambert',\n",
       "                                        showSave: false});\n",
       "               $d.imolecule.addElements({});\n",
       "               $d.imolecule.draw({\"atoms\":[{\"charge\":0.175753,\"element\":\"H\",\"location\":[-0.039182,0.440540,0.855398]},{\"charge\":-0.115194,\"element\":\"N\",\"location\":[0.261943,0.370607,-0.125955]},{\"charge\":-0.115194,\"element\":\"N\",\"location\":[-0.222761,-0.811148,-0.729444]}],\"bonds\":[{\"atoms\":[1,0],\"order\":1},{\"atoms\":[1,2],\"order\":1}],\"formula\":\"HN2\",\"molecular_weight\":32.045160,\"units\":{\"molecular_weight\":\"g / mol\"}});\n",
       "\n",
       "               $d.resizable({\n",
       "                   aspectRatio: 400 / 300,\n",
       "                   resize: function (evt, ui) {\n",
       "                       $d.imolecule.renderer.setSize(ui.size.width,\n",
       "                                                     ui.size.height);\n",
       "                   }\n",
       "               });\n",
       "           });\n",
       "           </script>"
      ],
      "text/plain": [
       "<IPython.core.display.HTML object>"
      ]
     },
     "metadata": {},
     "output_type": "display_data"
    },
    {
     "name": "stdout",
     "output_type": "stream",
     "text": [
      "species[37] = NNHO\n"
     ]
    },
    {
     "data": {
      "text/html": [
       "<div id=\"molecule_67950a29-7fd8-4464-96ef-2753918b3890\"></div>\n",
       "           <script type=\"text/javascript\">\n",
       "           require.config({baseUrl: '/',\n",
       "                           paths: {imolecule: ['nbextensions/imolecule.min', 'https://rawgit.com/patrickfuller/imolecule/master/imolecule/js/build/imolecule.min']}});\n",
       "           require(['imolecule'], function () {\n",
       "               var $d = $('#molecule_67950a29-7fd8-4464-96ef-2753918b3890');\n",
       "               $d.width(400); $d.height(300);\n",
       "               $d.imolecule = jQuery.extend({}, imolecule);\n",
       "               $d.imolecule.create($d, {drawingType: 'ball and stick',\n",
       "                                        cameraType: 'perspective',\n",
       "                                        shader: 'lambert',\n",
       "                                        showSave: false});\n",
       "               $d.imolecule.addElements({});\n",
       "               $d.imolecule.draw({\"atoms\":[{\"charge\":-0.298539,\"element\":\"O\",\"location\":[0.771932,0.204475,0.445504]},{\"charge\":0.237980,\"element\":\"H\",\"location\":[1.043710,0.409138,-0.471238]},{\"charge\":-0.115194,\"element\":\"N\",\"location\":[-0.665469,0.284072,0.314612]},{\"charge\":-0.115194,\"element\":\"N\",\"location\":[-1.150173,-0.897683,-0.288877]}],\"bonds\":[{\"atoms\":[0,2],\"order\":1},{\"atoms\":[0,1],\"order\":1},{\"atoms\":[2,3],\"order\":1}],\"formula\":\"HN2O\",\"molecular_weight\":48.044560,\"units\":{\"molecular_weight\":\"g / mol\"}});\n",
       "\n",
       "               $d.resizable({\n",
       "                   aspectRatio: 400 / 300,\n",
       "                   resize: function (evt, ui) {\n",
       "                       $d.imolecule.renderer.setSize(ui.size.width,\n",
       "                                                     ui.size.height);\n",
       "                   }\n",
       "               });\n",
       "           });\n",
       "           </script>"
      ],
      "text/plain": [
       "<IPython.core.display.HTML object>"
      ]
     },
     "metadata": {},
     "output_type": "display_data"
    },
    {
     "name": "stdout",
     "output_type": "stream",
     "text": [
      "species[38] = ONN\n"
     ]
    },
    {
     "data": {
      "text/html": [
       "<div id=\"molecule_9d4bfcf0-6fa9-452c-98d6-1ff141f4b15c\"></div>\n",
       "           <script type=\"text/javascript\">\n",
       "           require.config({baseUrl: '/',\n",
       "                           paths: {imolecule: ['nbextensions/imolecule.min', 'https://rawgit.com/patrickfuller/imolecule/master/imolecule/js/build/imolecule.min']}});\n",
       "           require(['imolecule'], function () {\n",
       "               var $d = $('#molecule_9d4bfcf0-6fa9-452c-98d6-1ff141f4b15c');\n",
       "               $d.width(400); $d.height(300);\n",
       "               $d.imolecule = jQuery.extend({}, imolecule);\n",
       "               $d.imolecule.create($d, {drawingType: 'ball and stick',\n",
       "                                        cameraType: 'perspective',\n",
       "                                        shader: 'lambert',\n",
       "                                        showSave: false});\n",
       "               $d.imolecule.addElements({});\n",
       "               $d.imolecule.draw({\"atoms\":[{\"charge\":-0.115194,\"element\":\"N\",\"location\":[0.803428,0.764428,0.447236]},{\"charge\":-0.298539,\"element\":\"O\",\"location\":[-1.122152,-0.347100,-0.290984]},{\"charge\":-0.115194,\"element\":\"N\",\"location\":[0.318724,-0.417327,-0.156253]}],\"bonds\":[{\"atoms\":[0,2],\"order\":1},{\"atoms\":[1,2],\"order\":1}],\"formula\":\"N2O\",\"molecular_weight\":48.044560,\"units\":{\"molecular_weight\":\"g / mol\"}});\n",
       "\n",
       "               $d.resizable({\n",
       "                   aspectRatio: 400 / 300,\n",
       "                   resize: function (evt, ui) {\n",
       "                       $d.imolecule.renderer.setSize(ui.size.width,\n",
       "                                                     ui.size.height);\n",
       "                   }\n",
       "               });\n",
       "           });\n",
       "           </script>"
      ],
      "text/plain": [
       "<IPython.core.display.HTML object>"
      ]
     },
     "metadata": {},
     "output_type": "display_data"
    },
    {
     "name": "stdout",
     "output_type": "stream",
     "text": [
      "species[39] = ONNO\n"
     ]
    },
    {
     "data": {
      "text/html": [
       "<div id=\"molecule_e893b85c-2e8a-4267-bd51-d0d81a03bd78\"></div>\n",
       "           <script type=\"text/javascript\">\n",
       "           require.config({baseUrl: '/',\n",
       "                           paths: {imolecule: ['nbextensions/imolecule.min', 'https://rawgit.com/patrickfuller/imolecule/master/imolecule/js/build/imolecule.min']}});\n",
       "           require(['imolecule'], function () {\n",
       "               var $d = $('#molecule_e893b85c-2e8a-4267-bd51-d0d81a03bd78');\n",
       "               $d.width(400); $d.height(300);\n",
       "               $d.imolecule = jQuery.extend({}, imolecule);\n",
       "               $d.imolecule.create($d, {drawingType: 'ball and stick',\n",
       "                                        cameraType: 'perspective',\n",
       "                                        shader: 'lambert',\n",
       "                                        showSave: false});\n",
       "               $d.imolecule.addElements({});\n",
       "               $d.imolecule.draw({\"atoms\":[{\"charge\":-0.298539,\"element\":\"O\",\"location\":[1.680622,0.513623,0.433596]},{\"charge\":-0.115194,\"element\":\"N\",\"location\":[0.243221,0.593220,0.302704]},{\"charge\":-0.298539,\"element\":\"O\",\"location\":[-1.682359,-0.518308,-0.435516]},{\"charge\":-0.115194,\"element\":\"N\",\"location\":[-0.241483,-0.588535,-0.300785]}],\"bonds\":[{\"atoms\":[0,1],\"order\":1},{\"atoms\":[1,3],\"order\":1},{\"atoms\":[2,3],\"order\":1}],\"formula\":\"N2O2\",\"molecular_weight\":64.043960,\"units\":{\"molecular_weight\":\"g / mol\"}});\n",
       "\n",
       "               $d.resizable({\n",
       "                   aspectRatio: 400 / 300,\n",
       "                   resize: function (evt, ui) {\n",
       "                       $d.imolecule.renderer.setSize(ui.size.width,\n",
       "                                                     ui.size.height);\n",
       "                   }\n",
       "               });\n",
       "           });\n",
       "           </script>"
      ],
      "text/plain": [
       "<IPython.core.display.HTML object>"
      ]
     },
     "metadata": {},
     "output_type": "display_data"
    }
   ],
   "source": [
    "for i, sp in enumerate(species):\n",
    "    print('species[{}] = {}'.format(i,sp))\n",
    "    json = sp.to_dict()\n",
    "    time.sleep(1)\n",
    "    imolecule.draw(json,format='json')"
   ]
  },
  {
   "cell_type": "markdown",
   "metadata": {},
   "source": [
    "These species compries the full reaction network. Let's see how many species and reactions are involved."
   ]
  },
  {
   "cell_type": "code",
   "execution_count": 5,
   "metadata": {},
   "outputs": [
    {
     "name": "stdout",
     "output_type": "stream",
     "text": [
      "Total # of species: 40\n",
      "Total # of reactions: 179\n"
     ]
    }
   ],
   "source": [
    "print('Total # of species: {}'.format(len(species)))\n",
    "print('Total # of reactions: {}'.format(len(all_rxns)))"
   ]
  },
  {
   "cell_type": "markdown",
   "metadata": {},
   "source": [
    "This means that to get a comprehensive picture of the reaction network we need the energies for 40 species. If we wanted to build a full kinetic model we would also need 177 reaction barriers, which is borderline intractible. Finally we can visualize the full network, though it won't mean much without labels."
   ]
  },
  {
   "cell_type": "code",
   "execution_count": 6,
   "metadata": {},
   "outputs": [
    {
     "name": "stdout",
     "output_type": "stream",
     "text": [
      "HOHNHNO->HOHNHN+O\n",
      "OHNN->N+HNO\n",
      "HOHNHNO->H+HONHNO\n",
      "NNHO->HO+NN\n",
      "NOH->H+NO\n",
      "OHNHNO->HNO\n",
      "ONNHO->H+ONNO\n",
      "HOHNHNO->H+HOHNNO\n",
      "HONHNO->H+ONNHO\n",
      "HHHNNH->HNH\n",
      "HOHNHN->H+HHNNO\n",
      "HHNOH->HNOH+H\n",
      "HOHN->H+OHN\n",
      "NOH->N+OH\n",
      "OHNHNO->H+HONNO\n",
      "HOHN->O+HHN\n",
      "HONHNO->OHNN+HO\n",
      "HOH->H+HO\n",
      "HONN->H+ONN\n",
      "HONHNH->H+HNONH\n",
      "HONHNO->O+HNNHO\n",
      "HHOHNHNO->HOHNHN+OH\n",
      "HHNNH->HNNH+H\n",
      "HONHNH->ONHNH+H\n",
      "HHOHNNO->NOH+HNHO\n",
      "HNOH->NH+OH\n",
      "HHONHNH->HNH+HONH\n",
      "HOHNHNO->OHNHNO+H\n",
      "HHNN->H+HNN\n",
      "HNOH->NOH+H\n",
      "HHHNNH->HHNNH+H\n",
      "NO->N+O\n",
      "HNOH->HNO+H\n",
      "HHOHNNO->H+HOHNNO\n",
      "HNNHO->H+NNHO(1)\n",
      "HHNNH->HHNN+H\n",
      "HHONHNH->H+HONHNH\n",
      "HOHNHNO->HOHNN+HO\n",
      "HONNO->NO+HNO\n",
      "HNNHO->H+HNNO(1)\n",
      "ONHNH->ON+HNH\n",
      "HOHNN->H+ONNH\n",
      "NN->N\n",
      "HHNH->HNH+H\n",
      "ONHNH->HHNN+O\n",
      "HOHNN->NH+HNO\n",
      "HHOHNNO->H+HOHNNO(1)\n",
      "HONHNH->ONH+HNH\n",
      "OHNN->ONN+H\n",
      "HHNOH->HHN+OH\n",
      "HONHNH->HNH+NOH\n",
      "HHNN->NH\n",
      "HHOHNHNO->HNOH+HNHO\n",
      "HOHNHN->H+HNNHO\n",
      "HOHNNO->O+HNNHO\n",
      "HONHNO->H+OHNNO\n",
      "HONNO->H+ONNO\n",
      "HNH->HN+H\n",
      "HONNO->HNNO+O\n",
      "ONNHO->HO+ONN\n",
      "HNNHO->NNH+HO\n",
      "ONNHO->O+NNHO\n",
      "HOHNNO->H+HONNO\n",
      "NNHO->N+NHO\n",
      "HHONNO->NHO+NOH\n",
      "HONN->NH+NO\n",
      "HOHNHN->HN+HNHO\n",
      "HONHNH->NHNH+OH\n",
      "HONHNH->HNNOH+H\n",
      "HHNOH->H+HOHN\n",
      "HOHNN->HNNH+O\n",
      "HOHNHN->HHNN+HO\n",
      "HHOHNHNO->HOHNHNO+H\n",
      "NNH->N+HN\n",
      "HHOHNNO->H+HHONNO\n",
      "HOHNN->H+OHNN\n",
      "HHONNO->H+ONNHO\n",
      "OHNHNO->O+HHNNO\n",
      "ONN->O+NN\n",
      "HHONHNH->H+HONHNH(1)\n",
      "HHONNO->NNHO+OH\n",
      "HOHNNO->HONN+HO\n",
      "HONHNO->NHO+HNO\n",
      "HHOHNNO->OH+HNNHO\n",
      "HOHNNO->HNHO+NO\n",
      "HHONHNH->HHONNH+H\n",
      "HNNHO->N+HNHO\n",
      "NHNH->N+HNH\n",
      "HNNHO->HNN+HO\n",
      "HHONHNH->HHNNH+OH\n",
      "HONN->NNH+O\n",
      "HNO->NH+O\n",
      "ONNO->NO\n",
      "ONNHO->NHO+NO\n",
      "HOHNHNO->HNHO+HNO\n",
      "NNHO->NNO+H\n",
      "HONHNH->ONHNH+H(1)\n",
      "OH->O+H\n",
      "OO->O\n",
      "HN->N+H\n",
      "HOHNNO->H+ONNHO\n",
      "NNH->H+NN\n",
      "HHOHNHNO->H+HHOHNNO\n",
      "HONNO->ONNH+O\n",
      "ONNO->ONN+O\n",
      "HHNNH->NH+HNH\n",
      "ONHNH->H+HNON\n",
      "HNNHO->H+NNHO\n",
      "HNNHO->NH+NHO\n",
      "HOHNHN->H+HNNHO(1)\n",
      "HNO->H+NO\n",
      "NHNH->H+HNN\n",
      "HHOHNNO->HONNH+HO\n",
      "ONN->N+NO\n",
      "OHNN->HNN+O\n",
      "HONHNH->O+HHNNH\n",
      "HNNHO->H+HNNO\n"
     ]
    },
    {
     "data": {
      "text/html": [
       "<div id=\"graph-69e290d8-0e3f-45d4-9804-8961f68c4358\"></div>\n",
       "           <script type=\"text/javascript\">\n",
       "           require.config({baseUrl: '/',\n",
       "                             paths: {jgraph: ['nbextensions/jgraph.min', 'https://rawgit.com/patrickfuller/jgraph/master/js/build/jgraph.min']}});\n",
       "           require(['jgraph'], function () {\n",
       "               var $d = $('#graph-69e290d8-0e3f-45d4-9804-8961f68c4358');\n",
       "               $d.width(600); $d.height(400);\n",
       "               $d.jgraph = jQuery.extend({}, jgraph);\n",
       "               $d.jgraph.create($d, {nodeSize: 2.000000,\n",
       "                                     edgeSize: 0.250000,\n",
       "                                     defaultNodeColor: '0x5bc0de',\n",
       "                                     defaultEdgeColor: '0xaaaaaa',\n",
       "                                     shader: 'basic',\n",
       "                                     z: 100,\n",
       "                                     runOptimization: true,\n",
       "                                     directed: true,\n",
       "                                     showSave: false});\n",
       "               $d.jgraph.draw({\n",
       "    \"edges\": [\n",
       "        { \"source\": \"HOHNHNO->HOHNHN+O\", \"target\": \"HOHNHN\" },\n",
       "        { \"source\": \"HOHNHNO->HOHNHN+O\", \"target\": \"O\" },\n",
       "        { \"source\": \"OHNN->N+HNO\", \"target\": \"HNO\" },\n",
       "        { \"source\": \"OHNN->N+HNO\", \"target\": \"N\" },\n",
       "        { \"source\": \"HHONNO\", \"target\": \"HHONNO->H+ONNHO\" },\n",
       "        { \"source\": \"HHONNO\", \"target\": \"HHONNO->NNHO+OH\" },\n",
       "        { \"source\": \"HHONNO\", \"target\": \"HHONNO->NHO+NOH\" },\n",
       "        { \"source\": \"HOHNHNO->H+HONHNO\", \"target\": \"H\" },\n",
       "        { \"source\": \"HOHNHNO->H+HONHNO\", \"target\": \"HONHNO\" },\n",
       "        { \"source\": \"HNNHO\", \"target\": \"HNNHO->H+NNHO\" },\n",
       "        { \"source\": \"HNNHO\", \"target\": \"HNNHO->NH+NHO\" },\n",
       "        { \"source\": \"HNNHO\", \"target\": \"HNNHO->N+HNHO\" },\n",
       "        { \"source\": \"HNNHO\", \"target\": \"HNNHO->H+HNNO(1)\" },\n",
       "        { \"source\": \"HNNHO\", \"target\": \"HNNHO->NNH+HO\" },\n",
       "        { \"source\": \"HNNHO\", \"target\": \"HNNHO->H+HNNO\" },\n",
       "        { \"source\": \"HNNHO\", \"target\": \"HNNHO->HNN+HO\" },\n",
       "        { \"source\": \"HNNHO\", \"target\": \"HNNHO->H+NNHO(1)\" },\n",
       "        { \"source\": \"NNHO->HO+NN\", \"target\": \"HO\" },\n",
       "        { \"source\": \"NNHO->HO+NN\", \"target\": \"NN\" },\n",
       "        { \"source\": \"NOH->H+NO\", \"target\": \"H\" },\n",
       "        { \"source\": \"NOH->H+NO\", \"target\": \"NO\" },\n",
       "        { \"source\": \"OHNHNO->HNO\", \"target\": \"HNO\" },\n",
       "        { \"source\": \"ONNHO->H+ONNO\", \"target\": \"H\" },\n",
       "        { \"source\": \"ONNHO->H+ONNO\", \"target\": \"ONNO\" },\n",
       "        { \"source\": \"HOHNHNO->H+HOHNNO\", \"target\": \"H\" },\n",
       "        { \"source\": \"HOHNHNO->H+HOHNNO\", \"target\": \"HOHNNO\" },\n",
       "        { \"source\": \"HONHNO->H+ONNHO\", \"target\": \"H\" },\n",
       "        { \"source\": \"HONHNO->H+ONNHO\", \"target\": \"ONNHO\" },\n",
       "        { \"source\": \"HHHNNH->HNH\", \"target\": \"HNH\" },\n",
       "        { \"source\": \"NNH\", \"target\": \"NNH->H+NN\" },\n",
       "        { \"source\": \"NNH\", \"target\": \"NNH->N+HN\" },\n",
       "        { \"source\": \"HNOH\", \"target\": \"HNOH->HNO+H\" },\n",
       "        { \"source\": \"HNOH\", \"target\": \"HNOH->NOH+H\" },\n",
       "        { \"source\": \"HNOH\", \"target\": \"HNOH->NH+OH\" },\n",
       "        { \"source\": \"HOHNHN->H+HHNNO\", \"target\": \"H\" },\n",
       "        { \"source\": \"HOHNHN->H+HHNNO\", \"target\": \"HHNNO\" },\n",
       "        { \"source\": \"HHNOH->HNOH+H\", \"target\": \"H\" },\n",
       "        { \"source\": \"HHNOH->HNOH+H\", \"target\": \"HNOH\" },\n",
       "        { \"source\": \"HOHN->H+OHN\", \"target\": \"H\" },\n",
       "        { \"source\": \"HOHN->H+OHN\", \"target\": \"OHN\" },\n",
       "        { \"source\": \"NOH->N+OH\", \"target\": \"OH\" },\n",
       "        { \"source\": \"NOH->N+OH\", \"target\": \"N\" },\n",
       "        { \"source\": \"OHNHNO->H+HONNO\", \"target\": \"H\" },\n",
       "        { \"source\": \"OHNHNO->H+HONNO\", \"target\": \"HONNO\" },\n",
       "        { \"source\": \"HOHN->O+HHN\", \"target\": \"HHN\" },\n",
       "        { \"source\": \"HOHN->O+HHN\", \"target\": \"O\" },\n",
       "        { \"source\": \"HONHNO->OHNN+HO\", \"target\": \"OHNN\" },\n",
       "        { \"source\": \"HONHNO->OHNN+HO\", \"target\": \"HO\" },\n",
       "        { \"source\": \"HOH->H+HO\", \"target\": \"H\" },\n",
       "        { \"source\": \"HOH->H+HO\", \"target\": \"HO\" },\n",
       "        { \"source\": \"HONN->H+ONN\", \"target\": \"H\" },\n",
       "        { \"source\": \"HONN->H+ONN\", \"target\": \"ONN\" },\n",
       "        { \"source\": \"HONHNH->H+HNONH\", \"target\": \"H\" },\n",
       "        { \"source\": \"HONHNH->H+HNONH\", \"target\": \"HNONH\" },\n",
       "        { \"source\": \"HONHNO->O+HNNHO\", \"target\": \"HNNHO\" },\n",
       "        { \"source\": \"HONHNO->O+HNNHO\", \"target\": \"O\" },\n",
       "        { \"source\": \"OO\", \"target\": \"OO->O\" },\n",
       "        { \"source\": \"HHOHNHNO->HOHNHN+OH\", \"target\": \"HOHNHN\" },\n",
       "        { \"source\": \"HHOHNHNO->HOHNHN+OH\", \"target\": \"OH\" },\n",
       "        { \"source\": \"OH\", \"target\": \"OH->O+H\" },\n",
       "        { \"source\": \"HONN\", \"target\": \"HONN->NNH+O\" },\n",
       "        { \"source\": \"HONN\", \"target\": \"HONN->NH+NO\" },\n",
       "        { \"source\": \"HONN\", \"target\": \"HONN->H+ONN\" },\n",
       "        { \"source\": \"HHNNH->HNNH+H\", \"target\": \"HNNH\" },\n",
       "        { \"source\": \"HHNNH->HNNH+H\", \"target\": \"H\" },\n",
       "        { \"source\": \"HONHNH->ONHNH+H\", \"target\": \"H\" },\n",
       "        { \"source\": \"HONHNH->ONHNH+H\", \"target\": \"ONHNH\" },\n",
       "        { \"source\": \"HHONHNH\", \"target\": \"HHONHNH->H+HONHNH(1)\" },\n",
       "        { \"source\": \"HHONHNH\", \"target\": \"HHONHNH->HHONNH+H\" },\n",
       "        { \"source\": \"HHONHNH\", \"target\": \"HHONHNH->HHNNH+OH\" },\n",
       "        { \"source\": \"HHONHNH\", \"target\": \"HHONHNH->H+HONHNH\" },\n",
       "        { \"source\": \"HHONHNH\", \"target\": \"HHONHNH->HNH+HONH\" },\n",
       "        { \"source\": \"HHOHNNO->NOH+HNHO\", \"target\": \"NOH\" },\n",
       "        { \"source\": \"HHOHNNO->NOH+HNHO\", \"target\": \"HNHO\" },\n",
       "        { \"source\": \"HNOH->NH+OH\", \"target\": \"NH\" },\n",
       "        { \"source\": \"HNOH->NH+OH\", \"target\": \"OH\" },\n",
       "        { \"source\": \"HHONHNH->HNH+HONH\", \"target\": \"HNH\" },\n",
       "        { \"source\": \"HHONHNH->HNH+HONH\", \"target\": \"HONH\" },\n",
       "        { \"source\": \"HOHNHNO->OHNHNO+H\", \"target\": \"H\" },\n",
       "        { \"source\": \"HOHNHNO->OHNHNO+H\", \"target\": \"OHNHNO\" },\n",
       "        { \"source\": \"HHNN->H+HNN\", \"target\": \"H\" },\n",
       "        { \"source\": \"HHNN->H+HNN\", \"target\": \"HNN\" },\n",
       "        { \"source\": \"HNOH->NOH+H\", \"target\": \"H\" },\n",
       "        { \"source\": \"HNOH->NOH+H\", \"target\": \"NOH\" },\n",
       "        { \"source\": \"HHHNNH->HHNNH+H\", \"target\": \"HHNNH\" },\n",
       "        { \"source\": \"HHHNNH->HHNNH+H\", \"target\": \"H\" },\n",
       "        { \"source\": \"HOHNHN\", \"target\": \"HOHNHN->H+HNNHO(1)\" },\n",
       "        { \"source\": \"HOHNHN\", \"target\": \"HOHNHN->HHNN+HO\" },\n",
       "        { \"source\": \"HOHNHN\", \"target\": \"HOHNHN->H+HHNNO\" },\n",
       "        { \"source\": \"HOHNHN\", \"target\": \"HOHNHN->HN+HNHO\" },\n",
       "        { \"source\": \"HOHNHN\", \"target\": \"HOHNHN->H+HNNHO\" },\n",
       "        { \"source\": \"HHNOH\", \"target\": \"HHNOH->H+HOHN\" },\n",
       "        { \"source\": \"HHNOH\", \"target\": \"HHNOH->HHN+OH\" },\n",
       "        { \"source\": \"HHNOH\", \"target\": \"HHNOH->HNOH+H\" },\n",
       "        { \"source\": \"NO->N+O\", \"target\": \"O\" },\n",
       "        { \"source\": \"NO->N+O\", \"target\": \"N\" },\n",
       "        { \"source\": \"HN\", \"target\": \"HN->N+H\" },\n",
       "        { \"source\": \"HONHNO\", \"target\": \"HONHNO->NHO+HNO\" },\n",
       "        { \"source\": \"HONHNO\", \"target\": \"HONHNO->H+OHNNO\" },\n",
       "        { \"source\": \"HONHNO\", \"target\": \"HONHNO->OHNN+HO\" },\n",
       "        { \"source\": \"HONHNO\", \"target\": \"HONHNO->O+HNNHO\" },\n",
       "        { \"source\": \"HONHNO\", \"target\": \"HONHNO->H+ONNHO\" },\n",
       "        { \"source\": \"HNOH->HNO+H\", \"target\": \"H\" },\n",
       "        { \"source\": \"HNOH->HNO+H\", \"target\": \"HNO\" },\n",
       "        { \"source\": \"HHOHNNO->H+HOHNNO\", \"target\": \"H\" },\n",
       "        { \"source\": \"HHOHNNO->H+HOHNNO\", \"target\": \"HOHNNO\" },\n",
       "        { \"source\": \"HNNHO->H+NNHO(1)\", \"target\": \"H\" },\n",
       "        { \"source\": \"HNNHO->H+NNHO(1)\", \"target\": \"NNHO\" },\n",
       "        { \"source\": \"HHNNH->HHNN+H\", \"target\": \"HHNN\" },\n",
       "        { \"source\": \"HHNNH->HHNN+H\", \"target\": \"H\" },\n",
       "        { \"source\": \"HHONHNH->H+HONHNH\", \"target\": \"H\" },\n",
       "        { \"source\": \"HHONHNH->H+HONHNH\", \"target\": \"HONHNH\" },\n",
       "        { \"source\": \"HOHNHNO->HOHNN+HO\", \"target\": \"HOHNN\" },\n",
       "        { \"source\": \"HOHNHNO->HOHNN+HO\", \"target\": \"HO\" },\n",
       "        { \"source\": \"HONNO->NO+HNO\", \"target\": \"HNO\" },\n",
       "        { \"source\": \"HONNO->NO+HNO\", \"target\": \"NO\" },\n",
       "        { \"source\": \"HNNHO->H+HNNO(1)\", \"target\": \"H\" },\n",
       "        { \"source\": \"HNNHO->H+HNNO(1)\", \"target\": \"HNNO\" },\n",
       "        { \"source\": \"ONHNH->ON+HNH\", \"target\": \"ON\" },\n",
       "        { \"source\": \"ONHNH->ON+HNH\", \"target\": \"HNH\" },\n",
       "        { \"source\": \"HOHNN\", \"target\": \"HOHNN->H+OHNN\" },\n",
       "        { \"source\": \"HOHNN\", \"target\": \"HOHNN->H+ONNH\" },\n",
       "        { \"source\": \"HOHNN\", \"target\": \"HOHNN->NH+HNO\" },\n",
       "        { \"source\": \"HOHNN\", \"target\": \"HOHNN->HNNH+O\" },\n",
       "        { \"source\": \"HOHNN->H+ONNH\", \"target\": \"H\" },\n",
       "        { \"source\": \"HOHNN->H+ONNH\", \"target\": \"ONNH\" },\n",
       "        { \"source\": \"NHNH\", \"target\": \"NHNH->H+HNN\" },\n",
       "        { \"source\": \"NHNH\", \"target\": \"NHNH->N+HNH\" },\n",
       "        { \"source\": \"NN->N\", \"target\": \"N\" },\n",
       "        { \"source\": \"HHNH->HNH+H\", \"target\": \"HNH\" },\n",
       "        { \"source\": \"HHNH->HNH+H\", \"target\": \"H\" },\n",
       "        { \"source\": \"ONHNH->HHNN+O\", \"target\": \"HHNN\" },\n",
       "        { \"source\": \"ONHNH->HHNN+O\", \"target\": \"O\" },\n",
       "        { \"source\": \"HOHNN->NH+HNO\", \"target\": \"NH\" },\n",
       "        { \"source\": \"HOHNN->NH+HNO\", \"target\": \"HNO\" },\n",
       "        { \"source\": \"HHOHNNO->H+HOHNNO(1)\", \"target\": \"H\" },\n",
       "        { \"source\": \"HHOHNNO->H+HOHNNO(1)\", \"target\": \"HOHNNO\" },\n",
       "        { \"source\": \"HONHNH->ONH+HNH\", \"target\": \"HNH\" },\n",
       "        { \"source\": \"HONHNH->ONH+HNH\", \"target\": \"ONH\" },\n",
       "        { \"source\": \"OHNN->ONN+H\", \"target\": \"H\" },\n",
       "        { \"source\": \"OHNN->ONN+H\", \"target\": \"ONN\" },\n",
       "        { \"source\": \"HHNNH\", \"target\": \"HHNNH->HHNN+H\" },\n",
       "        { \"source\": \"HHNNH\", \"target\": \"HHNNH->HNNH+H\" },\n",
       "        { \"source\": \"HHNNH\", \"target\": \"HHNNH->NH+HNH\" },\n",
       "        { \"source\": \"HHNOH->HHN+OH\", \"target\": \"HHN\" },\n",
       "        { \"source\": \"HHNOH->HHN+OH\", \"target\": \"OH\" },\n",
       "        { \"source\": \"HONHNH->HNH+NOH\", \"target\": \"HNH\" },\n",
       "        { \"source\": \"HONHNH->HNH+NOH\", \"target\": \"NOH\" },\n",
       "        { \"source\": \"HHNN->NH\", \"target\": \"NH\" },\n",
       "        { \"source\": \"HHOHNHNO->HNOH+HNHO\", \"target\": \"HNOH\" },\n",
       "        { \"source\": \"HHOHNHNO->HNOH+HNHO\", \"target\": \"HNHO\" },\n",
       "        { \"source\": \"HOHNHN->H+HNNHO\", \"target\": \"H\" },\n",
       "        { \"source\": \"HOHNHN->H+HNNHO\", \"target\": \"HNNHO\" },\n",
       "        { \"source\": \"NOH\", \"target\": \"NOH->H+NO\" },\n",
       "        { \"source\": \"NOH\", \"target\": \"NOH->N+OH\" },\n",
       "        { \"source\": \"HOHNNO->O+HNNHO\", \"target\": \"HNNHO\" },\n",
       "        { \"source\": \"HOHNNO->O+HNNHO\", \"target\": \"O\" },\n",
       "        { \"source\": \"HONHNO->H+OHNNO\", \"target\": \"H\" },\n",
       "        { \"source\": \"HONHNO->H+OHNNO\", \"target\": \"OHNNO\" },\n",
       "        { \"source\": \"OHNN\", \"target\": \"OHNN->N+HNO\" },\n",
       "        { \"source\": \"OHNN\", \"target\": \"OHNN->ONN+H\" },\n",
       "        { \"source\": \"OHNN\", \"target\": \"OHNN->HNN+O\" },\n",
       "        { \"source\": \"NNHO\", \"target\": \"NNHO->N+NHO\" },\n",
       "        { \"source\": \"NNHO\", \"target\": \"NNHO->HO+NN\" },\n",
       "        { \"source\": \"NNHO\", \"target\": \"NNHO->NNO+H\" },\n",
       "        { \"source\": \"HOHN\", \"target\": \"HOHN->O+HHN\" },\n",
       "        { \"source\": \"HOHN\", \"target\": \"HOHN->H+OHN\" },\n",
       "        { \"source\": \"ONNHO\", \"target\": \"ONNHO->H+ONNO\" },\n",
       "        { \"source\": \"ONNHO\", \"target\": \"ONNHO->O+NNHO\" },\n",
       "        { \"source\": \"ONNHO\", \"target\": \"ONNHO->HO+ONN\" },\n",
       "        { \"source\": \"ONNHO\", \"target\": \"ONNHO->NHO+NO\" },\n",
       "        { \"source\": \"ONNO\", \"target\": \"ONNO->NO\" },\n",
       "        { \"source\": \"ONNO\", \"target\": \"ONNO->ONN+O\" },\n",
       "        { \"source\": \"HHOHNNO\", \"target\": \"HHOHNNO->OH+HNNHO\" },\n",
       "        { \"source\": \"HHOHNNO\", \"target\": \"HHOHNNO->H+HOHNNO(1)\" },\n",
       "        { \"source\": \"HHOHNNO\", \"target\": \"HHOHNNO->H+HHONNO\" },\n",
       "        { \"source\": \"HHOHNNO\", \"target\": \"HHOHNNO->HONNH+HO\" },\n",
       "        { \"source\": \"HHOHNNO\", \"target\": \"HHOHNNO->NOH+HNHO\" },\n",
       "        { \"source\": \"HHOHNNO\", \"target\": \"HHOHNNO->H+HOHNNO\" },\n",
       "        { \"source\": \"HONNO->H+ONNO\", \"target\": \"H\" },\n",
       "        { \"source\": \"HONNO->H+ONNO\", \"target\": \"ONNO\" },\n",
       "        { \"source\": \"HNH->HN+H\", \"target\": \"H\" },\n",
       "        { \"source\": \"HNH->HN+H\", \"target\": \"HN\" },\n",
       "        { \"source\": \"HNH\", \"target\": \"HNH->HN+H\" },\n",
       "        { \"source\": \"HONNO->HNNO+O\", \"target\": \"O\" },\n",
       "        { \"source\": \"HONNO->HNNO+O\", \"target\": \"HNNO\" },\n",
       "        { \"source\": \"ONNHO->HO+ONN\", \"target\": \"ONN\" },\n",
       "        { \"source\": \"ONNHO->HO+ONN\", \"target\": \"HO\" },\n",
       "        { \"source\": \"HNO\", \"target\": \"HNO->NH+O\" },\n",
       "        { \"source\": \"HNO\", \"target\": \"HNO->H+NO\" },\n",
       "        { \"source\": \"HNNHO->NNH+HO\", \"target\": \"HO\" },\n",
       "        { \"source\": \"HNNHO->NNH+HO\", \"target\": \"NNH\" },\n",
       "        { \"source\": \"ONNHO->O+NNHO\", \"target\": \"O\" },\n",
       "        { \"source\": \"ONNHO->O+NNHO\", \"target\": \"NNHO\" },\n",
       "        { \"source\": \"HOHNNO\", \"target\": \"HOHNNO->H+ONNHO\" },\n",
       "        { \"source\": \"HOHNNO\", \"target\": \"HOHNNO->H+HONNO\" },\n",
       "        { \"source\": \"HOHNNO\", \"target\": \"HOHNNO->HONN+HO\" },\n",
       "        { \"source\": \"HOHNNO\", \"target\": \"HOHNNO->O+HNNHO\" },\n",
       "        { \"source\": \"HOHNNO\", \"target\": \"HOHNNO->HNHO+NO\" },\n",
       "        { \"source\": \"HOHNNO->H+HONNO\", \"target\": \"H\" },\n",
       "        { \"source\": \"HOHNNO->H+HONNO\", \"target\": \"HONNO\" },\n",
       "        { \"source\": \"NNHO->N+NHO\", \"target\": \"NHO\" },\n",
       "        { \"source\": \"NNHO->N+NHO\", \"target\": \"N\" },\n",
       "        { \"source\": \"HHONNO->NHO+NOH\", \"target\": \"NHO\" },\n",
       "        { \"source\": \"HHONNO->NHO+NOH\", \"target\": \"NOH\" },\n",
       "        { \"source\": \"HONN->NH+NO\", \"target\": \"NH\" },\n",
       "        { \"source\": \"HONN->NH+NO\", \"target\": \"NO\" },\n",
       "        { \"source\": \"HOHNHN->HN+HNHO\", \"target\": \"HN\" },\n",
       "        { \"source\": \"HOHNHN->HN+HNHO\", \"target\": \"HNHO\" },\n",
       "        { \"source\": \"NN\", \"target\": \"NN->N\" },\n",
       "        { \"source\": \"NO\", \"target\": \"NO->N+O\" },\n",
       "        { \"source\": \"HONHNH->NHNH+OH\", \"target\": \"NHNH\" },\n",
       "        { \"source\": \"HONHNH->NHNH+OH\", \"target\": \"OH\" },\n",
       "        { \"source\": \"HONHNH->HNNOH+H\", \"target\": \"H\" },\n",
       "        { \"source\": \"HONHNH->HNNOH+H\", \"target\": \"HNNOH\" },\n",
       "        { \"source\": \"HHNN\", \"target\": \"HHNN->NH\" },\n",
       "        { \"source\": \"HHNN\", \"target\": \"HHNN->H+HNN\" },\n",
       "        { \"source\": \"HHNOH->H+HOHN\", \"target\": \"H\" },\n",
       "        { \"source\": \"HHNOH->H+HOHN\", \"target\": \"HOHN\" },\n",
       "        { \"source\": \"HOHNN->HNNH+O\", \"target\": \"HNNH\" },\n",
       "        { \"source\": \"HOHNN->HNNH+O\", \"target\": \"O\" },\n",
       "        { \"source\": \"HOHNHN->HHNN+HO\", \"target\": \"HHNN\" },\n",
       "        { \"source\": \"HOHNHN->HHNN+HO\", \"target\": \"HO\" },\n",
       "        { \"source\": \"HHNH\", \"target\": \"HHNH->HNH+H\" },\n",
       "        { \"source\": \"HHOHNHNO->HOHNHNO+H\", \"target\": \"H\" },\n",
       "        { \"source\": \"HHOHNHNO->HOHNHNO+H\", \"target\": \"HOHNHNO\" },\n",
       "        { \"source\": \"NNH->N+HN\", \"target\": \"HN\" },\n",
       "        { \"source\": \"NNH->N+HN\", \"target\": \"N\" },\n",
       "        { \"source\": \"HHOHNNO->H+HHONNO\", \"target\": \"H\" },\n",
       "        { \"source\": \"HHOHNNO->H+HHONNO\", \"target\": \"HHONNO\" },\n",
       "        { \"source\": \"HONNO\", \"target\": \"HONNO->HNNO+O\" },\n",
       "        { \"source\": \"HONNO\", \"target\": \"HONNO->H+ONNO\" },\n",
       "        { \"source\": \"HONNO\", \"target\": \"HONNO->ONNH+O\" },\n",
       "        { \"source\": \"HONNO\", \"target\": \"HONNO->NO+HNO\" },\n",
       "        { \"source\": \"HOHNN->H+OHNN\", \"target\": \"H\" },\n",
       "        { \"source\": \"HOHNN->H+OHNN\", \"target\": \"OHNN\" },\n",
       "        { \"source\": \"HHONNO->H+ONNHO\", \"target\": \"H\" },\n",
       "        { \"source\": \"HHONNO->H+ONNHO\", \"target\": \"ONNHO\" },\n",
       "        { \"source\": \"OHNHNO->O+HHNNO\", \"target\": \"HHNNO\" },\n",
       "        { \"source\": \"OHNHNO->O+HHNNO\", \"target\": \"O\" },\n",
       "        { \"source\": \"ONN->O+NN\", \"target\": \"NN\" },\n",
       "        { \"source\": \"ONN->O+NN\", \"target\": \"O\" },\n",
       "        { \"source\": \"HHONHNH->H+HONHNH(1)\", \"target\": \"H\" },\n",
       "        { \"source\": \"HHONHNH->H+HONHNH(1)\", \"target\": \"HONHNH\" },\n",
       "        { \"source\": \"HHONNO->NNHO+OH\", \"target\": \"OH\" },\n",
       "        { \"source\": \"HHONNO->NNHO+OH\", \"target\": \"NNHO\" },\n",
       "        { \"source\": \"HOHNNO->HONN+HO\", \"target\": \"HONN\" },\n",
       "        { \"source\": \"HOHNNO->HONN+HO\", \"target\": \"HO\" },\n",
       "        { \"source\": \"HONHNO->NHO+HNO\", \"target\": \"NHO\" },\n",
       "        { \"source\": \"HONHNO->NHO+HNO\", \"target\": \"HNO\" },\n",
       "        { \"source\": \"HHOHNNO->OH+HNNHO\", \"target\": \"HNNHO\" },\n",
       "        { \"source\": \"HHOHNNO->OH+HNNHO\", \"target\": \"OH\" },\n",
       "        { \"source\": \"OHNHNO\", \"target\": \"OHNHNO->H+HONNO\" },\n",
       "        { \"source\": \"OHNHNO\", \"target\": \"OHNHNO->HNO\" },\n",
       "        { \"source\": \"OHNHNO\", \"target\": \"OHNHNO->O+HHNNO\" },\n",
       "        { \"source\": \"HOHNNO->HNHO+NO\", \"target\": \"HNHO\" },\n",
       "        { \"source\": \"HOHNNO->HNHO+NO\", \"target\": \"NO\" },\n",
       "        { \"source\": \"HONHNH\", \"target\": \"HONHNH->ONH+HNH\" },\n",
       "        { \"source\": \"HONHNH\", \"target\": \"HONHNH->O+HHNNH\" },\n",
       "        { \"source\": \"HONHNH\", \"target\": \"HONHNH->NHNH+OH\" },\n",
       "        { \"source\": \"HONHNH\", \"target\": \"HONHNH->ONHNH+H\" },\n",
       "        { \"source\": \"HONHNH\", \"target\": \"HONHNH->ONHNH+H(1)\" },\n",
       "        { \"source\": \"HONHNH\", \"target\": \"HONHNH->HNH+NOH\" },\n",
       "        { \"source\": \"HONHNH\", \"target\": \"HONHNH->H+HNONH\" },\n",
       "        { \"source\": \"HONHNH\", \"target\": \"HONHNH->HNNOH+H\" },\n",
       "        { \"source\": \"HHONHNH->HHONNH+H\", \"target\": \"H\" },\n",
       "        { \"source\": \"HHONHNH->HHONNH+H\", \"target\": \"HHONNH\" },\n",
       "        { \"source\": \"HNNHO->N+HNHO\", \"target\": \"HNHO\" },\n",
       "        { \"source\": \"HNNHO->N+HNHO\", \"target\": \"N\" },\n",
       "        { \"source\": \"NHNH->N+HNH\", \"target\": \"HNH\" },\n",
       "        { \"source\": \"NHNH->N+HNH\", \"target\": \"N\" },\n",
       "        { \"source\": \"HNNHO->HNN+HO\", \"target\": \"HO\" },\n",
       "        { \"source\": \"HNNHO->HNN+HO\", \"target\": \"HNN\" },\n",
       "        { \"source\": \"HHOHNHNO\", \"target\": \"HHOHNHNO->HOHNHNO+H\" },\n",
       "        { \"source\": \"HHOHNHNO\", \"target\": \"HHOHNHNO->H+HHOHNNO\" },\n",
       "        { \"source\": \"HHOHNHNO\", \"target\": \"HHOHNHNO->HNOH+HNHO\" },\n",
       "        { \"source\": \"HHOHNHNO\", \"target\": \"HHOHNHNO->HOHNHN+OH\" },\n",
       "        { \"source\": \"HHONHNH->HHNNH+OH\", \"target\": \"HHNNH\" },\n",
       "        { \"source\": \"HHONHNH->HHNNH+OH\", \"target\": \"OH\" },\n",
       "        { \"source\": \"HONN->NNH+O\", \"target\": \"O\" },\n",
       "        { \"source\": \"HONN->NNH+O\", \"target\": \"NNH\" },\n",
       "        { \"source\": \"HNO->NH+O\", \"target\": \"NH\" },\n",
       "        { \"source\": \"HNO->NH+O\", \"target\": \"O\" },\n",
       "        { \"source\": \"ONNO->NO\", \"target\": \"NO\" },\n",
       "        { \"source\": \"ONNHO->NHO+NO\", \"target\": \"NHO\" },\n",
       "        { \"source\": \"ONNHO->NHO+NO\", \"target\": \"NO\" },\n",
       "        { \"source\": \"HOHNHNO->HNHO+HNO\", \"target\": \"HNHO\" },\n",
       "        { \"source\": \"HOHNHNO->HNHO+HNO\", \"target\": \"HNO\" },\n",
       "        { \"source\": \"NNHO->NNO+H\", \"target\": \"NNO\" },\n",
       "        { \"source\": \"NNHO->NNO+H\", \"target\": \"H\" },\n",
       "        { \"source\": \"HONHNH->ONHNH+H(1)\", \"target\": \"H\" },\n",
       "        { \"source\": \"HONHNH->ONHNH+H(1)\", \"target\": \"ONHNH\" },\n",
       "        { \"source\": \"OH->O+H\", \"target\": \"H\" },\n",
       "        { \"source\": \"OH->O+H\", \"target\": \"O\" },\n",
       "        { \"source\": \"OO->O\", \"target\": \"O\" },\n",
       "        { \"source\": \"HN->N+H\", \"target\": \"H\" },\n",
       "        { \"source\": \"HN->N+H\", \"target\": \"N\" },\n",
       "        { \"source\": \"HOHNNO->H+ONNHO\", \"target\": \"H\" },\n",
       "        { \"source\": \"HOHNNO->H+ONNHO\", \"target\": \"ONNHO\" },\n",
       "        { \"source\": \"NNH->H+NN\", \"target\": \"H\" },\n",
       "        { \"source\": \"NNH->H+NN\", \"target\": \"NN\" },\n",
       "        { \"source\": \"ONN\", \"target\": \"ONN->O+NN\" },\n",
       "        { \"source\": \"ONN\", \"target\": \"ONN->N+NO\" },\n",
       "        { \"source\": \"HHOHNHNO->H+HHOHNNO\", \"target\": \"H\" },\n",
       "        { \"source\": \"HHOHNHNO->H+HHOHNNO\", \"target\": \"HHOHNNO\" },\n",
       "        { \"source\": \"HONNO->ONNH+O\", \"target\": \"ONNH\" },\n",
       "        { \"source\": \"HONNO->ONNH+O\", \"target\": \"O\" },\n",
       "        { \"source\": \"ONNO->ONN+O\", \"target\": \"ONN\" },\n",
       "        { \"source\": \"ONNO->ONN+O\", \"target\": \"O\" },\n",
       "        { \"source\": \"HHNNH->NH+HNH\", \"target\": \"NH\" },\n",
       "        { \"source\": \"HHNNH->NH+HNH\", \"target\": \"HNH\" },\n",
       "        { \"source\": \"ONHNH->H+HNON\", \"target\": \"H\" },\n",
       "        { \"source\": \"ONHNH->H+HNON\", \"target\": \"HNON\" },\n",
       "        { \"source\": \"HNNHO->H+NNHO\", \"target\": \"H\" },\n",
       "        { \"source\": \"HNNHO->H+NNHO\", \"target\": \"NNHO\" },\n",
       "        { \"source\": \"HNNHO->NH+NHO\", \"target\": \"NH\" },\n",
       "        { \"source\": \"HNNHO->NH+NHO\", \"target\": \"NHO\" },\n",
       "        { \"source\": \"ONHNH\", \"target\": \"ONHNH->H+HNON\" },\n",
       "        { \"source\": \"ONHNH\", \"target\": \"ONHNH->HHNN+O\" },\n",
       "        { \"source\": \"ONHNH\", \"target\": \"ONHNH->ON+HNH\" },\n",
       "        { \"source\": \"HOHNHNO\", \"target\": \"HOHNHNO->OHNHNO+H\" },\n",
       "        { \"source\": \"HOHNHNO\", \"target\": \"HOHNHNO->HOHNHN+O\" },\n",
       "        { \"source\": \"HOHNHNO\", \"target\": \"HOHNHNO->HOHNN+HO\" },\n",
       "        { \"source\": \"HOHNHNO\", \"target\": \"HOHNHNO->HNHO+HNO\" },\n",
       "        { \"source\": \"HOHNHNO\", \"target\": \"HOHNHNO->H+HONHNO\" },\n",
       "        { \"source\": \"HOHNHNO\", \"target\": \"HOHNHNO->H+HOHNNO\" },\n",
       "        { \"source\": \"HOH\", \"target\": \"HOH->H+HO\" },\n",
       "        { \"source\": \"HOHNHN->H+HNNHO(1)\", \"target\": \"H\" },\n",
       "        { \"source\": \"HOHNHN->H+HNNHO(1)\", \"target\": \"HNNHO\" },\n",
       "        { \"source\": \"HNO->H+NO\", \"target\": \"H\" },\n",
       "        { \"source\": \"HNO->H+NO\", \"target\": \"NO\" },\n",
       "        { \"source\": \"NHNH->H+HNN\", \"target\": \"H\" },\n",
       "        { \"source\": \"NHNH->H+HNN\", \"target\": \"HNN\" },\n",
       "        { \"source\": \"HHOHNNO->HONNH+HO\", \"target\": \"HONNH\" },\n",
       "        { \"source\": \"HHOHNNO->HONNH+HO\", \"target\": \"HO\" },\n",
       "        { \"source\": \"ONN->N+NO\", \"target\": \"NO\" },\n",
       "        { \"source\": \"ONN->N+NO\", \"target\": \"N\" },\n",
       "        { \"source\": \"OHNN->HNN+O\", \"target\": \"O\" },\n",
       "        { \"source\": \"OHNN->HNN+O\", \"target\": \"HNN\" },\n",
       "        { \"source\": \"HONHNH->O+HHNNH\", \"target\": \"HHNNH\" },\n",
       "        { \"source\": \"HONHNH->O+HHNNH\", \"target\": \"O\" },\n",
       "        { \"source\": \"HNNHO->H+HNNO\", \"target\": \"H\" },\n",
       "        { \"source\": \"HNNHO->H+HNNO\", \"target\": \"HNNO\" },\n",
       "        { \"source\": \"HHHNNH\", \"target\": \"HHHNNH->HNH\" },\n",
       "        { \"source\": \"HHHNNH\", \"target\": \"HHHNNH->HHNNH+H\" }\n",
       "    ],\n",
       "    \"nodes\": {\n",
       "        \"H\": { \".label\": \"H\", \"color\": \"0x0000ff\", \"description\": \"H\", \"label\": \"H\", \"size\": 1 },\n",
       "        \"HHHNNH\": { \".label\": \"HHHNNH\", \"color\": \"0x0000ff\", \"description\": \"HHHNNH\", \"label\": \"HHHNNH\", \"size\": 1 },\n",
       "        \"HHHNNH->HHNNH+H\": { \".label\": \"HHHNNH->HHNNH+H\", \"color\": \"0x000000\", \"description\": \"HHHNNH->HHNNH+H\", \"label\": \"HHHNNH->HHNNH+H\", \"size\": 0.250000 },\n",
       "        \"HHHNNH->HNH\": { \".label\": \"HHHNNH->HNH\", \"color\": \"0x000000\", \"description\": \"HHHNNH->HNH\", \"label\": \"HHHNNH->HNH\", \"size\": 0.250000 },\n",
       "        \"HHN\": { \".label\": \"HHN\", \"color\": \"0x0000ff\", \"description\": \"HHN\", \"label\": \"HHN\", \"size\": 1 },\n",
       "        \"HHNH\": { \".label\": \"HHNH\", \"color\": \"0x0000ff\", \"description\": \"HHNH\", \"label\": \"HHNH\", \"size\": 1 },\n",
       "        \"HHNH->HNH+H\": { \".label\": \"HHNH->HNH+H\", \"color\": \"0x000000\", \"description\": \"HHNH->HNH+H\", \"label\": \"HHNH->HNH+H\", \"size\": 0.250000 },\n",
       "        \"HHNN\": { \".label\": \"HHNN\", \"color\": \"0x0000ff\", \"description\": \"HHNN\", \"label\": \"HHNN\", \"size\": 1 },\n",
       "        \"HHNN->H+HNN\": { \".label\": \"HHNN->H+HNN\", \"color\": \"0x000000\", \"description\": \"HHNN->H+HNN\", \"label\": \"HHNN->H+HNN\", \"size\": 0.250000 },\n",
       "        \"HHNN->NH\": { \".label\": \"HHNN->NH\", \"color\": \"0x000000\", \"description\": \"HHNN->NH\", \"label\": \"HHNN->NH\", \"size\": 0.250000 },\n",
       "        \"HHNNH\": { \".label\": \"HHNNH\", \"color\": \"0x0000ff\", \"description\": \"HHNNH\", \"label\": \"HHNNH\", \"size\": 1 },\n",
       "        \"HHNNH->HHNN+H\": { \".label\": \"HHNNH->HHNN+H\", \"color\": \"0x000000\", \"description\": \"HHNNH->HHNN+H\", \"label\": \"HHNNH->HHNN+H\", \"size\": 0.250000 },\n",
       "        \"HHNNH->HNNH+H\": { \".label\": \"HHNNH->HNNH+H\", \"color\": \"0x000000\", \"description\": \"HHNNH->HNNH+H\", \"label\": \"HHNNH->HNNH+H\", \"size\": 0.250000 },\n",
       "        \"HHNNH->NH+HNH\": { \".label\": \"HHNNH->NH+HNH\", \"color\": \"0x000000\", \"description\": \"HHNNH->NH+HNH\", \"label\": \"HHNNH->NH+HNH\", \"size\": 0.250000 },\n",
       "        \"HHNNO\": { \".label\": \"HHNNO\", \"color\": \"0x0000ff\", \"description\": \"HHNNO\", \"label\": \"HHNNO\", \"size\": 1 },\n",
       "        \"HHNOH\": { \".label\": \"HHNOH\", \"color\": \"0x0000ff\", \"description\": \"HHNOH\", \"label\": \"HHNOH\", \"size\": 1 },\n",
       "        \"HHNOH->H+HOHN\": { \".label\": \"HHNOH->H+HOHN\", \"color\": \"0x000000\", \"description\": \"HHNOH->H+HOHN\", \"label\": \"HHNOH->H+HOHN\", \"size\": 0.250000 },\n",
       "        \"HHNOH->HHN+OH\": { \".label\": \"HHNOH->HHN+OH\", \"color\": \"0x000000\", \"description\": \"HHNOH->HHN+OH\", \"label\": \"HHNOH->HHN+OH\", \"size\": 0.250000 },\n",
       "        \"HHNOH->HNOH+H\": { \".label\": \"HHNOH->HNOH+H\", \"color\": \"0x000000\", \"description\": \"HHNOH->HNOH+H\", \"label\": \"HHNOH->HNOH+H\", \"size\": 0.250000 },\n",
       "        \"HHOHNHNO\": { \".label\": \"HHOHNHNO\", \"color\": \"0x0000ff\", \"description\": \"HHOHNHNO\", \"label\": \"HHOHNHNO\", \"size\": 1 },\n",
       "        \"HHOHNHNO->H+HHOHNNO\": { \".label\": \"HHOHNHNO->H+HHOHNNO\", \"color\": \"0x000000\", \"description\": \"HHOHNHNO->H+HHOHNNO\", \"label\": \"HHOHNHNO->H+HHOHNNO\", \"size\": 0.250000 },\n",
       "        \"HHOHNHNO->HNOH+HNHO\": { \".label\": \"HHOHNHNO->HNOH+HNHO\", \"color\": \"0x000000\", \"description\": \"HHOHNHNO->HNOH+HNHO\", \"label\": \"HHOHNHNO->HNOH+HNHO\", \"size\": 0.250000 },\n",
       "        \"HHOHNHNO->HOHNHN+OH\": { \".label\": \"HHOHNHNO->HOHNHN+OH\", \"color\": \"0x000000\", \"description\": \"HHOHNHNO->HOHNHN+OH\", \"label\": \"HHOHNHNO->HOHNHN+OH\", \"size\": 0.250000 },\n",
       "        \"HHOHNHNO->HOHNHNO+H\": { \".label\": \"HHOHNHNO->HOHNHNO+H\", \"color\": \"0x000000\", \"description\": \"HHOHNHNO->HOHNHNO+H\", \"label\": \"HHOHNHNO->HOHNHNO+H\", \"size\": 0.250000 },\n",
       "        \"HHOHNNO\": { \".label\": \"HHOHNNO\", \"color\": \"0x0000ff\", \"description\": \"HHOHNNO\", \"label\": \"HHOHNNO\", \"size\": 1 },\n",
       "        \"HHOHNNO->H+HHONNO\": { \".label\": \"HHOHNNO->H+HHONNO\", \"color\": \"0x000000\", \"description\": \"HHOHNNO->H+HHONNO\", \"label\": \"HHOHNNO->H+HHONNO\", \"size\": 0.250000 },\n",
       "        \"HHOHNNO->H+HOHNNO\": { \".label\": \"HHOHNNO->H+HOHNNO\", \"color\": \"0x000000\", \"description\": \"HHOHNNO->H+HOHNNO\", \"label\": \"HHOHNNO->H+HOHNNO\", \"size\": 0.250000 },\n",
       "        \"HHOHNNO->H+HOHNNO(1)\": { \".label\": \"HHOHNNO->H+HOHNNO(1)\", \"color\": \"0x000000\", \"description\": \"HHOHNNO->H+HOHNNO(1)\", \"label\": \"HHOHNNO->H+HOHNNO(1)\", \"size\": 0.250000 },\n",
       "        \"HHOHNNO->HONNH+HO\": { \".label\": \"HHOHNNO->HONNH+HO\", \"color\": \"0x000000\", \"description\": \"HHOHNNO->HONNH+HO\", \"label\": \"HHOHNNO->HONNH+HO\", \"size\": 0.250000 },\n",
       "        \"HHOHNNO->NOH+HNHO\": { \".label\": \"HHOHNNO->NOH+HNHO\", \"color\": \"0x000000\", \"description\": \"HHOHNNO->NOH+HNHO\", \"label\": \"HHOHNNO->NOH+HNHO\", \"size\": 0.250000 },\n",
       "        \"HHOHNNO->OH+HNNHO\": { \".label\": \"HHOHNNO->OH+HNNHO\", \"color\": \"0x000000\", \"description\": \"HHOHNNO->OH+HNNHO\", \"label\": \"HHOHNNO->OH+HNNHO\", \"size\": 0.250000 },\n",
       "        \"HHONHNH\": { \".label\": \"HHONHNH\", \"color\": \"0x0000ff\", \"description\": \"HHONHNH\", \"label\": \"HHONHNH\", \"size\": 1 },\n",
       "        \"HHONHNH->H+HONHNH\": { \".label\": \"HHONHNH->H+HONHNH\", \"color\": \"0x000000\", \"description\": \"HHONHNH->H+HONHNH\", \"label\": \"HHONHNH->H+HONHNH\", \"size\": 0.250000 },\n",
       "        \"HHONHNH->H+HONHNH(1)\": { \".label\": \"HHONHNH->H+HONHNH(1)\", \"color\": \"0x000000\", \"description\": \"HHONHNH->H+HONHNH(1)\", \"label\": \"HHONHNH->H+HONHNH(1)\", \"size\": 0.250000 },\n",
       "        \"HHONHNH->HHNNH+OH\": { \".label\": \"HHONHNH->HHNNH+OH\", \"color\": \"0x000000\", \"description\": \"HHONHNH->HHNNH+OH\", \"label\": \"HHONHNH->HHNNH+OH\", \"size\": 0.250000 },\n",
       "        \"HHONHNH->HHONNH+H\": { \".label\": \"HHONHNH->HHONNH+H\", \"color\": \"0x000000\", \"description\": \"HHONHNH->HHONNH+H\", \"label\": \"HHONHNH->HHONNH+H\", \"size\": 0.250000 },\n",
       "        \"HHONHNH->HNH+HONH\": { \".label\": \"HHONHNH->HNH+HONH\", \"color\": \"0x000000\", \"description\": \"HHONHNH->HNH+HONH\", \"label\": \"HHONHNH->HNH+HONH\", \"size\": 0.250000 },\n",
       "        \"HHONNH\": { \".label\": \"HHONNH\", \"color\": \"0x0000ff\", \"description\": \"HHONNH\", \"label\": \"HHONNH\", \"size\": 1 },\n",
       "        \"HHONNO\": { \".label\": \"HHONNO\", \"color\": \"0x0000ff\", \"description\": \"HHONNO\", \"label\": \"HHONNO\", \"size\": 1 },\n",
       "        \"HHONNO->H+ONNHO\": { \".label\": \"HHONNO->H+ONNHO\", \"color\": \"0x000000\", \"description\": \"HHONNO->H+ONNHO\", \"label\": \"HHONNO->H+ONNHO\", \"size\": 0.250000 },\n",
       "        \"HHONNO->NHO+NOH\": { \".label\": \"HHONNO->NHO+NOH\", \"color\": \"0x000000\", \"description\": \"HHONNO->NHO+NOH\", \"label\": \"HHONNO->NHO+NOH\", \"size\": 0.250000 },\n",
       "        \"HHONNO->NNHO+OH\": { \".label\": \"HHONNO->NNHO+OH\", \"color\": \"0x000000\", \"description\": \"HHONNO->NNHO+OH\", \"label\": \"HHONNO->NNHO+OH\", \"size\": 0.250000 },\n",
       "        \"HN\": { \".label\": \"HN\", \"color\": \"0x0000ff\", \"description\": \"HN\", \"label\": \"HN\", \"size\": 1 },\n",
       "        \"HN->N+H\": { \".label\": \"HN->N+H\", \"color\": \"0x000000\", \"description\": \"HN->N+H\", \"label\": \"HN->N+H\", \"size\": 0.250000 },\n",
       "        \"HNH\": { \".label\": \"HNH\", \"color\": \"0x0000ff\", \"description\": \"HNH\", \"label\": \"HNH\", \"size\": 1 },\n",
       "        \"HNH->HN+H\": { \".label\": \"HNH->HN+H\", \"color\": \"0x000000\", \"description\": \"HNH->HN+H\", \"label\": \"HNH->HN+H\", \"size\": 0.250000 },\n",
       "        \"HNHO\": { \".label\": \"HNHO\", \"color\": \"0x0000ff\", \"description\": \"HNHO\", \"label\": \"HNHO\", \"size\": 1 },\n",
       "        \"HNN\": { \".label\": \"HNN\", \"color\": \"0x0000ff\", \"description\": \"HNN\", \"label\": \"HNN\", \"size\": 1 },\n",
       "        \"HNNH\": { \".label\": \"HNNH\", \"color\": \"0x0000ff\", \"description\": \"HNNH\", \"label\": \"HNNH\", \"size\": 1 },\n",
       "        \"HNNHO\": { \".label\": \"HNNHO\", \"color\": \"0x0000ff\", \"description\": \"HNNHO\", \"label\": \"HNNHO\", \"size\": 1 },\n",
       "        \"HNNHO->H+HNNO\": { \".label\": \"HNNHO->H+HNNO\", \"color\": \"0x000000\", \"description\": \"HNNHO->H+HNNO\", \"label\": \"HNNHO->H+HNNO\", \"size\": 0.250000 },\n",
       "        \"HNNHO->H+HNNO(1)\": { \".label\": \"HNNHO->H+HNNO(1)\", \"color\": \"0x000000\", \"description\": \"HNNHO->H+HNNO(1)\", \"label\": \"HNNHO->H+HNNO(1)\", \"size\": 0.250000 },\n",
       "        \"HNNHO->H+NNHO\": { \".label\": \"HNNHO->H+NNHO\", \"color\": \"0x000000\", \"description\": \"HNNHO->H+NNHO\", \"label\": \"HNNHO->H+NNHO\", \"size\": 0.250000 },\n",
       "        \"HNNHO->H+NNHO(1)\": { \".label\": \"HNNHO->H+NNHO(1)\", \"color\": \"0x000000\", \"description\": \"HNNHO->H+NNHO(1)\", \"label\": \"HNNHO->H+NNHO(1)\", \"size\": 0.250000 },\n",
       "        \"HNNHO->HNN+HO\": { \".label\": \"HNNHO->HNN+HO\", \"color\": \"0x000000\", \"description\": \"HNNHO->HNN+HO\", \"label\": \"HNNHO->HNN+HO\", \"size\": 0.250000 },\n",
       "        \"HNNHO->N+HNHO\": { \".label\": \"HNNHO->N+HNHO\", \"color\": \"0x000000\", \"description\": \"HNNHO->N+HNHO\", \"label\": \"HNNHO->N+HNHO\", \"size\": 0.250000 },\n",
       "        \"HNNHO->NH+NHO\": { \".label\": \"HNNHO->NH+NHO\", \"color\": \"0x000000\", \"description\": \"HNNHO->NH+NHO\", \"label\": \"HNNHO->NH+NHO\", \"size\": 0.250000 },\n",
       "        \"HNNHO->NNH+HO\": { \".label\": \"HNNHO->NNH+HO\", \"color\": \"0x000000\", \"description\": \"HNNHO->NNH+HO\", \"label\": \"HNNHO->NNH+HO\", \"size\": 0.250000 },\n",
       "        \"HNNO\": { \".label\": \"HNNO\", \"color\": \"0x0000ff\", \"description\": \"HNNO\", \"label\": \"HNNO\", \"size\": 1 },\n",
       "        \"HNNOH\": { \".label\": \"HNNOH\", \"color\": \"0x0000ff\", \"description\": \"HNNOH\", \"label\": \"HNNOH\", \"size\": 1 },\n",
       "        \"HNO\": { \".label\": \"HNO\", \"color\": \"0x0000ff\", \"description\": \"HNO\", \"label\": \"HNO\", \"size\": 1 },\n",
       "        \"HNO->H+NO\": { \".label\": \"HNO->H+NO\", \"color\": \"0x000000\", \"description\": \"HNO->H+NO\", \"label\": \"HNO->H+NO\", \"size\": 0.250000 },\n",
       "        \"HNO->NH+O\": { \".label\": \"HNO->NH+O\", \"color\": \"0x000000\", \"description\": \"HNO->NH+O\", \"label\": \"HNO->NH+O\", \"size\": 0.250000 },\n",
       "        \"HNOH\": { \".label\": \"HNOH\", \"color\": \"0x0000ff\", \"description\": \"HNOH\", \"label\": \"HNOH\", \"size\": 1 },\n",
       "        \"HNOH->HNO+H\": { \".label\": \"HNOH->HNO+H\", \"color\": \"0x000000\", \"description\": \"HNOH->HNO+H\", \"label\": \"HNOH->HNO+H\", \"size\": 0.250000 },\n",
       "        \"HNOH->NH+OH\": { \".label\": \"HNOH->NH+OH\", \"color\": \"0x000000\", \"description\": \"HNOH->NH+OH\", \"label\": \"HNOH->NH+OH\", \"size\": 0.250000 },\n",
       "        \"HNOH->NOH+H\": { \".label\": \"HNOH->NOH+H\", \"color\": \"0x000000\", \"description\": \"HNOH->NOH+H\", \"label\": \"HNOH->NOH+H\", \"size\": 0.250000 },\n",
       "        \"HNON\": { \".label\": \"HNON\", \"color\": \"0x0000ff\", \"description\": \"HNON\", \"label\": \"HNON\", \"size\": 1 },\n",
       "        \"HNONH\": { \".label\": \"HNONH\", \"color\": \"0x0000ff\", \"description\": \"HNONH\", \"label\": \"HNONH\", \"size\": 1 },\n",
       "        \"HO\": { \".label\": \"HO\", \"color\": \"0x0000ff\", \"description\": \"HO\", \"label\": \"HO\", \"size\": 1 },\n",
       "        \"HOH\": { \".label\": \"HOH\", \"color\": \"0x0000ff\", \"description\": \"HOH\", \"label\": \"HOH\", \"size\": 1 },\n",
       "        \"HOH->H+HO\": { \".label\": \"HOH->H+HO\", \"color\": \"0x000000\", \"description\": \"HOH->H+HO\", \"label\": \"HOH->H+HO\", \"size\": 0.250000 },\n",
       "        \"HOHN\": { \".label\": \"HOHN\", \"color\": \"0x0000ff\", \"description\": \"HOHN\", \"label\": \"HOHN\", \"size\": 1 },\n",
       "        \"HOHN->H+OHN\": { \".label\": \"HOHN->H+OHN\", \"color\": \"0x000000\", \"description\": \"HOHN->H+OHN\", \"label\": \"HOHN->H+OHN\", \"size\": 0.250000 },\n",
       "        \"HOHN->O+HHN\": { \".label\": \"HOHN->O+HHN\", \"color\": \"0x000000\", \"description\": \"HOHN->O+HHN\", \"label\": \"HOHN->O+HHN\", \"size\": 0.250000 },\n",
       "        \"HOHNHN\": { \".label\": \"HOHNHN\", \"color\": \"0x0000ff\", \"description\": \"HOHNHN\", \"label\": \"HOHNHN\", \"size\": 1 },\n",
       "        \"HOHNHN->H+HHNNO\": { \".label\": \"HOHNHN->H+HHNNO\", \"color\": \"0x000000\", \"description\": \"HOHNHN->H+HHNNO\", \"label\": \"HOHNHN->H+HHNNO\", \"size\": 0.250000 },\n",
       "        \"HOHNHN->H+HNNHO\": { \".label\": \"HOHNHN->H+HNNHO\", \"color\": \"0x000000\", \"description\": \"HOHNHN->H+HNNHO\", \"label\": \"HOHNHN->H+HNNHO\", \"size\": 0.250000 },\n",
       "        \"HOHNHN->H+HNNHO(1)\": { \".label\": \"HOHNHN->H+HNNHO(1)\", \"color\": \"0x000000\", \"description\": \"HOHNHN->H+HNNHO(1)\", \"label\": \"HOHNHN->H+HNNHO(1)\", \"size\": 0.250000 },\n",
       "        \"HOHNHN->HHNN+HO\": { \".label\": \"HOHNHN->HHNN+HO\", \"color\": \"0x000000\", \"description\": \"HOHNHN->HHNN+HO\", \"label\": \"HOHNHN->HHNN+HO\", \"size\": 0.250000 },\n",
       "        \"HOHNHN->HN+HNHO\": { \".label\": \"HOHNHN->HN+HNHO\", \"color\": \"0x000000\", \"description\": \"HOHNHN->HN+HNHO\", \"label\": \"HOHNHN->HN+HNHO\", \"size\": 0.250000 },\n",
       "        \"HOHNHNO\": { \".label\": \"HOHNHNO\", \"color\": \"0x0000ff\", \"description\": \"HOHNHNO\", \"label\": \"HOHNHNO\", \"size\": 1 },\n",
       "        \"HOHNHNO->H+HOHNNO\": { \".label\": \"HOHNHNO->H+HOHNNO\", \"color\": \"0x000000\", \"description\": \"HOHNHNO->H+HOHNNO\", \"label\": \"HOHNHNO->H+HOHNNO\", \"size\": 0.250000 },\n",
       "        \"HOHNHNO->H+HONHNO\": { \".label\": \"HOHNHNO->H+HONHNO\", \"color\": \"0x000000\", \"description\": \"HOHNHNO->H+HONHNO\", \"label\": \"HOHNHNO->H+HONHNO\", \"size\": 0.250000 },\n",
       "        \"HOHNHNO->HNHO+HNO\": { \".label\": \"HOHNHNO->HNHO+HNO\", \"color\": \"0x000000\", \"description\": \"HOHNHNO->HNHO+HNO\", \"label\": \"HOHNHNO->HNHO+HNO\", \"size\": 0.250000 },\n",
       "        \"HOHNHNO->HOHNHN+O\": { \".label\": \"HOHNHNO->HOHNHN+O\", \"color\": \"0x000000\", \"description\": \"HOHNHNO->HOHNHN+O\", \"label\": \"HOHNHNO->HOHNHN+O\", \"size\": 0.250000 },\n",
       "        \"HOHNHNO->HOHNN+HO\": { \".label\": \"HOHNHNO->HOHNN+HO\", \"color\": \"0x000000\", \"description\": \"HOHNHNO->HOHNN+HO\", \"label\": \"HOHNHNO->HOHNN+HO\", \"size\": 0.250000 },\n",
       "        \"HOHNHNO->OHNHNO+H\": { \".label\": \"HOHNHNO->OHNHNO+H\", \"color\": \"0x000000\", \"description\": \"HOHNHNO->OHNHNO+H\", \"label\": \"HOHNHNO->OHNHNO+H\", \"size\": 0.250000 },\n",
       "        \"HOHNN\": { \".label\": \"HOHNN\", \"color\": \"0x0000ff\", \"description\": \"HOHNN\", \"label\": \"HOHNN\", \"size\": 1 },\n",
       "        \"HOHNN->H+OHNN\": { \".label\": \"HOHNN->H+OHNN\", \"color\": \"0x000000\", \"description\": \"HOHNN->H+OHNN\", \"label\": \"HOHNN->H+OHNN\", \"size\": 0.250000 },\n",
       "        \"HOHNN->H+ONNH\": { \".label\": \"HOHNN->H+ONNH\", \"color\": \"0x000000\", \"description\": \"HOHNN->H+ONNH\", \"label\": \"HOHNN->H+ONNH\", \"size\": 0.250000 },\n",
       "        \"HOHNN->HNNH+O\": { \".label\": \"HOHNN->HNNH+O\", \"color\": \"0x000000\", \"description\": \"HOHNN->HNNH+O\", \"label\": \"HOHNN->HNNH+O\", \"size\": 0.250000 },\n",
       "        \"HOHNN->NH+HNO\": { \".label\": \"HOHNN->NH+HNO\", \"color\": \"0x000000\", \"description\": \"HOHNN->NH+HNO\", \"label\": \"HOHNN->NH+HNO\", \"size\": 0.250000 },\n",
       "        \"HOHNNO\": { \".label\": \"HOHNNO\", \"color\": \"0x0000ff\", \"description\": \"HOHNNO\", \"label\": \"HOHNNO\", \"size\": 1 },\n",
       "        \"HOHNNO->H+HONNO\": { \".label\": \"HOHNNO->H+HONNO\", \"color\": \"0x000000\", \"description\": \"HOHNNO->H+HONNO\", \"label\": \"HOHNNO->H+HONNO\", \"size\": 0.250000 },\n",
       "        \"HOHNNO->H+ONNHO\": { \".label\": \"HOHNNO->H+ONNHO\", \"color\": \"0x000000\", \"description\": \"HOHNNO->H+ONNHO\", \"label\": \"HOHNNO->H+ONNHO\", \"size\": 0.250000 },\n",
       "        \"HOHNNO->HNHO+NO\": { \".label\": \"HOHNNO->HNHO+NO\", \"color\": \"0x000000\", \"description\": \"HOHNNO->HNHO+NO\", \"label\": \"HOHNNO->HNHO+NO\", \"size\": 0.250000 },\n",
       "        \"HOHNNO->HONN+HO\": { \".label\": \"HOHNNO->HONN+HO\", \"color\": \"0x000000\", \"description\": \"HOHNNO->HONN+HO\", \"label\": \"HOHNNO->HONN+HO\", \"size\": 0.250000 },\n",
       "        \"HOHNNO->O+HNNHO\": { \".label\": \"HOHNNO->O+HNNHO\", \"color\": \"0x000000\", \"description\": \"HOHNNO->O+HNNHO\", \"label\": \"HOHNNO->O+HNNHO\", \"size\": 0.250000 },\n",
       "        \"HONH\": { \".label\": \"HONH\", \"color\": \"0x0000ff\", \"description\": \"HONH\", \"label\": \"HONH\", \"size\": 1 },\n",
       "        \"HONHNH\": { \".label\": \"HONHNH\", \"color\": \"0x0000ff\", \"description\": \"HONHNH\", \"label\": \"HONHNH\", \"size\": 1 },\n",
       "        \"HONHNH->H+HNONH\": { \".label\": \"HONHNH->H+HNONH\", \"color\": \"0x000000\", \"description\": \"HONHNH->H+HNONH\", \"label\": \"HONHNH->H+HNONH\", \"size\": 0.250000 },\n",
       "        \"HONHNH->HNH+NOH\": { \".label\": \"HONHNH->HNH+NOH\", \"color\": \"0x000000\", \"description\": \"HONHNH->HNH+NOH\", \"label\": \"HONHNH->HNH+NOH\", \"size\": 0.250000 },\n",
       "        \"HONHNH->HNNOH+H\": { \".label\": \"HONHNH->HNNOH+H\", \"color\": \"0x000000\", \"description\": \"HONHNH->HNNOH+H\", \"label\": \"HONHNH->HNNOH+H\", \"size\": 0.250000 },\n",
       "        \"HONHNH->NHNH+OH\": { \".label\": \"HONHNH->NHNH+OH\", \"color\": \"0x000000\", \"description\": \"HONHNH->NHNH+OH\", \"label\": \"HONHNH->NHNH+OH\", \"size\": 0.250000 },\n",
       "        \"HONHNH->O+HHNNH\": { \".label\": \"HONHNH->O+HHNNH\", \"color\": \"0x000000\", \"description\": \"HONHNH->O+HHNNH\", \"label\": \"HONHNH->O+HHNNH\", \"size\": 0.250000 },\n",
       "        \"HONHNH->ONH+HNH\": { \".label\": \"HONHNH->ONH+HNH\", \"color\": \"0x000000\", \"description\": \"HONHNH->ONH+HNH\", \"label\": \"HONHNH->ONH+HNH\", \"size\": 0.250000 },\n",
       "        \"HONHNH->ONHNH+H\": { \".label\": \"HONHNH->ONHNH+H\", \"color\": \"0x000000\", \"description\": \"HONHNH->ONHNH+H\", \"label\": \"HONHNH->ONHNH+H\", \"size\": 0.250000 },\n",
       "        \"HONHNH->ONHNH+H(1)\": { \".label\": \"HONHNH->ONHNH+H(1)\", \"color\": \"0x000000\", \"description\": \"HONHNH->ONHNH+H(1)\", \"label\": \"HONHNH->ONHNH+H(1)\", \"size\": 0.250000 },\n",
       "        \"HONHNO\": { \".label\": \"HONHNO\", \"color\": \"0x0000ff\", \"description\": \"HONHNO\", \"label\": \"HONHNO\", \"size\": 1 },\n",
       "        \"HONHNO->H+OHNNO\": { \".label\": \"HONHNO->H+OHNNO\", \"color\": \"0x000000\", \"description\": \"HONHNO->H+OHNNO\", \"label\": \"HONHNO->H+OHNNO\", \"size\": 0.250000 },\n",
       "        \"HONHNO->H+ONNHO\": { \".label\": \"HONHNO->H+ONNHO\", \"color\": \"0x000000\", \"description\": \"HONHNO->H+ONNHO\", \"label\": \"HONHNO->H+ONNHO\", \"size\": 0.250000 },\n",
       "        \"HONHNO->NHO+HNO\": { \".label\": \"HONHNO->NHO+HNO\", \"color\": \"0x000000\", \"description\": \"HONHNO->NHO+HNO\", \"label\": \"HONHNO->NHO+HNO\", \"size\": 0.250000 },\n",
       "        \"HONHNO->O+HNNHO\": { \".label\": \"HONHNO->O+HNNHO\", \"color\": \"0x000000\", \"description\": \"HONHNO->O+HNNHO\", \"label\": \"HONHNO->O+HNNHO\", \"size\": 0.250000 },\n",
       "        \"HONHNO->OHNN+HO\": { \".label\": \"HONHNO->OHNN+HO\", \"color\": \"0x000000\", \"description\": \"HONHNO->OHNN+HO\", \"label\": \"HONHNO->OHNN+HO\", \"size\": 0.250000 },\n",
       "        \"HONN\": { \".label\": \"HONN\", \"color\": \"0x0000ff\", \"description\": \"HONN\", \"label\": \"HONN\", \"size\": 1 },\n",
       "        \"HONN->H+ONN\": { \".label\": \"HONN->H+ONN\", \"color\": \"0x000000\", \"description\": \"HONN->H+ONN\", \"label\": \"HONN->H+ONN\", \"size\": 0.250000 },\n",
       "        \"HONN->NH+NO\": { \".label\": \"HONN->NH+NO\", \"color\": \"0x000000\", \"description\": \"HONN->NH+NO\", \"label\": \"HONN->NH+NO\", \"size\": 0.250000 },\n",
       "        \"HONN->NNH+O\": { \".label\": \"HONN->NNH+O\", \"color\": \"0x000000\", \"description\": \"HONN->NNH+O\", \"label\": \"HONN->NNH+O\", \"size\": 0.250000 },\n",
       "        \"HONNH\": { \".label\": \"HONNH\", \"color\": \"0x0000ff\", \"description\": \"HONNH\", \"label\": \"HONNH\", \"size\": 1 },\n",
       "        \"HONNO\": { \".label\": \"HONNO\", \"color\": \"0x0000ff\", \"description\": \"HONNO\", \"label\": \"HONNO\", \"size\": 1 },\n",
       "        \"HONNO->H+ONNO\": { \".label\": \"HONNO->H+ONNO\", \"color\": \"0x000000\", \"description\": \"HONNO->H+ONNO\", \"label\": \"HONNO->H+ONNO\", \"size\": 0.250000 },\n",
       "        \"HONNO->HNNO+O\": { \".label\": \"HONNO->HNNO+O\", \"color\": \"0x000000\", \"description\": \"HONNO->HNNO+O\", \"label\": \"HONNO->HNNO+O\", \"size\": 0.250000 },\n",
       "        \"HONNO->NO+HNO\": { \".label\": \"HONNO->NO+HNO\", \"color\": \"0x000000\", \"description\": \"HONNO->NO+HNO\", \"label\": \"HONNO->NO+HNO\", \"size\": 0.250000 },\n",
       "        \"HONNO->ONNH+O\": { \".label\": \"HONNO->ONNH+O\", \"color\": \"0x000000\", \"description\": \"HONNO->ONNH+O\", \"label\": \"HONNO->ONNH+O\", \"size\": 0.250000 },\n",
       "        \"N\": { \".label\": \"N\", \"color\": \"0x0000ff\", \"description\": \"N\", \"label\": \"N\", \"size\": 1 },\n",
       "        \"NH\": { \".label\": \"NH\", \"color\": \"0x0000ff\", \"description\": \"NH\", \"label\": \"NH\", \"size\": 1 },\n",
       "        \"NHNH\": { \".label\": \"NHNH\", \"color\": \"0x0000ff\", \"description\": \"NHNH\", \"label\": \"NHNH\", \"size\": 1 },\n",
       "        \"NHNH->H+HNN\": { \".label\": \"NHNH->H+HNN\", \"color\": \"0x000000\", \"description\": \"NHNH->H+HNN\", \"label\": \"NHNH->H+HNN\", \"size\": 0.250000 },\n",
       "        \"NHNH->N+HNH\": { \".label\": \"NHNH->N+HNH\", \"color\": \"0x000000\", \"description\": \"NHNH->N+HNH\", \"label\": \"NHNH->N+HNH\", \"size\": 0.250000 },\n",
       "        \"NHO\": { \".label\": \"NHO\", \"color\": \"0x0000ff\", \"description\": \"NHO\", \"label\": \"NHO\", \"size\": 1 },\n",
       "        \"NN\": { \".label\": \"NN\", \"color\": \"0x0000ff\", \"description\": \"NN\", \"label\": \"NN\", \"size\": 1 },\n",
       "        \"NN->N\": { \".label\": \"NN->N\", \"color\": \"0x000000\", \"description\": \"NN->N\", \"label\": \"NN->N\", \"size\": 0.250000 },\n",
       "        \"NNH\": { \".label\": \"NNH\", \"color\": \"0x0000ff\", \"description\": \"NNH\", \"label\": \"NNH\", \"size\": 1 },\n",
       "        \"NNH->H+NN\": { \".label\": \"NNH->H+NN\", \"color\": \"0x000000\", \"description\": \"NNH->H+NN\", \"label\": \"NNH->H+NN\", \"size\": 0.250000 },\n",
       "        \"NNH->N+HN\": { \".label\": \"NNH->N+HN\", \"color\": \"0x000000\", \"description\": \"NNH->N+HN\", \"label\": \"NNH->N+HN\", \"size\": 0.250000 },\n",
       "        \"NNHO\": { \".label\": \"NNHO\", \"color\": \"0x0000ff\", \"description\": \"NNHO\", \"label\": \"NNHO\", \"size\": 1 },\n",
       "        \"NNHO->HO+NN\": { \".label\": \"NNHO->HO+NN\", \"color\": \"0x000000\", \"description\": \"NNHO->HO+NN\", \"label\": \"NNHO->HO+NN\", \"size\": 0.250000 },\n",
       "        \"NNHO->N+NHO\": { \".label\": \"NNHO->N+NHO\", \"color\": \"0x000000\", \"description\": \"NNHO->N+NHO\", \"label\": \"NNHO->N+NHO\", \"size\": 0.250000 },\n",
       "        \"NNHO->NNO+H\": { \".label\": \"NNHO->NNO+H\", \"color\": \"0x000000\", \"description\": \"NNHO->NNO+H\", \"label\": \"NNHO->NNO+H\", \"size\": 0.250000 },\n",
       "        \"NNO\": { \".label\": \"NNO\", \"color\": \"0x0000ff\", \"description\": \"NNO\", \"label\": \"NNO\", \"size\": 1 },\n",
       "        \"NO\": { \".label\": \"NO\", \"color\": \"0x0000ff\", \"description\": \"NO\", \"label\": \"NO\", \"size\": 1 },\n",
       "        \"NO->N+O\": { \".label\": \"NO->N+O\", \"color\": \"0x000000\", \"description\": \"NO->N+O\", \"label\": \"NO->N+O\", \"size\": 0.250000 },\n",
       "        \"NOH\": { \".label\": \"NOH\", \"color\": \"0x0000ff\", \"description\": \"NOH\", \"label\": \"NOH\", \"size\": 1 },\n",
       "        \"NOH->H+NO\": { \".label\": \"NOH->H+NO\", \"color\": \"0x000000\", \"description\": \"NOH->H+NO\", \"label\": \"NOH->H+NO\", \"size\": 0.250000 },\n",
       "        \"NOH->N+OH\": { \".label\": \"NOH->N+OH\", \"color\": \"0x000000\", \"description\": \"NOH->N+OH\", \"label\": \"NOH->N+OH\", \"size\": 0.250000 },\n",
       "        \"O\": { \".label\": \"O\", \"color\": \"0x0000ff\", \"description\": \"O\", \"label\": \"O\", \"size\": 1 },\n",
       "        \"OH\": { \".label\": \"OH\", \"color\": \"0x0000ff\", \"description\": \"OH\", \"label\": \"OH\", \"size\": 1 },\n",
       "        \"OH->O+H\": { \".label\": \"OH->O+H\", \"color\": \"0x000000\", \"description\": \"OH->O+H\", \"label\": \"OH->O+H\", \"size\": 0.250000 },\n",
       "        \"OHN\": { \".label\": \"OHN\", \"color\": \"0x0000ff\", \"description\": \"OHN\", \"label\": \"OHN\", \"size\": 1 },\n",
       "        \"OHNHNO\": { \".label\": \"OHNHNO\", \"color\": \"0x0000ff\", \"description\": \"OHNHNO\", \"label\": \"OHNHNO\", \"size\": 1 },\n",
       "        \"OHNHNO->H+HONNO\": { \".label\": \"OHNHNO->H+HONNO\", \"color\": \"0x000000\", \"description\": \"OHNHNO->H+HONNO\", \"label\": \"OHNHNO->H+HONNO\", \"size\": 0.250000 },\n",
       "        \"OHNHNO->HNO\": { \".label\": \"OHNHNO->HNO\", \"color\": \"0x000000\", \"description\": \"OHNHNO->HNO\", \"label\": \"OHNHNO->HNO\", \"size\": 0.250000 },\n",
       "        \"OHNHNO->O+HHNNO\": { \".label\": \"OHNHNO->O+HHNNO\", \"color\": \"0x000000\", \"description\": \"OHNHNO->O+HHNNO\", \"label\": \"OHNHNO->O+HHNNO\", \"size\": 0.250000 },\n",
       "        \"OHNN\": { \".label\": \"OHNN\", \"color\": \"0x0000ff\", \"description\": \"OHNN\", \"label\": \"OHNN\", \"size\": 1 },\n",
       "        \"OHNN->HNN+O\": { \".label\": \"OHNN->HNN+O\", \"color\": \"0x000000\", \"description\": \"OHNN->HNN+O\", \"label\": \"OHNN->HNN+O\", \"size\": 0.250000 },\n",
       "        \"OHNN->N+HNO\": { \".label\": \"OHNN->N+HNO\", \"color\": \"0x000000\", \"description\": \"OHNN->N+HNO\", \"label\": \"OHNN->N+HNO\", \"size\": 0.250000 },\n",
       "        \"OHNN->ONN+H\": { \".label\": \"OHNN->ONN+H\", \"color\": \"0x000000\", \"description\": \"OHNN->ONN+H\", \"label\": \"OHNN->ONN+H\", \"size\": 0.250000 },\n",
       "        \"OHNNO\": { \".label\": \"OHNNO\", \"color\": \"0x0000ff\", \"description\": \"OHNNO\", \"label\": \"OHNNO\", \"size\": 1 },\n",
       "        \"ON\": { \".label\": \"ON\", \"color\": \"0x0000ff\", \"description\": \"ON\", \"label\": \"ON\", \"size\": 1 },\n",
       "        \"ONH\": { \".label\": \"ONH\", \"color\": \"0x0000ff\", \"description\": \"ONH\", \"label\": \"ONH\", \"size\": 1 },\n",
       "        \"ONHNH\": { \".label\": \"ONHNH\", \"color\": \"0x0000ff\", \"description\": \"ONHNH\", \"label\": \"ONHNH\", \"size\": 1 },\n",
       "        \"ONHNH->H+HNON\": { \".label\": \"ONHNH->H+HNON\", \"color\": \"0x000000\", \"description\": \"ONHNH->H+HNON\", \"label\": \"ONHNH->H+HNON\", \"size\": 0.250000 },\n",
       "        \"ONHNH->HHNN+O\": { \".label\": \"ONHNH->HHNN+O\", \"color\": \"0x000000\", \"description\": \"ONHNH->HHNN+O\", \"label\": \"ONHNH->HHNN+O\", \"size\": 0.250000 },\n",
       "        \"ONHNH->ON+HNH\": { \".label\": \"ONHNH->ON+HNH\", \"color\": \"0x000000\", \"description\": \"ONHNH->ON+HNH\", \"label\": \"ONHNH->ON+HNH\", \"size\": 0.250000 },\n",
       "        \"ONN\": { \".label\": \"ONN\", \"color\": \"0x0000ff\", \"description\": \"ONN\", \"label\": \"ONN\", \"size\": 1 },\n",
       "        \"ONN->N+NO\": { \".label\": \"ONN->N+NO\", \"color\": \"0x000000\", \"description\": \"ONN->N+NO\", \"label\": \"ONN->N+NO\", \"size\": 0.250000 },\n",
       "        \"ONN->O+NN\": { \".label\": \"ONN->O+NN\", \"color\": \"0x000000\", \"description\": \"ONN->O+NN\", \"label\": \"ONN->O+NN\", \"size\": 0.250000 },\n",
       "        \"ONNH\": { \".label\": \"ONNH\", \"color\": \"0x0000ff\", \"description\": \"ONNH\", \"label\": \"ONNH\", \"size\": 1 },\n",
       "        \"ONNHO\": { \".label\": \"ONNHO\", \"color\": \"0x0000ff\", \"description\": \"ONNHO\", \"label\": \"ONNHO\", \"size\": 1 },\n",
       "        \"ONNHO->H+ONNO\": { \".label\": \"ONNHO->H+ONNO\", \"color\": \"0x000000\", \"description\": \"ONNHO->H+ONNO\", \"label\": \"ONNHO->H+ONNO\", \"size\": 0.250000 },\n",
       "        \"ONNHO->HO+ONN\": { \".label\": \"ONNHO->HO+ONN\", \"color\": \"0x000000\", \"description\": \"ONNHO->HO+ONN\", \"label\": \"ONNHO->HO+ONN\", \"size\": 0.250000 },\n",
       "        \"ONNHO->NHO+NO\": { \".label\": \"ONNHO->NHO+NO\", \"color\": \"0x000000\", \"description\": \"ONNHO->NHO+NO\", \"label\": \"ONNHO->NHO+NO\", \"size\": 0.250000 },\n",
       "        \"ONNHO->O+NNHO\": { \".label\": \"ONNHO->O+NNHO\", \"color\": \"0x000000\", \"description\": \"ONNHO->O+NNHO\", \"label\": \"ONNHO->O+NNHO\", \"size\": 0.250000 },\n",
       "        \"ONNO\": { \".label\": \"ONNO\", \"color\": \"0x0000ff\", \"description\": \"ONNO\", \"label\": \"ONNO\", \"size\": 1 },\n",
       "        \"ONNO->NO\": { \".label\": \"ONNO->NO\", \"color\": \"0x000000\", \"description\": \"ONNO->NO\", \"label\": \"ONNO->NO\", \"size\": 0.250000 },\n",
       "        \"ONNO->ONN+O\": { \".label\": \"ONNO->ONN+O\", \"color\": \"0x000000\", \"description\": \"ONNO->ONN+O\", \"label\": \"ONNO->ONN+O\", \"size\": 0.250000 },\n",
       "        \"OO\": { \".label\": \"OO\", \"color\": \"0x0000ff\", \"description\": \"OO\", \"label\": \"OO\", \"size\": 1 },\n",
       "        \"OO->O\": { \".label\": \"OO->O\", \"color\": \"0x000000\", \"description\": \"OO->O\", \"label\": \"OO->O\", \"size\": 0.250000 }\n",
       "    }\n",
       "});\n",
       "\n",
       "               $d.resizable({\n",
       "                   aspectRatio: 600 / 400,\n",
       "                   resize: function (evt, ui) {\n",
       "                       $d.jgraph.renderer.setSize(ui.size.width,\n",
       "                                                  ui.size.height);\n",
       "                   }\n",
       "               });\n",
       "           });\n",
       "           </script>"
      ],
      "text/plain": [
       "<IPython.core.display.HTML object>"
      ]
     },
     "metadata": {},
     "output_type": "display_data"
    }
   ],
   "source": [
    "print(all_rxns)\n",
    "jgraph.draw(all_rxns.to_jgraph())"
   ]
  },
  {
   "cell_type": "markdown",
   "metadata": {},
   "source": [
    "There isn't much we can learn from this, but it's a safe bet that the central point is hydrogen."
   ]
  }
 ],
 "metadata": {
  "kernelspec": {
   "display_name": "Python [conda env:rxngraph]",
   "language": "python",
   "name": "conda-env-rxngraph-py"
  },
  "language_info": {
   "codemirror_mode": {
    "name": "ipython",
    "version": 2
   },
   "file_extension": ".py",
   "mimetype": "text/x-python",
   "name": "python",
   "nbconvert_exporter": "python",
   "pygments_lexer": "ipython2",
   "version": "2.7.13"
  }
 },
 "nbformat": 4,
 "nbformat_minor": 2
}
