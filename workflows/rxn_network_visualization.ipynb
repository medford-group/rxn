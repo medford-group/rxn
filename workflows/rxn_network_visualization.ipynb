{
 "cells": [
  {
   "cell_type": "code",
   "execution_count": 1,
   "metadata": {
    "collapsed": true
   },
   "outputs": [],
   "source": [
    "import sys\n",
    "import time\n",
    "sys.path.insert(0,'../') #enable loading rxn package\n",
    "\n",
    "import jgraph\n",
    "import imolecule\n",
    "from rxn.data_structures import MolGraph, RxnGraph\n",
    "from rxn.rxn_network import scissions, recursive_scissions, unique_graphs"
   ]
  },
  {
   "cell_type": "markdown",
   "metadata": {},
   "source": [
    "We can start by generating all of the scission reactions for the HONHNHOH molecule. Note that the visualization of the reaction network is not very useful without labels, which still needs to be figured out and will require modifying or wrapping the jgraph library, or finding another visualization library. The conversion to `rxn_list` is also ugly, and in general the input/output functionality of RxnGraph is still under development."
   ]
  },
  {
   "cell_type": "code",
   "execution_count": 2,
   "metadata": {},
   "outputs": [
    {
     "name": "stdout",
     "output_type": "stream",
     "text": [
      "HOHHONNH->H+HOHONNH\n",
      "HOHHONNH->HNOH\n",
      "HOHHONNH->H+OHHONNH\n",
      "HOHHONNH->HOHNNH+OH\n"
     ]
    },
    {
     "data": {
      "text/html": [
       "<div id=\"graph-a14111f6-3c7c-42e6-b714-8ec91986422c\"></div>\n",
       "           <script type=\"text/javascript\">\n",
       "           require.config({baseUrl: '/',\n",
       "                             paths: {jgraph: ['nbextensions/jgraph.min', 'https://rawgit.com/patrickfuller/jgraph/master/js/build/jgraph.min']}});\n",
       "           require(['jgraph'], function () {\n",
       "               var $d = $('#graph-a14111f6-3c7c-42e6-b714-8ec91986422c');\n",
       "               $d.width(600); $d.height(400);\n",
       "               $d.jgraph = jQuery.extend({}, jgraph);\n",
       "               $d.jgraph.create($d, {nodeSize: 2.000000,\n",
       "                                     edgeSize: 0.250000,\n",
       "                                     defaultNodeColor: '0x5bc0de',\n",
       "                                     defaultEdgeColor: '0xaaaaaa',\n",
       "                                     shader: 'basic',\n",
       "                                     z: 100,\n",
       "                                     runOptimization: true,\n",
       "                                     directed: true,\n",
       "                                     showSave: false});\n",
       "               $d.jgraph.draw({\n",
       "    \"edges\": [\n",
       "        { \"source\": \"HOHHONNH\", \"target\": \"HOHHONNH->HNOH\" },\n",
       "        { \"source\": \"HOHHONNH\", \"target\": \"HOHHONNH->H+HOHONNH\" },\n",
       "        { \"source\": \"HOHHONNH\", \"target\": \"HOHHONNH->H+OHHONNH\" },\n",
       "        { \"source\": \"HOHHONNH\", \"target\": \"HOHHONNH->HOHNNH+OH\" },\n",
       "        { \"source\": \"HOHHONNH->H+HOHONNH\", \"target\": \"H\" },\n",
       "        { \"source\": \"HOHHONNH->H+HOHONNH\", \"target\": \"HOHONNH\" },\n",
       "        { \"source\": \"HOHHONNH->HNOH\", \"target\": \"HNOH\" },\n",
       "        { \"source\": \"HOHHONNH->H+OHHONNH\", \"target\": \"H\" },\n",
       "        { \"source\": \"HOHHONNH->H+OHHONNH\", \"target\": \"OHHONNH\" },\n",
       "        { \"source\": \"HOHHONNH->HOHNNH+OH\", \"target\": \"HOHNNH\" },\n",
       "        { \"source\": \"HOHHONNH->HOHNNH+OH\", \"target\": \"OH\" }\n",
       "    ],\n",
       "    \"nodes\": {\n",
       "        \"H\": { \".label\": \"H\", \"color\": \"0x0000ff\", \"description\": \"H\", \"label\": \"H\", \"size\": 1 },\n",
       "        \"HNOH\": { \".label\": \"HNOH\", \"color\": \"0x0000ff\", \"description\": \"HNOH\", \"label\": \"HNOH\", \"size\": 1 },\n",
       "        \"HOHHONNH\": { \".label\": \"HOHHONNH\", \"color\": \"0x0000ff\", \"description\": \"HOHHONNH\", \"label\": \"HOHHONNH\", \"size\": 1 },\n",
       "        \"HOHHONNH->H+HOHONNH\": { \".label\": \"HOHHONNH->H+HOHONNH\", \"color\": \"0x000000\", \"description\": \"HOHHONNH->H+HOHONNH\", \"label\": \"HOHHONNH->H+HOHONNH\", \"size\": 0.250000 },\n",
       "        \"HOHHONNH->H+OHHONNH\": { \".label\": \"HOHHONNH->H+OHHONNH\", \"color\": \"0x000000\", \"description\": \"HOHHONNH->H+OHHONNH\", \"label\": \"HOHHONNH->H+OHHONNH\", \"size\": 0.250000 },\n",
       "        \"HOHHONNH->HNOH\": { \".label\": \"HOHHONNH->HNOH\", \"color\": \"0x000000\", \"description\": \"HOHHONNH->HNOH\", \"label\": \"HOHHONNH->HNOH\", \"size\": 0.250000 },\n",
       "        \"HOHHONNH->HOHNNH+OH\": { \".label\": \"HOHHONNH->HOHNNH+OH\", \"color\": \"0x000000\", \"description\": \"HOHHONNH->HOHNNH+OH\", \"label\": \"HOHHONNH->HOHNNH+OH\", \"size\": 0.250000 },\n",
       "        \"HOHNNH\": { \".label\": \"HOHNNH\", \"color\": \"0x0000ff\", \"description\": \"HOHNNH\", \"label\": \"HOHNNH\", \"size\": 1 },\n",
       "        \"HOHONNH\": { \".label\": \"HOHONNH\", \"color\": \"0x0000ff\", \"description\": \"HOHONNH\", \"label\": \"HOHONNH\", \"size\": 1 },\n",
       "        \"OH\": { \".label\": \"OH\", \"color\": \"0x0000ff\", \"description\": \"OH\", \"label\": \"OH\", \"size\": 1 },\n",
       "        \"OHHONNH\": { \".label\": \"OHHONNH\", \"color\": \"0x0000ff\", \"description\": \"OHHONNH\", \"label\": \"OHHONNH\", \"size\": 1 }\n",
       "    }\n",
       "});\n",
       "\n",
       "               $d.resizable({\n",
       "                   aspectRatio: 600 / 400,\n",
       "                   resize: function (evt, ui) {\n",
       "                       $d.jgraph.renderer.setSize(ui.size.width,\n",
       "                                                  ui.size.height);\n",
       "                   }\n",
       "               });\n",
       "           });\n",
       "           </script>"
      ],
      "text/plain": [
       "<IPython.core.display.HTML object>"
      ]
     },
     "metadata": {},
     "output_type": "display_data"
    }
   ],
   "source": [
    "ONNO = MolGraph().generate('ONNO','smi') #generate ONNO\n",
    "rxns = scissions(ONNO)\n",
    "\n",
    "rxns_list = []\n",
    "for rxn in rxns:\n",
    "    products = [rxn.node[p]['graph'] for p in rxn.nodes() if rxn.node[p]['type']=='molecule' and rxn.node[p]['molecule_type']=='product']\n",
    "    reactants = [rxn.node[p]['graph'] for p in rxn.nodes() if rxn.node[p]['type']=='molecule' and rxn.node[p]['molecule_type']=='reactant']\n",
    "    rxns_list.append([reactants, products])\n",
    "\n",
    "all_rxns = RxnGraph()\n",
    "all_rxns.from_rxn_list(rxns_list)\n",
    "\n",
    "print(all_rxns)\n",
    "jgraph.draw(all_rxns.to_jgraph())"
   ]
  },
  {
   "cell_type": "markdown",
   "metadata": {},
   "source": [
    "Next we can look at the entire reaction network for conversion of N2, H2O, and O2 to NH3, NO, and NH2OH with the largest intermediate species being HONHNHOH, HONHNH2, or NH2NH2."
   ]
  },
  {
   "cell_type": "code",
   "execution_count": 3,
   "metadata": {},
   "outputs": [
    {
     "name": "stdout",
     "output_type": "stream",
     "text": [
      "Recursing on:\n",
      "['OH', 'OHOHNNH', 'HOHNNH', 'HOHONNH', 'HONH', 'HOHNNH', 'HHNNH', 'HNH', 'HHNNOH', 'OHNH']\n",
      "Recursing on:\n",
      "['OHNNH', 'OHONNH', 'ONH', 'OOHNNH', 'HONNOH', 'HONNH', 'NH', 'HNNH', 'HONNH', 'NOH', 'HONNOH', 'HONNH', 'HNNH']\n",
      "Recursing on:\n",
      "['ONNH', 'ONNH', 'OONNH', 'ONNOH', 'NNOH', 'NNH']\n",
      "Recursing on:\n",
      "['ONN', 'OONN']\n"
     ]
    }
   ],
   "source": [
    "ONNO = MolGraph().generate('ONNO','smi') #generate ONNO\n",
    "ONN = MolGraph().generate('ONN','smi') #generate ONN\n",
    "N2H4 = MolGraph().generate('NN','smi') #generate N2H4\n",
    "NH3 = MolGraph().generate('[NH3]','smi') #generate NH3\n",
    "H2O = MolGraph().generate('[OH2]','smi') #generate H2O\n",
    "O2 = MolGraph().generate('O=O','smi') #generate O2\n",
    "N2 = MolGraph().generate('N#N','smi') #generate N2\n",
    "H2 = MolGraph().generate('[HH]','smi') #generate H2\n",
    "NH2OH = MolGraph().generate('NO','smi') #generate NH2OH\n",
    "NO = MolGraph().generate('[N]=O','smi') #generate NO\n",
    "\n",
    "global_reactants = [H2O, N2, O2]\n",
    "key_intermediates = [ONNO, ONN, N2H4]\n",
    "global_products = [NO,NH3, NH2OH]\n",
    "\n",
    "rxns = recursive_scissions(global_reactants+key_intermediates+global_products)\n",
    "#rxns = recursive_scissions([ONNO])\n",
    "\n",
    "rxns_list = []\n",
    "for rxn in rxns:\n",
    "    products = [rxn.node[p]['graph'] for p in rxn.nodes() if rxn.node[p]['type']=='molecule' and rxn.node[p]['molecule_type']=='product']\n",
    "    reactants = [rxn.node[p]['graph'] for p in rxn.nodes() if rxn.node[p]['type']=='molecule' and rxn.node[p]['molecule_type']=='reactant']\n",
    "    rxns_list.append([reactants, products])\n",
    "\n",
    "all_rxns = RxnGraph()\n",
    "all_rxns.from_rxn_list(rxns_list)\n",
    "species = [all_rxns.node[m]['graph'] for m in all_rxns.nodes() if all_rxns.node[m]['type'] == 'molecule']"
   ]
  },
  {
   "cell_type": "markdown",
   "metadata": {},
   "source": [
    "Note that this takes a bit of time since it needs to recurse through several layers. Before we visualize the network we can first look at all the species involved. Note that we need to \"sleep\" for 1 second in between to allow the visualization library time to render each graph."
   ]
  },
  {
   "cell_type": "code",
   "execution_count": 4,
   "metadata": {
    "scrolled": true
   },
   "outputs": [
    {
     "name": "stdout",
     "output_type": "stream",
     "text": [
      "species[0] = HONNOH\n",
      "species[1] = OHOHNNH\n",
      "species[2] = NNH\n",
      "species[3] = HONNH(1)\n",
      "species[4] = HOHNNH(1)\n",
      "species[5] = ON\n",
      "species[6] = H\n",
      "species[7] = OHNNH\n",
      "species[8] = OO\n",
      "species[9] = OH\n",
      "species[10] = HNNH\n",
      "species[11] = HONH\n",
      "species[12] = HNNH(1)\n",
      "species[13] = HOHNH\n",
      "species[14] = O\n",
      "species[15] = HHNNH\n",
      "species[16] = ONNOH\n",
      "species[17] = HOH\n",
      "species[18] = NOH\n",
      "species[19] = HOHOHNNH\n",
      "species[20] = OHNH\n",
      "species[21] = HONNH(2)\n",
      "species[22] = ONNH\n",
      "species[23] = OOHNNH\n",
      "species[24] = HNH\n",
      "species[25] = HOHNNH\n",
      "species[26] = NH\n",
      "species[27] = NN\n",
      "species[28] = OONNH\n",
      "species[29] = HHNH\n",
      "species[30] = HONNH\n",
      "species[31] = HONNOH(1)\n",
      "species[32] = N\n",
      "species[33] = NNOH\n",
      "species[34] = HHNNOH\n",
      "species[35] = OHONNH\n",
      "species[36] = ONH\n",
      "species[37] = ONN\n",
      "species[38] = ONNH(1)\n",
      "species[39] = HOHONNH\n",
      "species[40] = HHNHNOH\n",
      "species[41] = OONN\n",
      "species[42] = HHHNNH\n"
     ]
    }
   ],
   "source": [
    "for i, sp in enumerate(species):\n",
    "    print('species[{}] = {}'.format(i,sp))\n",
    "    json = sp.to_dict()"
   ]
  },
  {
   "cell_type": "markdown",
   "metadata": {},
   "source": [
    "These species compries the full reaction network. Let's see how many species and reactions are involved."
   ]
  },
  {
   "cell_type": "code",
   "execution_count": 5,
   "metadata": {},
   "outputs": [
    {
     "name": "stdout",
     "output_type": "stream",
     "text": [
      "Total # of species: 43\n",
      "Total # of reactions: 160\n"
     ]
    }
   ],
   "source": [
    "print('Total # of species: {}'.format(len(species)))\n",
    "print('Total # of reactions: {}'.format(len(all_rxns)))"
   ]
  },
  {
   "cell_type": "markdown",
   "metadata": {},
   "source": [
    "This means that to get a comprehensive picture of the reaction network we need the energies for 43 species. If we wanted to build a full kinetic model we would also need 160 reaction barriers, which is borderline intractible. Next, we can classify the different reactions to make more sense of what is going on."
   ]
  },
  {
   "cell_type": "code",
   "execution_count": 6,
   "metadata": {},
   "outputs": [
    {
     "name": "stdout",
     "output_type": "stream",
     "text": [
      "H-N_scission\n",
      "O-O_scission\n",
      "H-O_scission\n",
      "N-O_scission\n",
      "N-N_scission\n"
     ]
    }
   ],
   "source": [
    "all_rxns.classify_rxns()\n",
    "rxn_classes = [all_rxns.node[n].get('reaction_type',None) for n in all_rxns.nodes()] #get classifications\n",
    "rxn_classes = list(set(rxn_classes)) # remove duplicates\n",
    "rxn_classes.remove(None) # remove None artifact\n",
    "for c in rxn_classes:\n",
    "    print(c)"
   ]
  },
  {
   "cell_type": "markdown",
   "metadata": {},
   "source": [
    "Note that all of the reactions are scissions, since the algorithm only knows how to break bonds. An algorithm that knows how to *make* bonds would require significantly more knowledge of chemistry, so it is easier to work backwards. However, we know that in the final system we will need some coupling reactions, some scission reactions, and some bidirectional reactions. We can use the \"reverse_rxn\" function along with some heuristics to try to make the network look a bit more like we would expect. In this case we will stipulate that the intermediates grow prior to N-N scission, and shrink afterward."
   ]
  },
  {
   "cell_type": "code",
   "execution_count": 7,
   "metadata": {
    "collapsed": true
   },
   "outputs": [],
   "source": [
    "rxns = [n for n in all_rxns.nodes() if all_rxns.node[n]['type'] == 'reaction']\n",
    "\n",
    "for rxn in rxns:\n",
    "    reacts, prods = all_rxns.get_reactants_products(rxn)\n",
    "    rxn_type = all_rxns.node[rxn]['reaction_type']\n",
    "    react_composition = {}\n",
    "    prod_composition = {}\n",
    "    for r in reacts:\n",
    "        react_composition = r.composition(react_composition) #cumulative reactant composition\n",
    "    for r in prods:\n",
    "        prod_composition = r.composition(prod_composition) #cumulative product composition\n",
    "        \n",
    "    if react_composition.get('N',0) == 2:\n",
    "        #reactions before N-N bond scission\n",
    "        if rxn_type not in ['N-N_scission','H-H_scission']:\n",
    "            all_rxns.reverse_rxn(rxn,remove=True) #make N2-H and N2-O scissions into couplings\n",
    "        elif True in [r in global_products for r in reactants]:\n",
    "            all_rxns.reverse_rxn(rxn,remove=True) #Make sure global products are also local products"
   ]
  },
  {
   "cell_type": "markdown",
   "metadata": {},
   "source": [
    "Now everything before N-N scission is a \"coupling\" (hydrogenation, hydroxylation, oxygenation). We can check that the reaction classes updated accordingly."
   ]
  },
  {
   "cell_type": "code",
   "execution_count": 8,
   "metadata": {
    "scrolled": true
   },
   "outputs": [
    {
     "name": "stdout",
     "output_type": "stream",
     "text": [
      "H-N_scission\n",
      "H-O_coupling\n",
      "O-O_scission\n",
      "H-N_coupling\n",
      "N-O_coupling\n",
      "H-O_scission\n",
      "N-O_scission\n",
      "N-N_scission\n"
     ]
    }
   ],
   "source": [
    "rxn_classes = [all_rxns.node[n].get('reaction_type',None) for n in all_rxns.nodes()] #get classifications\n",
    "rxn_classes = list(set(rxn_classes)) # remove duplicates\n",
    "rxn_classes.remove(None) # remove None artifact\n",
    "for c in rxn_classes:\n",
    "    print(c)"
   ]
  },
  {
   "cell_type": "markdown",
   "metadata": {},
   "source": [
    "Next we can specify some visualization parameters and take a look at the network.   "
   ]
  },
  {
   "cell_type": "code",
   "execution_count": 9,
   "metadata": {
    "collapsed": true
   },
   "outputs": [],
   "source": [
    "#identify global products/reactants and key intermediates\n",
    "for sp in species:\n",
    "    if sp in global_reactants:\n",
    "        all_rxns.node[str(sp)]['molecule_type'] = 'global_reactant'\n",
    "    if sp in key_intermediates:\n",
    "        all_rxns.node[str(sp)]['molecule_type'] = 'key_intermediate'\n",
    "    if sp in global_products:\n",
    "        all_rxns.node[str(sp)]['molecule_type'] = 'global_product'\n",
    "\n",
    "#make global products/reactants and key intermediates filled\n",
    "glob_reac_dict = {'color':'green','style':'filled','fillcolor':'green'}\n",
    "key_int_dict = {'color':'orange','style':'filled','fillcolor':'orange'}\n",
    "glob_prod_dict={'color':'red','style':'filled', 'fillcolor':'red'}\n",
    "\n",
    "#set the format for these molecule_type's\n",
    "all_rxns.graphviz_format['global_reactant'] = glob_reac_dict\n",
    "all_rxns.graphviz_format['global_product'] = glob_prod_dict\n",
    "all_rxns.graphviz_format['key_intermediate'] = key_int_dict\n",
    "\n",
    "#make N-N scissions red\n",
    "all_rxns.graphviz_format['N-N_scission'] = {'color':'red'}\n",
    "\n",
    "#make N-O coupling/scissions blue/cyan\n",
    "all_rxns.graphviz_format['N-O_coupling'] = {'color':'blue'}\n",
    "all_rxns.graphviz_format['N-O_scission'] = {'color':'cyan'}\n",
    "\n",
    "#apply formatting to graph and convert to graphviz string\n",
    "all_rxns.format_graphviz()\n",
    "agraph = all_rxns.to_agraph()"
   ]
  },
  {
   "cell_type": "markdown",
   "metadata": {},
   "source": [
    "Now we will visualize the network. Note that graphviz writes files out directly, so we will need to read it back in."
   ]
  },
  {
   "cell_type": "code",
   "execution_count": 10,
   "metadata": {},
   "outputs": [
    {
     "data": {
      "image/png": "[encoded data removed]",
      "text/plain": [
       "<matplotlib.figure.Figure at 0x7fe502862d10>"
      ]
     },
     "metadata": {},
     "output_type": "display_data"
    }
   ],
   "source": [
    "import pygraphviz as pgv\n",
    "import matplotlib.pylab as plt\n",
    "import matplotlib.image as mpimg\n",
    "G = pgv.AGraph(agraph)\n",
    "G.draw('N-O-H_network.png',prog='dot')\n",
    "img = mpimg.imread('N-O-H_network.png')\n",
    "plt.imshow(img)\n",
    "plt.show()"
   ]
  },
  {
   "cell_type": "markdown",
   "metadata": {
    "collapsed": true
   },
   "source": [
    "This is totally unreadable in the notebook, but you can see that it is complex. Opening the file directly will make it a bit easier to make sense of, but the reality is that these networks are complex and difficult to interpret. Further analysis is needed to boil these down to something simpler."
   ]
  }
 ],
 "metadata": {
  "anaconda-cloud": {},
  "kernelspec": {
   "display_name": "Python [conda env:rxngraph]",
   "language": "python",
   "name": "conda-env-rxngraph-py"
  },
  "language_info": {
   "codemirror_mode": {
    "name": "ipython",
    "version": 2
   },
   "file_extension": ".py",
   "mimetype": "text/x-python",
   "name": "python",
   "nbconvert_exporter": "python",
   "pygments_lexer": "ipython2",
   "version": "2.7.13"
  }
 },
 "nbformat": 4,
 "nbformat_minor": 2
}
